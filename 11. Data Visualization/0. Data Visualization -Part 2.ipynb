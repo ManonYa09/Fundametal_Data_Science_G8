{
 "cells": [
  {
   "cell_type": "markdown",
   "id": "df59df8a",
   "metadata": {},
   "source": [
    "<div style=\"padding:20px;\n",
    "            color:white;\n",
    "            margin:10;\n",
    "            font-size:170%;\n",
    "            text-align:left;\n",
    "            display:fill;\n",
    "            border-radius:5px;\n",
    "            background-color:#CA6F1E;\n",
    "            overflow:hidden;\n",
    "            font-weight:700\"><span style='color:#283747'></span>\"Table of Contents\" </div>"
   ]
  },
  {
   "cell_type": "markdown",
   "id": "1a2a422d",
   "metadata": {},
   "source": [
    "\n",
    "<a id=\"toc\"></a> \n",
    "<div class=\"alert alert-block alert-info\" style=\"margin-top: 20px\">\n",
    "<hr>\n",
    "\n",
    "- [1. Introduction to Data Visualization](#introduction)\n",
    "- [2. The 3 key Questions](#threequestions)\n",
    "    \n",
    "- [3. Introduction to Matplotlib](#introduction_to_matploblib) \n",
    "    \n",
    "    - [3.1 Meet Matploblib](#function_plot)\n",
    "       \n",
    "    - [3.2 Compatable Data Types ](#bar_graph)\n",
    "        \n",
    "    - [3.4 Plotting Methods](#1.1)\n",
    "      \n",
    "    - [3.5 OBJECT-ORIENTED PLOTTING]()\n",
    "        \n",
    "- [4. Chart Formatting](#peichart)\n",
    "  \n",
    "    - [Chart Tittle](#chart_title)\n",
    "    - [Font Size](#font_size)\n",
    "    - [Legend](#legend)\n",
    "    - [Line Style](#line_style)\n",
    "- [5. Chart Types](#chart_types)  \n",
    "<hr>"
   ]
  },
  {
   "cell_type": "code",
   "execution_count": null,
   "id": "4aa0d299-ccd3-4196-8859-b3fad50fe6b7",
   "metadata": {},
   "outputs": [],
   "source": []
  },
  {
   "cell_type": "markdown",
   "id": "78f2068e-5a3b-4eef-a52e-6dc478aa33c3",
   "metadata": {},
   "source": [
    "<a id='introduction'></a>\n",
    "\n",
    "## <b>1. <span style='color:#00008B'>Why is data visualization important?</span></b>\n",
    "\n",
    "<div style=\"text-align: center;\">\n",
    "    <img src=\"https://raw.githubusercontent.com/ManonYa09/Fundametal_Data_Science_G8/main/11.%20Data%20Visualization/Photo/0.%20Introduction%20to%20Data%20Visualization.jpg\" alt=\"Introduction to Data Visualization\" width=\"1000\">\n",
    "</div>\n",
    "\n",
    "### Additional way, it provides an excellent way for employees or business owners to present data to non-technical audiences without confusion."
   ]
  },
  {
   "cell_type": "markdown",
   "id": "b5cc50a9-a778-40dc-a48b-c5f4641a8cf6",
   "metadata": {},
   "source": [
    "### 1.1 Why Data Visualization with python?\n",
    "\n",
    "- Python is Easy to Learn and Has a Strong Community\n",
    "- Python Has Numerous Libraries for Data Visualization\n",
    "- Python Supports Complex Calculations and Plotting\n",
    "- Data Visualization is a Key Step in the Data Science Process\n",
    "- Visualization for Advanced Applications (Machine Learning and Deep Learning)\n"
   ]
  },
  {
   "cell_type": "markdown",
   "id": "144828dc-6d25-4187-9f33-a6da02663614",
   "metadata": {},
   "source": [
    "\n",
    "## <b>2. <span style='color:#00008B'>The 3 key Questions</span></b>"
   ]
  },
  {
   "cell_type": "markdown",
   "id": "889c7d0f-9ee3-43f8-bf29-6204c4081864",
   "metadata": {},
   "source": [
    "<div style=\"text-align: center;\">\n",
    "    <img src=\"https://raw.githubusercontent.com/ManonYa09/Fundametal_Data_Science_G8/main/11.%20Data%20Visualization/Photo/1.%203%20key%20questions.jpg\" width=\"1000\">\n",
    "</div>"
   ]
  },
  {
   "cell_type": "markdown",
   "id": "f24e6720-48be-4a72-ba17-5bdfbd6f624e",
   "metadata": {},
   "source": [
    "<a id='introduction_to_matploblib'></a>\n",
    "<div style=\"padding:20px;\n",
    "            color:white;\n",
    "            margin:10;\n",
    "            font-size:170%;\n",
    "            text-align:left;\n",
    "            display:fill;\n",
    "            border-radius:5px;\n",
    "            background-color:#CA6F1E;\n",
    "            overflow:hidden;\n",
    "            font-weight:700\"><span style='color:#283747'></span>3. Introduction to Matplotlib </div>"
   ]
  },
  {
   "cell_type": "markdown",
   "id": "45448ed2-9ced-4fcb-99c1-18c5c0469249",
   "metadata": {},
   "source": [
    "<div style=\"text-align: center;\">\n",
    "    <img src=\"https://raw.githubusercontent.com/ManonYa09/Fundametal_Data_Science_G8/main/11.%20Data%20Visualization/Photo/2.%20Introduction%20to%20Matplotlib.jpg\" alt=\"Introduction to Data Visualization\" width=\"1000\">\n",
    "</div>"
   ]
  },
  {
   "cell_type": "markdown",
   "id": "f87d836b",
   "metadata": {},
   "source": [
    "Matplotlib is the `grandfather` library of data visualization with Python. It was created by **John Hunter**. He created it to try to replicate MatLab's (another programming language) plotting capabilities in Python. So if you happen to be familiar with matlab, matplotlib will feel natural to you.\n",
    "\n",
    "Matplotlib allows you to create reproducible figures programmatically. http://matplotlib.org/"
   ]
  },
  {
   "cell_type": "code",
   "execution_count": 10,
   "id": "8ebc29e8-17ed-4041-a725-13716e297f1c",
   "metadata": {},
   "outputs": [],
   "source": [
    "import pandas as pd\n",
    "import matplotlib.pyplot as plt\n",
    "import numpy as np"
   ]
  },
  {
   "cell_type": "markdown",
   "id": "16e6975d-449a-4c24-9aeb-d2e3c9b521be",
   "metadata": {},
   "source": [
    "### 3.1 Meet Matplotlib\n",
    "\n",
    "<div style=\"text-align: center;\">\n",
    "    <img src=\"https://raw.githubusercontent.com/ManonYa09/Fundametal_Data_Science_G8/main/11.%20Data%20Visualization/Photo/3.%20Meet%20Matplotlib.jpg\" alt=\"Introduction to Data Visualization\" width=\"1000\">\n",
    "</div>"
   ]
  },
  {
   "cell_type": "code",
   "execution_count": 12,
   "id": "2741f5fe-af61-4ecc-9b70-c51235faeae6",
   "metadata": {},
   "outputs": [],
   "source": [
    "import matplotlib.pyplot as plt\n",
    "import seaborn as sns\n",
    "import pandas as pd"
   ]
  },
  {
   "cell_type": "code",
   "execution_count": 13,
   "id": "31030bf0-b90f-4f43-b139-698c8a08c245",
   "metadata": {},
   "outputs": [
    {
     "data": {
      "image/png": "[encoded data removed]",
      "text/plain": [
       "<Figure size 640x480 with 1 Axes>"
      ]
     },
     "metadata": {},
     "output_type": "display_data"
    }
   ],
   "source": [
    "x = [1, 2, 3, 5, 8, 7]\n",
    "y = [0, 1, 4, 9, 16, 25]\n",
    "plt.plot(x,y, 'bo' )\n",
    "plt.show()"
   ]
  },
  {
   "cell_type": "markdown",
   "id": "d3403ce2",
   "metadata": {},
   "source": [
    "```py\n",
    "plot([x], y, [fmt], *, data=None, **kwargs)\n",
    "plot([x], y, [fmt], [x2], y2, [fmt2], ..., **kwargs)\n",
    "\n",
    "```\n"
   ]
  },
  {
   "cell_type": "markdown",
   "id": "0613aefa-d71a-440a-a99e-4d2621cd1080",
   "metadata": {},
   "source": [
    "### 3.2 Compatable Data types\n",
    "<div style=\"text-align: center;\">\n",
    "    <img src=\"https://raw.githubusercontent.com/ManonYa09/Fundametal_Data_Science_G8/main/11.%20Data%20Visualization/Photo/4.%20Matplotlib%20with%20data%20types.jpg\" alt=\"Introduction to Data Visualization\" width=\"1000\">\n",
    "</div>"
   ]
  },
  {
   "cell_type": "markdown",
   "id": "b7170f00-b5fd-4dc6-b697-6b2e9edb95db",
   "metadata": {},
   "source": [
    "### 3.4 Plotting Methods \n",
    "<div style=\"text-align: center;\">\n",
    "    <img src=\"https://raw.githubusercontent.com/ManonYa09/Fundametal_Data_Science_G8/main/11.%20Data%20Visualization/Photo/5.%20Two%20method%20or%20interface%20for%20martplotlib.jpg\" alt=\"Introduction to Data Visualization\" width=\"1000\">\n",
    "</div>"
   ]
  },
  {
   "cell_type": "code",
   "execution_count": 17,
   "id": "524fa4fb-9b12-44b0-ab41-34f8811b2011",
   "metadata": {},
   "outputs": [
    {
     "ename": "TypeError",
     "evalue": "bar() missing 2 required positional arguments: 'x' and 'height'",
     "output_type": "error",
     "traceback": [
      "\u001b[0;31m---------------------------------------------------------------------------\u001b[0m",
      "\u001b[0;31mTypeError\u001b[0m                                 Traceback (most recent call last)",
      "Cell \u001b[0;32mIn[17], line 1\u001b[0m\n\u001b[0;32m----> 1\u001b[0m plt\u001b[38;5;241m.\u001b[39mbar()\n\u001b[1;32m      2\u001b[0m plt\u001b[38;5;241m.\u001b[39mhist()\n\u001b[1;32m      3\u001b[0m plt\u001b[38;5;241m.\u001b[39mpie()\n",
      "\u001b[0;31mTypeError\u001b[0m: bar() missing 2 required positional arguments: 'x' and 'height'"
     ]
    }
   ],
   "source": [
    "plt.bar()\n",
    "plt.hist()\n",
    "plt.pie()"
   ]
  },
  {
   "cell_type": "code",
   "execution_count": null,
   "id": "bcf64101-f396-4989-b603-25a179dd0dbe",
   "metadata": {},
   "outputs": [],
   "source": [
    "plt.figure(figsize=(12, 4))\n",
    "plt.plot(x,y)"
   ]
  },
  {
   "cell_type": "code",
   "execution_count": null,
   "id": "8de34af6-72ed-4fe0-b24e-ba7caac3d3df",
   "metadata": {},
   "outputs": [],
   "source": [
    "fig = plt.figure()\n",
    "ax = fig.add_subplot()\n",
    "ax.plot(y)"
   ]
  },
  {
   "cell_type": "code",
   "execution_count": null,
   "id": "347c9efe-3e4f-435b-9f15-26ea65877a92",
   "metadata": {},
   "outputs": [],
   "source": [
    "plt.plot(y)"
   ]
  },
  {
   "cell_type": "markdown",
   "id": "5f087a98-9548-43a0-94e9-288b79a62fae",
   "metadata": {},
   "source": [
    "### 3.5 OBJECT-ORIENTED PLOTTING\n",
    "<div style=\"text-align: center;\">\n",
    "    <img src=\"https://raw.githubusercontent.com/ManonYa09/Fundametal_Data_Science_G8/main/11.%20Data%20Visualization/Photo/6.%20two%20ways.jpg\" alt=\"Introduction to Data Visualization\" width=\"1000\">\n",
    "</div>"
   ]
  },
  {
   "cell_type": "code",
   "execution_count": null,
   "id": "70e9456c-0c44-448e-932b-4d8768c1b2d9",
   "metadata": {},
   "outputs": [],
   "source": [
    "fig, ax =plt.subplots( figsize = (10, 4))\n",
    "ax.plot(y)\n",
    "# plt.savefig()\n",
    "# fig.savefig();"
   ]
  },
  {
   "cell_type": "markdown",
   "id": "c4de2ee8",
   "metadata": {},
   "source": [
    "<a id='chart_formatting'></a>\n",
    "## 4. Chart Formatting\n",
    "<div style=\"text-align: center;\">\n",
    "    <img src=\"https://raw.githubusercontent.com/ManonYa09/Fundametal_Data_Science_G8/main/11.%20Data%20Visualization/Photo/29.jpg\" alt=\"Introduction to Data Visualization\" width=\"1000\">\n",
    "</div>"
   ]
  },
  {
   "cell_type": "markdown",
   "id": "c8db9011-53aa-404e-9981-4fc5dc89a516",
   "metadata": {},
   "source": [
    "### 4.1 Chart Tittle "
   ]
  },
  {
   "cell_type": "markdown",
   "id": "044f504c-3693-4a82-b134-acdcc97850cc",
   "metadata": {},
   "source": [
    "<div style=\"text-align: center;\">\n",
    "    <img src=\"https://raw.githubusercontent.com/ManonYa09/Fundametal_Data_Science_G8/main/11.%20Data%20Visualization/Photo/30.jpg\" alt=\"Introduction to Data Visualization\" width=\"1000\">\n",
    "</div>\n"
   ]
  },
  {
   "cell_type": "code",
   "execution_count": null,
   "id": "03503c3a-9623-4377-a1b9-f82c84931ced",
   "metadata": {},
   "outputs": [],
   "source": [
    "fig , ax = plt.subplots()\n",
    "ax.plot(y)\n",
    "ax.set_ylabel('Y Label')\n",
    "ax.set_xlabel('X Label')\n",
    "ax.set_title('Set Title');"
   ]
  },
  {
   "cell_type": "code",
   "execution_count": 56,
   "id": "6671d736-72a2-4846-a88f-85d9c986616a",
   "metadata": {},
   "outputs": [],
   "source": [
    "import pandas as pd"
   ]
  },
  {
   "cell_type": "code",
   "execution_count": 58,
   "id": "081f9021-5f3e-4578-9b30-4ac218714215",
   "metadata": {},
   "outputs": [],
   "source": [
    "df = pd.read_csv('/Users/macbook/Desktop/Fundamental Data Science G8/Data Analysis with Pandas/Housing_data.csv')"
   ]
  },
  {
   "cell_type": "code",
   "execution_count": 62,
   "id": "f2883e2d-72db-41d7-bb6c-38e14398eb1a",
   "metadata": {},
   "outputs": [
    {
     "data": {
      "text/html": [
       "<div>\n",
       "<style scoped>\n",
       "    .dataframe tbody tr th:only-of-type {\n",
       "        vertical-align: middle;\n",
       "    }\n",
       "\n",
       "    .dataframe tbody tr th {\n",
       "        vertical-align: top;\n",
       "    }\n",
       "\n",
       "    .dataframe thead th {\n",
       "        text-align: right;\n",
       "    }\n",
       "</style>\n",
       "<table border=\"1\" class=\"dataframe\">\n",
       "  <thead>\n",
       "    <tr style=\"text-align: right;\">\n",
       "      <th></th>\n",
       "      <th>region_name</th>\n",
       "      <th>period_begin</th>\n",
       "      <th>period_end</th>\n",
       "      <th>total_homes_sold</th>\n",
       "      <th>inventory</th>\n",
       "      <th>active_listings</th>\n",
       "      <th>age_of_inventory</th>\n",
       "      <th>median_active_list_price</th>\n",
       "      <th>months_of_supply</th>\n",
       "    </tr>\n",
       "  </thead>\n",
       "  <tbody>\n",
       "    <tr>\n",
       "      <th>0</th>\n",
       "      <td>Appling County, GA</td>\n",
       "      <td>2020-04-27</td>\n",
       "      <td>2020-07-19</td>\n",
       "      <td>NaN</td>\n",
       "      <td>1.0</td>\n",
       "      <td>1.0</td>\n",
       "      <td>222.7</td>\n",
       "      <td>136195.8</td>\n",
       "      <td>NaN</td>\n",
       "    </tr>\n",
       "    <tr>\n",
       "      <th>1</th>\n",
       "      <td>Tooele County, UT</td>\n",
       "      <td>2018-08-27</td>\n",
       "      <td>2018-11-18</td>\n",
       "      <td>325.0</td>\n",
       "      <td>NaN</td>\n",
       "      <td>NaN</td>\n",
       "      <td>NaN</td>\n",
       "      <td>NaN</td>\n",
       "      <td>NaN</td>\n",
       "    </tr>\n",
       "    <tr>\n",
       "      <th>2</th>\n",
       "      <td>Johnson County, TX</td>\n",
       "      <td>2019-09-23</td>\n",
       "      <td>2019-12-15</td>\n",
       "      <td>577.0</td>\n",
       "      <td>717.0</td>\n",
       "      <td>778.0</td>\n",
       "      <td>63.0</td>\n",
       "      <td>268737.6</td>\n",
       "      <td>17.095583</td>\n",
       "    </tr>\n",
       "    <tr>\n",
       "      <th>3</th>\n",
       "      <td>Holmes County, OH</td>\n",
       "      <td>2017-10-09</td>\n",
       "      <td>2017-12-31</td>\n",
       "      <td>22.0</td>\n",
       "      <td>52.0</td>\n",
       "      <td>54.0</td>\n",
       "      <td>109.4</td>\n",
       "      <td>115308.3</td>\n",
       "      <td>34.050000</td>\n",
       "    </tr>\n",
       "    <tr>\n",
       "      <th>4</th>\n",
       "      <td>Madison County, FL</td>\n",
       "      <td>2017-01-09</td>\n",
       "      <td>2017-04-02</td>\n",
       "      <td>12.0</td>\n",
       "      <td>54.0</td>\n",
       "      <td>55.0</td>\n",
       "      <td>151.2</td>\n",
       "      <td>158062.5</td>\n",
       "      <td>38.300000</td>\n",
       "    </tr>\n",
       "  </tbody>\n",
       "</table>\n",
       "</div>"
      ],
      "text/plain": [
       "          region_name period_begin  period_end  total_homes_sold  inventory  \\\n",
       "0  Appling County, GA   2020-04-27  2020-07-19               NaN        1.0   \n",
       "1   Tooele County, UT   2018-08-27  2018-11-18             325.0        NaN   \n",
       "2  Johnson County, TX   2019-09-23  2019-12-15             577.0      717.0   \n",
       "3   Holmes County, OH   2017-10-09  2017-12-31              22.0       52.0   \n",
       "4  Madison County, FL   2017-01-09  2017-04-02              12.0       54.0   \n",
       "\n",
       "   active_listings  age_of_inventory  median_active_list_price  \\\n",
       "0              1.0             222.7                  136195.8   \n",
       "1              NaN               NaN                       NaN   \n",
       "2            778.0              63.0                  268737.6   \n",
       "3             54.0             109.4                  115308.3   \n",
       "4             55.0             151.2                  158062.5   \n",
       "\n",
       "   months_of_supply  \n",
       "0               NaN  \n",
       "1               NaN  \n",
       "2         17.095583  \n",
       "3         34.050000  \n",
       "4         38.300000  "
      ]
     },
     "execution_count": 62,
     "metadata": {},
     "output_type": "execute_result"
    }
   ],
   "source": [
    "df.head()"
   ]
  },
  {
   "cell_type": "code",
   "execution_count": 64,
   "id": "49fe0356-f65f-436c-ae01-7e8e7c748309",
   "metadata": {},
   "outputs": [
    {
     "name": "stdout",
     "output_type": "stream",
     "text": [
      "<class 'pandas.core.frame.DataFrame'>\n",
      "RangeIndex: 622339 entries, 0 to 622338\n",
      "Data columns (total 9 columns):\n",
      " #   Column                    Non-Null Count   Dtype  \n",
      "---  ------                    --------------   -----  \n",
      " 0   region_name               622339 non-null  object \n",
      " 1   period_begin              622339 non-null  object \n",
      " 2   period_end                622339 non-null  object \n",
      " 3   total_homes_sold          567839 non-null  float64\n",
      " 4   inventory                 616247 non-null  float64\n",
      " 5   active_listings           616905 non-null  float64\n",
      " 6   age_of_inventory          616247 non-null  float64\n",
      " 7   median_active_list_price  616513 non-null  float64\n",
      " 8   months_of_supply          561319 non-null  float64\n",
      "dtypes: float64(6), object(3)\n",
      "memory usage: 42.7+ MB\n"
     ]
    }
   ],
   "source": [
    "df.info()"
   ]
  },
  {
   "cell_type": "code",
   "execution_count": 66,
   "id": "8a96c5d6-17fa-4039-8d41-856302c03ac6",
   "metadata": {},
   "outputs": [],
   "source": [
    "df.dropna(inplace=True)"
   ]
  },
  {
   "cell_type": "code",
   "execution_count": 68,
   "id": "ea4d9b4d-8e1b-407a-bcf5-e87f24e87213",
   "metadata": {},
   "outputs": [],
   "source": [
    "df['region_state'] = df['region_name'].str.split().str[-1].str.strip()"
   ]
  },
  {
   "cell_type": "code",
   "execution_count": null,
   "id": "46a12728-8c3b-42db-8962-e2bc926fb066",
   "metadata": {},
   "outputs": [],
   "source": [
    "# df[df['region_state']=='CA']"
   ]
  },
  {
   "cell_type": "code",
   "execution_count": 70,
   "id": "83cdd4b5-bb73-4694-ae7d-93fa6b8c402f",
   "metadata": {},
   "outputs": [],
   "source": [
    "ca_housing = df[df['region_state']=='CA']"
   ]
  },
  {
   "cell_type": "code",
   "execution_count": 72,
   "id": "1e5d0432-9920-498c-9896-829c5977f950",
   "metadata": {},
   "outputs": [
    {
     "data": {
      "text/html": [
       "<div>\n",
       "<style scoped>\n",
       "    .dataframe tbody tr th:only-of-type {\n",
       "        vertical-align: middle;\n",
       "    }\n",
       "\n",
       "    .dataframe tbody tr th {\n",
       "        vertical-align: top;\n",
       "    }\n",
       "\n",
       "    .dataframe thead th {\n",
       "        text-align: right;\n",
       "    }\n",
       "</style>\n",
       "<table border=\"1\" class=\"dataframe\">\n",
       "  <thead>\n",
       "    <tr style=\"text-align: right;\">\n",
       "      <th></th>\n",
       "      <th>region_name</th>\n",
       "      <th>period_begin</th>\n",
       "      <th>period_end</th>\n",
       "      <th>total_homes_sold</th>\n",
       "      <th>inventory</th>\n",
       "      <th>active_listings</th>\n",
       "      <th>age_of_inventory</th>\n",
       "      <th>median_active_list_price</th>\n",
       "      <th>months_of_supply</th>\n",
       "      <th>region_state</th>\n",
       "    </tr>\n",
       "  </thead>\n",
       "  <tbody>\n",
       "    <tr>\n",
       "      <th>6</th>\n",
       "      <td>Sacramento County, CA</td>\n",
       "      <td>2020-06-22</td>\n",
       "      <td>2020-09-13</td>\n",
       "      <td>5107.0</td>\n",
       "      <td>1729.0</td>\n",
       "      <td>2206.0</td>\n",
       "      <td>27.5</td>\n",
       "      <td>445540.9</td>\n",
       "      <td>5.235794</td>\n",
       "      <td>CA</td>\n",
       "    </tr>\n",
       "    <tr>\n",
       "      <th>164</th>\n",
       "      <td>Nevada County, CA</td>\n",
       "      <td>2018-09-03</td>\n",
       "      <td>2018-11-25</td>\n",
       "      <td>529.0</td>\n",
       "      <td>480.0</td>\n",
       "      <td>517.0</td>\n",
       "      <td>71.4</td>\n",
       "      <td>557508.3</td>\n",
       "      <td>12.165607</td>\n",
       "      <td>CA</td>\n",
       "    </tr>\n",
       "    <tr>\n",
       "      <th>252</th>\n",
       "      <td>Stanislaus County, CA</td>\n",
       "      <td>2017-06-05</td>\n",
       "      <td>2017-08-27</td>\n",
       "      <td>1572.0</td>\n",
       "      <td>1042.0</td>\n",
       "      <td>1193.0</td>\n",
       "      <td>38.8</td>\n",
       "      <td>320660.0</td>\n",
       "      <td>9.212632</td>\n",
       "      <td>CA</td>\n",
       "    </tr>\n",
       "    <tr>\n",
       "      <th>293</th>\n",
       "      <td>Tehama County, CA</td>\n",
       "      <td>2020-01-20</td>\n",
       "      <td>2020-04-12</td>\n",
       "      <td>102.0</td>\n",
       "      <td>241.0</td>\n",
       "      <td>252.0</td>\n",
       "      <td>99.2</td>\n",
       "      <td>297979.1</td>\n",
       "      <td>31.530228</td>\n",
       "      <td>CA</td>\n",
       "    </tr>\n",
       "    <tr>\n",
       "      <th>304</th>\n",
       "      <td>Stanislaus County, CA</td>\n",
       "      <td>2017-11-13</td>\n",
       "      <td>2018-02-04</td>\n",
       "      <td>1200.0</td>\n",
       "      <td>797.0</td>\n",
       "      <td>907.0</td>\n",
       "      <td>56.5</td>\n",
       "      <td>330049.9</td>\n",
       "      <td>9.744362</td>\n",
       "      <td>CA</td>\n",
       "    </tr>\n",
       "  </tbody>\n",
       "</table>\n",
       "</div>"
      ],
      "text/plain": [
       "               region_name period_begin  period_end  total_homes_sold  \\\n",
       "6    Sacramento County, CA   2020-06-22  2020-09-13            5107.0   \n",
       "164      Nevada County, CA   2018-09-03  2018-11-25             529.0   \n",
       "252  Stanislaus County, CA   2017-06-05  2017-08-27            1572.0   \n",
       "293      Tehama County, CA   2020-01-20  2020-04-12             102.0   \n",
       "304  Stanislaus County, CA   2017-11-13  2018-02-04            1200.0   \n",
       "\n",
       "     inventory  active_listings  age_of_inventory  median_active_list_price  \\\n",
       "6       1729.0           2206.0              27.5                  445540.9   \n",
       "164      480.0            517.0              71.4                  557508.3   \n",
       "252     1042.0           1193.0              38.8                  320660.0   \n",
       "293      241.0            252.0              99.2                  297979.1   \n",
       "304      797.0            907.0              56.5                  330049.9   \n",
       "\n",
       "     months_of_supply region_state  \n",
       "6            5.235794           CA  \n",
       "164         12.165607           CA  \n",
       "252          9.212632           CA  \n",
       "293         31.530228           CA  \n",
       "304          9.744362           CA  "
      ]
     },
     "execution_count": 72,
     "metadata": {},
     "output_type": "execute_result"
    }
   ],
   "source": [
    "ca_housing.head()"
   ]
  },
  {
   "cell_type": "code",
   "execution_count": 74,
   "id": "88652df9-9840-4f38-8476-931e216af760",
   "metadata": {},
   "outputs": [
    {
     "name": "stderr",
     "output_type": "stream",
     "text": [
      "/var/folders/7h/0019w3h141s2b0z27906x13c0000gn/T/ipykernel_10949/1187928345.py:1: SettingWithCopyWarning: \n",
      "A value is trying to be set on a copy of a slice from a DataFrame.\n",
      "Try using .loc[row_indexer,col_indexer] = value instead\n",
      "\n",
      "See the caveats in the documentation: https://pandas.pydata.org/pandas-docs/stable/user_guide/indexing.html#returning-a-view-versus-a-copy\n",
      "  ca_housing['region_name'] = ca_housing['region_name'].str[:-11]\n"
     ]
    }
   ],
   "source": [
    "ca_housing['region_name'] = ca_housing['region_name'].str[:-11]"
   ]
  },
  {
   "cell_type": "code",
   "execution_count": 76,
   "id": "b017317d-0571-4f69-9032-2e6ff015995f",
   "metadata": {},
   "outputs": [
    {
     "data": {
      "text/html": [
       "<div>\n",
       "<style scoped>\n",
       "    .dataframe tbody tr th:only-of-type {\n",
       "        vertical-align: middle;\n",
       "    }\n",
       "\n",
       "    .dataframe tbody tr th {\n",
       "        vertical-align: top;\n",
       "    }\n",
       "\n",
       "    .dataframe thead th {\n",
       "        text-align: right;\n",
       "    }\n",
       "</style>\n",
       "<table border=\"1\" class=\"dataframe\">\n",
       "  <thead>\n",
       "    <tr style=\"text-align: right;\">\n",
       "      <th></th>\n",
       "      <th>region_name</th>\n",
       "      <th>period_begin</th>\n",
       "      <th>period_end</th>\n",
       "      <th>total_homes_sold</th>\n",
       "      <th>inventory</th>\n",
       "      <th>active_listings</th>\n",
       "      <th>age_of_inventory</th>\n",
       "      <th>median_active_list_price</th>\n",
       "      <th>months_of_supply</th>\n",
       "      <th>region_state</th>\n",
       "    </tr>\n",
       "  </thead>\n",
       "  <tbody>\n",
       "    <tr>\n",
       "      <th>6</th>\n",
       "      <td>Sacramento</td>\n",
       "      <td>2020-06-22</td>\n",
       "      <td>2020-09-13</td>\n",
       "      <td>5107.0</td>\n",
       "      <td>1729.0</td>\n",
       "      <td>2206.0</td>\n",
       "      <td>27.5</td>\n",
       "      <td>445540.9</td>\n",
       "      <td>5.235794</td>\n",
       "      <td>CA</td>\n",
       "    </tr>\n",
       "    <tr>\n",
       "      <th>164</th>\n",
       "      <td>Nevada</td>\n",
       "      <td>2018-09-03</td>\n",
       "      <td>2018-11-25</td>\n",
       "      <td>529.0</td>\n",
       "      <td>480.0</td>\n",
       "      <td>517.0</td>\n",
       "      <td>71.4</td>\n",
       "      <td>557508.3</td>\n",
       "      <td>12.165607</td>\n",
       "      <td>CA</td>\n",
       "    </tr>\n",
       "    <tr>\n",
       "      <th>252</th>\n",
       "      <td>Stanislaus</td>\n",
       "      <td>2017-06-05</td>\n",
       "      <td>2017-08-27</td>\n",
       "      <td>1572.0</td>\n",
       "      <td>1042.0</td>\n",
       "      <td>1193.0</td>\n",
       "      <td>38.8</td>\n",
       "      <td>320660.0</td>\n",
       "      <td>9.212632</td>\n",
       "      <td>CA</td>\n",
       "    </tr>\n",
       "    <tr>\n",
       "      <th>293</th>\n",
       "      <td>Tehama</td>\n",
       "      <td>2020-01-20</td>\n",
       "      <td>2020-04-12</td>\n",
       "      <td>102.0</td>\n",
       "      <td>241.0</td>\n",
       "      <td>252.0</td>\n",
       "      <td>99.2</td>\n",
       "      <td>297979.1</td>\n",
       "      <td>31.530228</td>\n",
       "      <td>CA</td>\n",
       "    </tr>\n",
       "    <tr>\n",
       "      <th>304</th>\n",
       "      <td>Stanislaus</td>\n",
       "      <td>2017-11-13</td>\n",
       "      <td>2018-02-04</td>\n",
       "      <td>1200.0</td>\n",
       "      <td>797.0</td>\n",
       "      <td>907.0</td>\n",
       "      <td>56.5</td>\n",
       "      <td>330049.9</td>\n",
       "      <td>9.744362</td>\n",
       "      <td>CA</td>\n",
       "    </tr>\n",
       "  </tbody>\n",
       "</table>\n",
       "</div>"
      ],
      "text/plain": [
       "    region_name period_begin  period_end  total_homes_sold  inventory  \\\n",
       "6    Sacramento   2020-06-22  2020-09-13            5107.0     1729.0   \n",
       "164      Nevada   2018-09-03  2018-11-25             529.0      480.0   \n",
       "252  Stanislaus   2017-06-05  2017-08-27            1572.0     1042.0   \n",
       "293      Tehama   2020-01-20  2020-04-12             102.0      241.0   \n",
       "304  Stanislaus   2017-11-13  2018-02-04            1200.0      797.0   \n",
       "\n",
       "     active_listings  age_of_inventory  median_active_list_price  \\\n",
       "6             2206.0              27.5                  445540.9   \n",
       "164            517.0              71.4                  557508.3   \n",
       "252           1193.0              38.8                  320660.0   \n",
       "293            252.0              99.2                  297979.1   \n",
       "304            907.0              56.5                  330049.9   \n",
       "\n",
       "     months_of_supply region_state  \n",
       "6            5.235794           CA  \n",
       "164         12.165607           CA  \n",
       "252          9.212632           CA  \n",
       "293         31.530228           CA  \n",
       "304          9.744362           CA  "
      ]
     },
     "execution_count": 76,
     "metadata": {},
     "output_type": "execute_result"
    }
   ],
   "source": [
    "ca_housing.head()"
   ]
  },
  {
   "cell_type": "code",
   "execution_count": 78,
   "id": "defbb185-681e-4f85-91b5-91812a7f601b",
   "metadata": {},
   "outputs": [
    {
     "name": "stderr",
     "output_type": "stream",
     "text": [
      "/var/folders/7h/0019w3h141s2b0z27906x13c0000gn/T/ipykernel_10949/4193088525.py:1: SettingWithCopyWarning: \n",
      "A value is trying to be set on a copy of a slice from a DataFrame.\n",
      "Try using .loc[row_indexer,col_indexer] = value instead\n",
      "\n",
      "See the caveats in the documentation: https://pandas.pydata.org/pandas-docs/stable/user_guide/indexing.html#returning-a-view-versus-a-copy\n",
      "  ca_housing['period_begin'] = pd.to_datetime(ca_housing['period_begin'])\n"
     ]
    }
   ],
   "source": [
    "ca_housing['period_begin'] = pd.to_datetime(ca_housing['period_begin'])\n"
   ]
  },
  {
   "cell_type": "code",
   "execution_count": 80,
   "id": "7e09843b-7c3a-41b8-8b43-b434a23276e8",
   "metadata": {},
   "outputs": [
    {
     "data": {
      "text/html": [
       "<div>\n",
       "<style scoped>\n",
       "    .dataframe tbody tr th:only-of-type {\n",
       "        vertical-align: middle;\n",
       "    }\n",
       "\n",
       "    .dataframe tbody tr th {\n",
       "        vertical-align: top;\n",
       "    }\n",
       "\n",
       "    .dataframe thead th {\n",
       "        text-align: right;\n",
       "    }\n",
       "</style>\n",
       "<table border=\"1\" class=\"dataframe\">\n",
       "  <thead>\n",
       "    <tr style=\"text-align: right;\">\n",
       "      <th></th>\n",
       "      <th>region_name</th>\n",
       "      <th>period_begin</th>\n",
       "      <th>period_end</th>\n",
       "      <th>total_homes_sold</th>\n",
       "      <th>inventory</th>\n",
       "      <th>active_listings</th>\n",
       "      <th>age_of_inventory</th>\n",
       "      <th>median_active_list_price</th>\n",
       "      <th>months_of_supply</th>\n",
       "      <th>region_state</th>\n",
       "    </tr>\n",
       "  </thead>\n",
       "  <tbody>\n",
       "    <tr>\n",
       "      <th>6</th>\n",
       "      <td>Sacramento</td>\n",
       "      <td>2020-06-22</td>\n",
       "      <td>2020-09-13</td>\n",
       "      <td>5107.0</td>\n",
       "      <td>1729.0</td>\n",
       "      <td>2206.0</td>\n",
       "      <td>27.5</td>\n",
       "      <td>445540.9</td>\n",
       "      <td>5.235794</td>\n",
       "      <td>CA</td>\n",
       "    </tr>\n",
       "    <tr>\n",
       "      <th>164</th>\n",
       "      <td>Nevada</td>\n",
       "      <td>2018-09-03</td>\n",
       "      <td>2018-11-25</td>\n",
       "      <td>529.0</td>\n",
       "      <td>480.0</td>\n",
       "      <td>517.0</td>\n",
       "      <td>71.4</td>\n",
       "      <td>557508.3</td>\n",
       "      <td>12.165607</td>\n",
       "      <td>CA</td>\n",
       "    </tr>\n",
       "    <tr>\n",
       "      <th>252</th>\n",
       "      <td>Stanislaus</td>\n",
       "      <td>2017-06-05</td>\n",
       "      <td>2017-08-27</td>\n",
       "      <td>1572.0</td>\n",
       "      <td>1042.0</td>\n",
       "      <td>1193.0</td>\n",
       "      <td>38.8</td>\n",
       "      <td>320660.0</td>\n",
       "      <td>9.212632</td>\n",
       "      <td>CA</td>\n",
       "    </tr>\n",
       "    <tr>\n",
       "      <th>293</th>\n",
       "      <td>Tehama</td>\n",
       "      <td>2020-01-20</td>\n",
       "      <td>2020-04-12</td>\n",
       "      <td>102.0</td>\n",
       "      <td>241.0</td>\n",
       "      <td>252.0</td>\n",
       "      <td>99.2</td>\n",
       "      <td>297979.1</td>\n",
       "      <td>31.530228</td>\n",
       "      <td>CA</td>\n",
       "    </tr>\n",
       "    <tr>\n",
       "      <th>304</th>\n",
       "      <td>Stanislaus</td>\n",
       "      <td>2017-11-13</td>\n",
       "      <td>2018-02-04</td>\n",
       "      <td>1200.0</td>\n",
       "      <td>797.0</td>\n",
       "      <td>907.0</td>\n",
       "      <td>56.5</td>\n",
       "      <td>330049.9</td>\n",
       "      <td>9.744362</td>\n",
       "      <td>CA</td>\n",
       "    </tr>\n",
       "    <tr>\n",
       "      <th>...</th>\n",
       "      <td>...</td>\n",
       "      <td>...</td>\n",
       "      <td>...</td>\n",
       "      <td>...</td>\n",
       "      <td>...</td>\n",
       "      <td>...</td>\n",
       "      <td>...</td>\n",
       "      <td>...</td>\n",
       "      <td>...</td>\n",
       "      <td>...</td>\n",
       "    </tr>\n",
       "    <tr>\n",
       "      <th>622048</th>\n",
       "      <td>Colusa</td>\n",
       "      <td>2018-09-17</td>\n",
       "      <td>2018-12-09</td>\n",
       "      <td>30.0</td>\n",
       "      <td>8.0</td>\n",
       "      <td>8.0</td>\n",
       "      <td>83.0</td>\n",
       "      <td>392749.8</td>\n",
       "      <td>4.909722</td>\n",
       "      <td>CA</td>\n",
       "    </tr>\n",
       "    <tr>\n",
       "      <th>622099</th>\n",
       "      <td>Merced</td>\n",
       "      <td>2018-01-08</td>\n",
       "      <td>2018-04-01</td>\n",
       "      <td>535.0</td>\n",
       "      <td>552.0</td>\n",
       "      <td>612.0</td>\n",
       "      <td>55.6</td>\n",
       "      <td>291834.9</td>\n",
       "      <td>14.373568</td>\n",
       "      <td>CA</td>\n",
       "    </tr>\n",
       "    <tr>\n",
       "      <th>622118</th>\n",
       "      <td>Lassen</td>\n",
       "      <td>2017-05-01</td>\n",
       "      <td>2017-07-23</td>\n",
       "      <td>1.0</td>\n",
       "      <td>4.0</td>\n",
       "      <td>4.0</td>\n",
       "      <td>121.1</td>\n",
       "      <td>138666.6</td>\n",
       "      <td>5.000000</td>\n",
       "      <td>CA</td>\n",
       "    </tr>\n",
       "    <tr>\n",
       "      <th>622159</th>\n",
       "      <td>Los Angeles</td>\n",
       "      <td>2021-06-28</td>\n",
       "      <td>2021-09-19</td>\n",
       "      <td>19525.0</td>\n",
       "      <td>14252.0</td>\n",
       "      <td>16098.0</td>\n",
       "      <td>35.5</td>\n",
       "      <td>888483.3</td>\n",
       "      <td>10.008760</td>\n",
       "      <td>CA</td>\n",
       "    </tr>\n",
       "    <tr>\n",
       "      <th>622302</th>\n",
       "      <td>San Joaquin</td>\n",
       "      <td>2017-05-22</td>\n",
       "      <td>2017-08-13</td>\n",
       "      <td>2095.0</td>\n",
       "      <td>1282.0</td>\n",
       "      <td>1479.0</td>\n",
       "      <td>34.9</td>\n",
       "      <td>354895.7</td>\n",
       "      <td>8.692168</td>\n",
       "      <td>CA</td>\n",
       "    </tr>\n",
       "  </tbody>\n",
       "</table>\n",
       "<p>14828 rows × 10 columns</p>\n",
       "</div>"
      ],
      "text/plain": [
       "        region_name period_begin  period_end  total_homes_sold  inventory  \\\n",
       "6        Sacramento   2020-06-22  2020-09-13            5107.0     1729.0   \n",
       "164          Nevada   2018-09-03  2018-11-25             529.0      480.0   \n",
       "252      Stanislaus   2017-06-05  2017-08-27            1572.0     1042.0   \n",
       "293          Tehama   2020-01-20  2020-04-12             102.0      241.0   \n",
       "304      Stanislaus   2017-11-13  2018-02-04            1200.0      797.0   \n",
       "...             ...          ...         ...               ...        ...   \n",
       "622048       Colusa   2018-09-17  2018-12-09              30.0        8.0   \n",
       "622099       Merced   2018-01-08  2018-04-01             535.0      552.0   \n",
       "622118       Lassen   2017-05-01  2017-07-23               1.0        4.0   \n",
       "622159  Los Angeles   2021-06-28  2021-09-19           19525.0    14252.0   \n",
       "622302  San Joaquin   2017-05-22  2017-08-13            2095.0     1282.0   \n",
       "\n",
       "        active_listings  age_of_inventory  median_active_list_price  \\\n",
       "6                2206.0              27.5                  445540.9   \n",
       "164               517.0              71.4                  557508.3   \n",
       "252              1193.0              38.8                  320660.0   \n",
       "293               252.0              99.2                  297979.1   \n",
       "304               907.0              56.5                  330049.9   \n",
       "...                 ...               ...                       ...   \n",
       "622048              8.0              83.0                  392749.8   \n",
       "622099            612.0              55.6                  291834.9   \n",
       "622118              4.0             121.1                  138666.6   \n",
       "622159          16098.0              35.5                  888483.3   \n",
       "622302           1479.0              34.9                  354895.7   \n",
       "\n",
       "        months_of_supply region_state  \n",
       "6               5.235794           CA  \n",
       "164            12.165607           CA  \n",
       "252             9.212632           CA  \n",
       "293            31.530228           CA  \n",
       "304             9.744362           CA  \n",
       "...                  ...          ...  \n",
       "622048          4.909722           CA  \n",
       "622099         14.373568           CA  \n",
       "622118          5.000000           CA  \n",
       "622159         10.008760           CA  \n",
       "622302          8.692168           CA  \n",
       "\n",
       "[14828 rows x 10 columns]"
      ]
     },
     "execution_count": 80,
     "metadata": {},
     "output_type": "execute_result"
    }
   ],
   "source": [
    "ca_housing"
   ]
  },
  {
   "cell_type": "code",
   "execution_count": 82,
   "id": "59814c7c-f643-4748-8636-762d9a116a6f",
   "metadata": {},
   "outputs": [],
   "source": [
    "ca_housing_county_importance = ['Los Angeles', 'San Francisco','Nevada','Lassen' ]"
   ]
  },
  {
   "cell_type": "code",
   "execution_count": 84,
   "id": "06c7ac2c-ccc3-441f-b6b3-d1abfb63efa0",
   "metadata": {},
   "outputs": [
    {
     "data": {
      "text/plain": [
       "['Los Angeles', 'San Francisco', 'Nevada', 'Lassen']"
      ]
     },
     "execution_count": 84,
     "metadata": {},
     "output_type": "execute_result"
    }
   ],
   "source": [
    "ca_housing_county_importance"
   ]
  },
  {
   "cell_type": "code",
   "execution_count": 86,
   "id": "e7a6a146-b4ab-4eea-a938-987bc837f700",
   "metadata": {},
   "outputs": [],
   "source": [
    "ca_housing1 = ca_housing[ca_housing['region_name'].isin(ca_housing_county_importance)]"
   ]
  },
  {
   "cell_type": "code",
   "execution_count": null,
   "id": "c2e7fcfb-2261-4b09-b86e-abd17ed5fe52",
   "metadata": {},
   "outputs": [],
   "source": []
  },
  {
   "cell_type": "code",
   "execution_count": null,
   "id": "8f6267d3-59af-47e9-bd58-23576d1e79af",
   "metadata": {},
   "outputs": [],
   "source": [
    "# ca_housing[(ca_housing['region_name']=='Los Angeles') | (ca_housing['region_name']=='San Francisco')]"
   ]
  },
  {
   "cell_type": "code",
   "execution_count": 88,
   "id": "326d4efd-b151-4ff3-bf89-05d14ab5177e",
   "metadata": {},
   "outputs": [
    {
     "data": {
      "text/html": [
       "<div>\n",
       "<style scoped>\n",
       "    .dataframe tbody tr th:only-of-type {\n",
       "        vertical-align: middle;\n",
       "    }\n",
       "\n",
       "    .dataframe tbody tr th {\n",
       "        vertical-align: top;\n",
       "    }\n",
       "\n",
       "    .dataframe thead th {\n",
       "        text-align: right;\n",
       "    }\n",
       "</style>\n",
       "<table border=\"1\" class=\"dataframe\">\n",
       "  <thead>\n",
       "    <tr style=\"text-align: right;\">\n",
       "      <th></th>\n",
       "      <th>region_name</th>\n",
       "      <th>period_begin</th>\n",
       "      <th>period_end</th>\n",
       "      <th>total_homes_sold</th>\n",
       "      <th>inventory</th>\n",
       "      <th>active_listings</th>\n",
       "      <th>age_of_inventory</th>\n",
       "      <th>median_active_list_price</th>\n",
       "      <th>months_of_supply</th>\n",
       "      <th>region_state</th>\n",
       "    </tr>\n",
       "  </thead>\n",
       "  <tbody>\n",
       "    <tr>\n",
       "      <th>164</th>\n",
       "      <td>Nevada</td>\n",
       "      <td>2018-09-03</td>\n",
       "      <td>2018-11-25</td>\n",
       "      <td>529.0</td>\n",
       "      <td>480.0</td>\n",
       "      <td>517.0</td>\n",
       "      <td>71.4</td>\n",
       "      <td>557508.3</td>\n",
       "      <td>12.165607</td>\n",
       "      <td>CA</td>\n",
       "    </tr>\n",
       "    <tr>\n",
       "      <th>889</th>\n",
       "      <td>Los Angeles</td>\n",
       "      <td>2018-08-20</td>\n",
       "      <td>2018-11-11</td>\n",
       "      <td>16015.0</td>\n",
       "      <td>20026.0</td>\n",
       "      <td>21675.0</td>\n",
       "      <td>51.9</td>\n",
       "      <td>694662.5</td>\n",
       "      <td>16.528985</td>\n",
       "      <td>CA</td>\n",
       "    </tr>\n",
       "    <tr>\n",
       "      <th>998</th>\n",
       "      <td>Nevada</td>\n",
       "      <td>2022-04-11</td>\n",
       "      <td>2022-07-03</td>\n",
       "      <td>573.0</td>\n",
       "      <td>491.0</td>\n",
       "      <td>542.0</td>\n",
       "      <td>29.4</td>\n",
       "      <td>697658.3</td>\n",
       "      <td>11.647435</td>\n",
       "      <td>CA</td>\n",
       "    </tr>\n",
       "    <tr>\n",
       "      <th>3773</th>\n",
       "      <td>Los Angeles</td>\n",
       "      <td>2017-12-25</td>\n",
       "      <td>2018-03-18</td>\n",
       "      <td>13596.0</td>\n",
       "      <td>13817.0</td>\n",
       "      <td>15251.0</td>\n",
       "      <td>51.3</td>\n",
       "      <td>664516.6</td>\n",
       "      <td>13.834214</td>\n",
       "      <td>CA</td>\n",
       "    </tr>\n",
       "    <tr>\n",
       "      <th>3915</th>\n",
       "      <td>Lassen</td>\n",
       "      <td>2020-08-24</td>\n",
       "      <td>2020-11-15</td>\n",
       "      <td>6.0</td>\n",
       "      <td>7.0</td>\n",
       "      <td>7.0</td>\n",
       "      <td>86.2</td>\n",
       "      <td>418958.3</td>\n",
       "      <td>5.000000</td>\n",
       "      <td>CA</td>\n",
       "    </tr>\n",
       "  </tbody>\n",
       "</table>\n",
       "</div>"
      ],
      "text/plain": [
       "      region_name period_begin  period_end  total_homes_sold  inventory  \\\n",
       "164        Nevada   2018-09-03  2018-11-25             529.0      480.0   \n",
       "889   Los Angeles   2018-08-20  2018-11-11           16015.0    20026.0   \n",
       "998        Nevada   2022-04-11  2022-07-03             573.0      491.0   \n",
       "3773  Los Angeles   2017-12-25  2018-03-18           13596.0    13817.0   \n",
       "3915       Lassen   2020-08-24  2020-11-15               6.0        7.0   \n",
       "\n",
       "      active_listings  age_of_inventory  median_active_list_price  \\\n",
       "164             517.0              71.4                  557508.3   \n",
       "889           21675.0              51.9                  694662.5   \n",
       "998             542.0              29.4                  697658.3   \n",
       "3773          15251.0              51.3                  664516.6   \n",
       "3915              7.0              86.2                  418958.3   \n",
       "\n",
       "      months_of_supply region_state  \n",
       "164          12.165607           CA  \n",
       "889          16.528985           CA  \n",
       "998          11.647435           CA  \n",
       "3773         13.834214           CA  \n",
       "3915          5.000000           CA  "
      ]
     },
     "execution_count": 88,
     "metadata": {},
     "output_type": "execute_result"
    }
   ],
   "source": [
    "ca_housing1.head()"
   ]
  },
  {
   "cell_type": "markdown",
   "id": "2c167133-3eda-4ab2-893a-8fbfd3d68324",
   "metadata": {},
   "source": [
    "<!-- <div style=\"text-align: center;\">\n",
    "    <img src=\"https://raw.githubusercontent.com/ManonYa09/Fundametal_Data_Science_G8/main/11.%20Data%20Visualization/Photo/30.jpg\" alt=\"Introduction to Data Visualization\" width=\"800\">\n",
    "</div> -->"
   ]
  },
  {
   "cell_type": "code",
   "execution_count": 90,
   "id": "89f197a2-a64e-4679-9853-d88ad07e0ae2",
   "metadata": {},
   "outputs": [],
   "source": [
    "ca_compare = ca_housing1.pivot_table(index = 'period_begin', \n",
    "                        columns='region_name',\n",
    "                        values = 'median_active_list_price',aggfunc='sum' )"
   ]
  },
  {
   "cell_type": "code",
   "execution_count": 92,
   "id": "f52c6592-76ee-48c1-8994-80dae392fad5",
   "metadata": {},
   "outputs": [
    {
     "data": {
      "text/html": [
       "<div>\n",
       "<style scoped>\n",
       "    .dataframe tbody tr th:only-of-type {\n",
       "        vertical-align: middle;\n",
       "    }\n",
       "\n",
       "    .dataframe tbody tr th {\n",
       "        vertical-align: top;\n",
       "    }\n",
       "\n",
       "    .dataframe thead th {\n",
       "        text-align: right;\n",
       "    }\n",
       "</style>\n",
       "<table border=\"1\" class=\"dataframe\">\n",
       "  <thead>\n",
       "    <tr style=\"text-align: right;\">\n",
       "      <th>region_name</th>\n",
       "      <th>Lassen</th>\n",
       "      <th>Los Angeles</th>\n",
       "      <th>Nevada</th>\n",
       "      <th>San Francisco</th>\n",
       "    </tr>\n",
       "    <tr>\n",
       "      <th>period_begin</th>\n",
       "      <th></th>\n",
       "      <th></th>\n",
       "      <th></th>\n",
       "      <th></th>\n",
       "    </tr>\n",
       "  </thead>\n",
       "  <tbody>\n",
       "    <tr>\n",
       "      <th>2017-01-02</th>\n",
       "      <td>198750.0</td>\n",
       "      <td>611561.0</td>\n",
       "      <td>631100.0</td>\n",
       "      <td>1229018.7</td>\n",
       "    </tr>\n",
       "    <tr>\n",
       "      <th>2017-01-09</th>\n",
       "      <td>198854.1</td>\n",
       "      <td>614061.0</td>\n",
       "      <td>630787.5</td>\n",
       "      <td>1233393.7</td>\n",
       "    </tr>\n",
       "    <tr>\n",
       "      <th>2017-01-16</th>\n",
       "      <td>221354.1</td>\n",
       "      <td>617311.0</td>\n",
       "      <td>630141.6</td>\n",
       "      <td>1239977.0</td>\n",
       "    </tr>\n",
       "    <tr>\n",
       "      <th>2017-01-23</th>\n",
       "      <td>220604.1</td>\n",
       "      <td>620644.3</td>\n",
       "      <td>631516.6</td>\n",
       "      <td>1247977.0</td>\n",
       "    </tr>\n",
       "    <tr>\n",
       "      <th>2017-01-30</th>\n",
       "      <td>219854.1</td>\n",
       "      <td>624541.6</td>\n",
       "      <td>632445.8</td>\n",
       "      <td>1253310.4</td>\n",
       "    </tr>\n",
       "    <tr>\n",
       "      <th>...</th>\n",
       "      <td>...</td>\n",
       "      <td>...</td>\n",
       "      <td>...</td>\n",
       "      <td>...</td>\n",
       "    </tr>\n",
       "    <tr>\n",
       "      <th>2022-03-28</th>\n",
       "      <td>311583.3</td>\n",
       "      <td>906783.0</td>\n",
       "      <td>697354.1</td>\n",
       "      <td>1289875.0</td>\n",
       "    </tr>\n",
       "    <tr>\n",
       "      <th>2022-04-04</th>\n",
       "      <td>316479.1</td>\n",
       "      <td>906783.1</td>\n",
       "      <td>697387.5</td>\n",
       "      <td>1289916.6</td>\n",
       "    </tr>\n",
       "    <tr>\n",
       "      <th>2022-04-11</th>\n",
       "      <td>314875.0</td>\n",
       "      <td>906782.4</td>\n",
       "      <td>697658.3</td>\n",
       "      <td>1290250.0</td>\n",
       "    </tr>\n",
       "    <tr>\n",
       "      <th>2022-04-18</th>\n",
       "      <td>318041.6</td>\n",
       "      <td>906786.5</td>\n",
       "      <td>697658.3</td>\n",
       "      <td>1294000.0</td>\n",
       "    </tr>\n",
       "    <tr>\n",
       "      <th>2022-04-25</th>\n",
       "      <td>321437.5</td>\n",
       "      <td>906744.9</td>\n",
       "      <td>699612.5</td>\n",
       "      <td>1295750.0</td>\n",
       "    </tr>\n",
       "  </tbody>\n",
       "</table>\n",
       "<p>278 rows × 4 columns</p>\n",
       "</div>"
      ],
      "text/plain": [
       "region_name     Lassen  Los Angeles    Nevada  San Francisco\n",
       "period_begin                                                \n",
       "2017-01-02    198750.0     611561.0  631100.0      1229018.7\n",
       "2017-01-09    198854.1     614061.0  630787.5      1233393.7\n",
       "2017-01-16    221354.1     617311.0  630141.6      1239977.0\n",
       "2017-01-23    220604.1     620644.3  631516.6      1247977.0\n",
       "2017-01-30    219854.1     624541.6  632445.8      1253310.4\n",
       "...                ...          ...       ...            ...\n",
       "2022-03-28    311583.3     906783.0  697354.1      1289875.0\n",
       "2022-04-04    316479.1     906783.1  697387.5      1289916.6\n",
       "2022-04-11    314875.0     906782.4  697658.3      1290250.0\n",
       "2022-04-18    318041.6     906786.5  697658.3      1294000.0\n",
       "2022-04-25    321437.5     906744.9  699612.5      1295750.0\n",
       "\n",
       "[278 rows x 4 columns]"
      ]
     },
     "execution_count": 92,
     "metadata": {},
     "output_type": "execute_result"
    }
   ],
   "source": [
    "ca_compare"
   ]
  },
  {
   "cell_type": "code",
   "execution_count": 102,
   "id": "64034b4f-8130-4a52-9cb8-7017e6ab18eb",
   "metadata": {},
   "outputs": [
    {
     "data": {
      "image/png": "[encoded data removed]",
      "text/plain": [
       "<Figure size 640x480 with 1 Axes>"
      ]
     },
     "metadata": {},
     "output_type": "display_data"
    }
   ],
   "source": [
    "plt.plot(ca_compare);"
   ]
  },
  {
   "cell_type": "markdown",
   "id": "6dbf9863-b16f-4c73-9922-f635cbaf7170",
   "metadata": {},
   "source": [
    "<a id='chart_formatting'></a>\n",
    "## 4. Chart Formatting\n",
    "<div style=\"text-align: center;\">\n",
    "    <img src=\"https://raw.githubusercontent.com/ManonYa09/Fundametal_Data_Science_G8/main/11.%20Data%20Visualization/Photo/29.jpg\" alt=\"Introduction to Data Visualization\" width=\"700\">\n",
    "</div>"
   ]
  },
  {
   "cell_type": "code",
   "execution_count": 130,
   "id": "87749362-6961-4c31-839d-120d026e5f23",
   "metadata": {},
   "outputs": [
    {
     "data": {
      "text/plain": [
       "[<matplotlib.lines.Line2D at 0x31873f910>,\n",
       " <matplotlib.lines.Line2D at 0x318665510>,\n",
       " <matplotlib.lines.Line2D at 0x318664d50>,\n",
       " <matplotlib.lines.Line2D at 0x3186640d0>]"
      ]
     },
     "execution_count": 130,
     "metadata": {},
     "output_type": "execute_result"
    },
    {
     "data": {
      "image/png": "[encoded data removed]",
      "text/plain": [
       "<Figure size 640x480 with 1 Axes>"
      ]
     },
     "metadata": {},
     "output_type": "display_data"
    }
   ],
   "source": [
    "plt.plot(ca_compare,label = 'Te' )"
   ]
  },
  {
   "cell_type": "code",
   "execution_count": 128,
   "id": "ad1d14ac-99d6-4cd2-9d9b-e9259cee41da",
   "metadata": {},
   "outputs": [
    {
     "name": "stderr",
     "output_type": "stream",
     "text": [
      "/opt/anaconda3/lib/python3.11/site-packages/seaborn/_oldcore.py:1119: FutureWarning: use_inf_as_na option is deprecated and will be removed in a future version. Convert inf values to NaN before operating instead.\n",
      "  with pd.option_context('mode.use_inf_as_na', True):\n",
      "/opt/anaconda3/lib/python3.11/site-packages/seaborn/_oldcore.py:1119: FutureWarning: use_inf_as_na option is deprecated and will be removed in a future version. Convert inf values to NaN before operating instead.\n",
      "  with pd.option_context('mode.use_inf_as_na', True):\n"
     ]
    },
    {
     "data": {
      "image/png": "[encoded data removed]",
      "text/plain": [
       "<Figure size 1200x600 with 1 Axes>"
      ]
     },
     "metadata": {},
     "output_type": "display_data"
    }
   ],
   "source": [
    "fig, ax = plt.subplots(figsize = (12, 6))\n",
    "sns.lineplot(ca_compare, )\n",
    "ax.set_title('Title', fontsize = 24)\n",
    "ax.set_xlabel('xLabel', fontsize = 20)\n",
    "ax.set_ylabel('y_label', fontsize = 20)\n",
    "ax.legend(loc = 10,)\n",
    "sns.despine();"
   ]
  },
  {
   "cell_type": "code",
   "execution_count": null,
   "id": "2c7e563b-071b-4e6e-900d-c8a7acd15d49",
   "metadata": {},
   "outputs": [],
   "source": [
    "plt.plot()"
   ]
  },
  {
   "cell_type": "code",
   "execution_count": null,
   "id": "27f279f4-b6d5-4ec0-9b00-f0f6bb368427",
   "metadata": {},
   "outputs": [],
   "source": [
    "# fig, ax =plt.subplots()\n",
    "# ax.plot(ca_housing1_los_san_compare.index, ca_housing1_los_san_compare['Los Angeles'])\n",
    "# ax.plot(ca_housing1_los_san_compare.index, ca_housing1_los_san_compare['San Francisco'])\n",
    "# fig.suptitle('San Francisco Prices Decline in 2020')\n",
    "# ax.set_title('While Los Angeles Keep Rising')\n",
    "# ax.set_xlabel('Year')\n",
    "# ax.set_ylabel('Medain Home Price')\n",
    "# plt.show()"
   ]
  },
  {
   "cell_type": "markdown",
   "id": "6a6c261c-2232-4fee-aa21-f383a1263fe9",
   "metadata": {},
   "source": [
    "<a id = 'fontsize'><a/>\n",
    "### 4.2 Font Size\n",
    "<div style=\"text-align: center;\">\n",
    "    <img src=\"https://raw.githubusercontent.com/ManonYa09/Fundametal_Data_Science_G8/main/11.%20Data%20Visualization/Photo/legend/1.%20fontsize.jpg\" alt=\"Introduction to Data Visualization\" width=\"800\">\n",
    "</div>"
   ]
  },
  {
   "cell_type": "code",
   "execution_count": null,
   "id": "84b5b176-0bd8-4603-a78f-615f829f252d",
   "metadata": {},
   "outputs": [],
   "source": [
    "ca_compare.describe().loc['mean']"
   ]
  },
  {
   "cell_type": "code",
   "execution_count": null,
   "id": "f7426d06-8b21-4c6b-9710-208d56078347",
   "metadata": {},
   "outputs": [],
   "source": [
    "plt.title"
   ]
  },
  {
   "cell_type": "code",
   "execution_count": null,
   "id": "c8ae5560-7166-4186-a5f5-0e3594c32111",
   "metadata": {},
   "outputs": [],
   "source": [
    "fig,ax = plt.subplots()\n",
    "ax.bar(x = ca_compare.describe().loc['mean'].index,height=ca_compare.describe().loc['mean'].values )\n",
    "ax.set_title('Title')"
   ]
  },
  {
   "cell_type": "code",
   "execution_count": null,
   "id": "d53a9e8e-2ae6-4dcb-a6c2-30de7ab946a2",
   "metadata": {},
   "outputs": [],
   "source": [
    "plt.bar(x = ca_compare.describe().loc['mean'].index, height=ca_compare.describe().loc['mean'].values);"
   ]
  },
  {
   "cell_type": "code",
   "execution_count": null,
   "id": "112fdef2-f6e5-416d-9a8b-cc1d65341d7d",
   "metadata": {},
   "outputs": [],
   "source": [
    "# plt.bar(x = a.index,height=a )"
   ]
  },
  {
   "cell_type": "code",
   "execution_count": null,
   "id": "131f51ae-5704-4387-b09c-78d535aeb9a2",
   "metadata": {},
   "outputs": [],
   "source": [
    "plt.bar(x = ca_compare.describe().loc['mean'].index, height=ca_compare.describe().loc['mean'])\n",
    "plt.title('Title')\n",
    "plt.ylabel('y')\n",
    "plt.xlabel('x');"
   ]
  },
  {
   "cell_type": "code",
   "execution_count": null,
   "id": "33b483af-22a0-4d5d-a8bf-6bb770e8e10a",
   "metadata": {},
   "outputs": [],
   "source": [
    "plt.bar(x = ['Los Angeles', 'Nevada', 'San Francisco'], height=[768225.31223,\t610487.513669,\t1.358263e+06])\n",
    "plt.title('Title')\n",
    "plt.ylabel('y')\n",
    "plt.xlabel('x');"
   ]
  },
  {
   "cell_type": "code",
   "execution_count": null,
   "id": "be1b751e-f9cb-4fc0-90b6-39e274993d36",
   "metadata": {},
   "outputs": [],
   "source": [
    "plt.bar(x = ca_compare.columns, height=)"
   ]
  },
  {
   "cell_type": "markdown",
   "id": "3709faaa-6b67-4534-a5e4-9642f48e77fc",
   "metadata": {},
   "source": [
    "<a id='bar_graph'></a>\n",
    "### 2. Bar Graph\n",
    "\n",
    "<div style=\"text-align: center;\">\n",
    "    <img src=\"https://raw.githubusercontent.com/ManonYa09/Fundametal_Data_Science_G8/main/11.%20Data%20Visualization/Photo/Chart%20Types/bar%20chart.jpg\" alt=\"Introduction to Data Visualization\" width=\"800\">\n",
    "</div>"
   ]
  },
  {
   "cell_type": "markdown",
   "id": "881839d7-5652-4bcf-82b3-88ff992e4093",
   "metadata": {},
   "source": [
    "<a id ='legend'><a/>\n",
    "### 4.3 Legend\n",
    "<div style=\"text-align: center;\">\n",
    "    <img src=\"https://raw.githubusercontent.com/ManonYa09/Fundametal_Data_Science_G8/main/11.%20Data%20Visualization/Photo/legend/2.%20legend1.jpg\" alt=\"Introduction to Data Visualization\" width=\"800\">\n",
    "</div>"
   ]
  },
  {
   "cell_type": "code",
   "execution_count": null,
   "id": "a9839048-34db-4ab9-a0d4-9ecd73d93044",
   "metadata": {},
   "outputs": [],
   "source": []
  },
  {
   "cell_type": "markdown",
   "id": "29af7546-5a57-49c6-8116-d36877105efd",
   "metadata": {},
   "source": [
    "<a id = 'line_style'></a>\n",
    "### 4.4 Line Style\n",
    "<div style=\"text-align: center;\">\n",
    "    <img src=\"https://raw.githubusercontent.com/ManonYa09/Fundametal_Data_Science_G8/main/11.%20Data%20Visualization/Photo/legend/4.%20line%20style.jpg\" alt=\"Introduction to Data Visualization\" width=\"800\">\n",
    "</div>"
   ]
  },
  {
   "cell_type": "code",
   "execution_count": null,
   "id": "af0751b9-0b05-4692-ad72-4174091b43c7",
   "metadata": {},
   "outputs": [],
   "source": [
    "title_font = {\n",
    "    'fontsize': 24,\n",
    "    'fontweight': 'bold',\n",
    "    'color': 'darkred',\n",
    "    'family': 'serif',\n",
    "}\n",
    "\n",
    "ax.set_title('Customized Title', fontdict=title_font)"
   ]
  },
  {
   "cell_type": "code",
   "execution_count": 148,
   "id": "63e625e7-a7e6-4538-9681-d2b4b9529743",
   "metadata": {},
   "outputs": [
    {
     "data": {
      "text/plain": [
       "{1, 2}"
      ]
     },
     "execution_count": 148,
     "metadata": {},
     "output_type": "execute_result"
    }
   ],
   "source": [
    "{1, 1, 2}"
   ]
  },
  {
   "cell_type": "code",
   "execution_count": 158,
   "id": "18334719-a760-447c-8c54-659ba6301685",
   "metadata": {},
   "outputs": [
    {
     "name": "stderr",
     "output_type": "stream",
     "text": [
      "/opt/anaconda3/lib/python3.11/site-packages/seaborn/_oldcore.py:1119: FutureWarning: use_inf_as_na option is deprecated and will be removed in a future version. Convert inf values to NaN before operating instead.\n",
      "  with pd.option_context('mode.use_inf_as_na', True):\n",
      "/opt/anaconda3/lib/python3.11/site-packages/seaborn/_oldcore.py:1119: FutureWarning: use_inf_as_na option is deprecated and will be removed in a future version. Convert inf values to NaN before operating instead.\n",
      "  with pd.option_context('mode.use_inf_as_na', True):\n",
      "No artists with labels found to put in legend.  Note that artists whose label start with an underscore are ignored when legend() is called with no argument.\n"
     ]
    },
    {
     "data": {
      "image/png": "[encoded data removed]",
      "text/plain": [
       "<Figure size 1200x600 with 1 Axes>"
      ]
     },
     "metadata": {},
     "output_type": "display_data"
    }
   ],
   "source": [
    "title_font = {\n",
    "    'fontsize': 24,\n",
    "    'fontweight': 'bold',\n",
    "    'color': 'black',\n",
    "    'family': 'Khmer MEF2',\n",
    "}\n",
    "\n",
    "\n",
    "fig, ax = plt.subplots(figsize = (12, 6))\n",
    "sns.lineplot(ca_compare['San Francisco'], color = '#FA8072', )\n",
    "sns.lineplot()\n",
    "ax.set_title('Customized Title', fontdict=title_font)\n",
    "# ax.set_title('Title', fontsize = 24)\n",
    "ax.set_xlabel('xLabel', fontsize = 20)\n",
    "ax.set_ylabel('y_label', fontsize = 20)\n",
    "ax.legend(loc = 10,)\n",
    "sns.despine();"
   ]
  },
  {
   "cell_type": "markdown",
   "id": "56770849-f8c8-4f6f-aa57-31355a861448",
   "metadata": {},
   "source": [
    "<a id = 'chart_types'><a/>\n",
    "## 5. Chart Types"
   ]
  },
  {
   "cell_type": "markdown",
   "id": "d5eacc7a",
   "metadata": {},
   "source": [
    "\n",
    "<a id=\"toc\"></a> \n",
    "<div class=\"alert alert-block alert-info\" style=\"margin-top: 20px\">\n",
    "<hr>\n",
    "    \n",
    "- [1. Time series graph](#time_series_graph)    \n",
    "   \n",
    "- [2. Bar Graph](#bar_graph)\n",
    "    \n",
    "    - [2.1 vertical bar graph](#1.1)\n",
    "    \n",
    "    - [2.2 Horizontal bar graph](#horizontal_bar_graph)\n",
    "- [3. Pie chart](#peichart)\n",
    "\n",
    "- [4. Donut Plot](#donut_plot)\n",
    "    \n",
    "- [5. Histogram](#histrogram)  \n",
    "    \n",
    "- [6. Scatter Plot](#scatter_plot)\n",
    "    \n",
    "- [7. Box plot](#box_plot)  \n",
    "    \n",
    "- [8. Violin Plots](#violin_plots)\n",
    "    \n",
    "    \n",
    "\n",
    "    \n",
    "\n",
    "    \n",
    " \n",
    "\n",
    "<hr>"
   ]
  },
  {
   "cell_type": "code",
   "execution_count": null,
   "id": "a58fc52f-2c69-4358-b343-b85bfdb8b793",
   "metadata": {},
   "outputs": [],
   "source": [
    "x = [1,4, 8, 16, 32]"
   ]
  },
  {
   "cell_type": "code",
   "execution_count": null,
   "id": "ece1edcd-7f8b-41a6-b2cf-90a2ec8b3119",
   "metadata": {},
   "outputs": [],
   "source": [
    "plt.figure()\n",
    "plt.plot(x)"
   ]
  },
  {
   "cell_type": "markdown",
   "id": "c9d87dc7",
   "metadata": {},
   "source": [
    "<a id='bar_graph'></a>\n",
    "### 2. Bar Graph\n",
    "\n",
    "<div style=\"text-align: center;\">\n",
    "    <img src=\"https://raw.githubusercontent.com/ManonYa09/Fundametal_Data_Science_G8/main/11.%20Data%20Visualization/Photo/Chart%20Types/bar%20chart.jpg\" alt=\"Introduction to Data Visualization\" width=\"800\">\n",
    "</div>\n",
    "\n",
    "#### 2.1 Vertical bar graph"
   ]
  },
  {
   "cell_type": "code",
   "execution_count": null,
   "id": "a48a6d44",
   "metadata": {},
   "outputs": [],
   "source": [
    "df = pd.read_csv('https://raw.githubusercontent.com/ManonYa09/Fundametal_Data_Science_G8/main/Dataset/2.%20Bank%20Customer%20Churn%20Prediction.csv')"
   ]
  },
  {
   "cell_type": "markdown",
   "id": "cc53ac17",
   "metadata": {},
   "source": [
    "\n",
    "```py\n",
    "plt.bar(x, height, width, bottom, align)\n",
    "```\n",
    "A **bar graph** represents the data by using vertical or horizontal bars whose heights or \n",
    "lengths represent the frequencies of the data."
   ]
  },
  {
   "cell_type": "code",
   "execution_count": null,
   "id": "8703dd4f",
   "metadata": {},
   "outputs": [],
   "source": [
    "df['country'].value_counts()"
   ]
  },
  {
   "cell_type": "code",
   "execution_count": null,
   "id": "de748f24-87de-42af-9a56-37d28b653cd4",
   "metadata": {},
   "outputs": [],
   "source": [
    "fig, ax = plt.subplots(figsize=(15, 6))\n",
    "ax.bar(df['country'].value_counts().index, height=df['country'].value_counts(), width = 0.2)\n",
    "ax.set_title('Country')\n",
    "ax.set_ylabel('Frequency')\n",
    "ax.set_xlabel('Country')\n",
    "plt.show()"
   ]
  },
  {
   "cell_type": "code",
   "execution_count": null,
   "id": "e6f17392-9f31-4ba3-aa8a-f202a8f59ca0",
   "metadata": {},
   "outputs": [],
   "source": [
    "fig, ax = plt.subplots(figsize = (12, 4), dpi = 300)\n",
    "# ax.bar(x= df['country'].value_counts().index, height=df['country'].value_counts(), width = 0.2)\n",
    "sns.barplot(x = df['country'].value_counts().index, y =df['country'].value_counts(), width = 0.2)\n",
    "ax.set_yticks(np.arange(0, 5100, 500))\n",
    "ax.set_title('Country')\n",
    "ax.set_ylabel('Frequency')\n",
    "ax.set_xlabel('Country')\n",
    "ax.spines[['right', 'top','left']].set_visible(False)\n",
    "ax.bar_label(ax.containers[0], fontsize = 12)\n",
    "plt.savefig('Bar_country.png', dpi = 300)\n",
    "plt.show()"
   ]
  },
  {
   "cell_type": "code",
   "execution_count": null,
   "id": "c6e47390-f824-44ab-8f51-0390c9eb4163",
   "metadata": {},
   "outputs": [],
   "source": [
    "fig, ax = plt.subplots(figsize = (12, 4), dpi = 300)\n",
    "ax.bar(x= df['country'].value_counts().index, height=df['country'].value_counts(), width = 0.2)\n",
    "ax.set_yticks(np.arange(0, 5100, 500))\n",
    "ax.set_title('Country')\n",
    "ax.set_ylabel('Frequency')\n",
    "ax.set_xlabel('Country')\n",
    "ax.spines[['right', 'top','left']].set_visible(False)\n",
    "ax.bar_label(ax.containers[0])\n",
    "# plt.savefig\n",
    "# fig.savefig()\n",
    "plt.show()"
   ]
  },
  {
   "cell_type": "code",
   "execution_count": null,
   "id": "6ee9f5d9-8c8a-4b5a-a8fd-c99a17d44500",
   "metadata": {},
   "outputs": [],
   "source": []
  },
  {
   "cell_type": "markdown",
   "id": "9448a447",
   "metadata": {},
   "source": [
    "#### 2.3 Horizontal bar graph\n",
    "<a id='horizontal_bar_graph'></a>"
   ]
  },
  {
   "cell_type": "code",
   "execution_count": null,
   "id": "e01ee150",
   "metadata": {},
   "outputs": [],
   "source": [
    "fig, ax = plt.subplots(figsize = (10, 6), dpi = 100)\n",
    "sns.barplot(x = df['country'].value_counts().index, y = df['country'].value_counts(), width=.4 )\n",
    "ax.set_title('Distribution of Countries', fontsize = 20)\n",
    "ax.set_ylabel('Frequency')\n",
    "ax.set_xlabel('Country')\n",
    "ax.set_yticks(np.arange(0, 5500, 500))\n",
    "ax.bar_label(ax.containers[0], fontsize=10)\n",
    "ax.spines[['right', 'top']].set_visible(False)\n",
    "fig.savefig('distribution_of_countries.png', dpi = 300)\n",
    "plt.show()"
   ]
  },
  {
   "cell_type": "markdown",
   "id": "83c8b55b",
   "metadata": {},
   "source": [
    "### 2.2 Horizontal bar graph\n",
    "<a id='horizontal_bar_graph'></a>"
   ]
  },
  {
   "cell_type": "code",
   "execution_count": null,
   "id": "02a3502b",
   "metadata": {},
   "outputs": [],
   "source": [
    "df1 = pd.read_csv('https://raw.githubusercontent.com/ManonYa09/Python_for_Data-Science-AI-/main/Dataset/education_districtwise.csv')"
   ]
  },
  {
   "cell_type": "code",
   "execution_count": null,
   "id": "8be77abd-fce2-4dd7-89c2-74bfd43bc2cc",
   "metadata": {},
   "outputs": [],
   "source": [
    "df1"
   ]
  },
  {
   "cell_type": "code",
   "execution_count": null,
   "id": "8219a8cf-ef36-4f9d-963b-5f26bd984207",
   "metadata": {},
   "outputs": [],
   "source": [
    "df1[df1['OVERALL_LI']<60]['STATNAME'].value_counts()"
   ]
  },
  {
   "cell_type": "code",
   "execution_count": null,
   "id": "7278b2ad",
   "metadata": {},
   "outputs": [],
   "source": [
    "Oli_below_60 = df1[df1['OVERALL_LI']<60]['STATNAME'].value_counts()"
   ]
  },
  {
   "cell_type": "code",
   "execution_count": null,
   "id": "24319ece-c3e8-4ca9-b535-e985f75333dc",
   "metadata": {},
   "outputs": [],
   "source": [
    "fig, ax = plt.subplots(figsize = (10, 6), dpi = 100)\n",
    "sns.barplot(x = Oli_below_60.index, y = Oli_below_60, width=.4 )\n",
    "ax.set_xticklabels(Oli_below_60.index, rotation = 45)\n",
    "ax.set_title('State Overal_Li below 60 ', fontsize = 20)\n",
    "# ax.set_ylabel('Frequency')\n",
    "# ax.set_xlabel('Country')\n",
    "# ax.set_yticks(np.arange(0, 5500, 500))\n",
    "ax.bar_label(ax.containers[0], fontsize=10)\n",
    "ax.spines[['right', 'top']].set_visible(False)"
   ]
  },
  {
   "cell_type": "code",
   "execution_count": null,
   "id": "518197e0",
   "metadata": {},
   "outputs": [],
   "source": [
    "Oli_below_60"
   ]
  },
  {
   "cell_type": "code",
   "execution_count": null,
   "id": "14150647",
   "metadata": {},
   "outputs": [],
   "source": [
    "Oli_below_60"
   ]
  },
  {
   "cell_type": "code",
   "execution_count": null,
   "id": "612f9cc0",
   "metadata": {},
   "outputs": [],
   "source": [
    "fig, ax = plt.subplots(figsize = (10, 6), dpi = 300)\n",
    "# sns.set_style(\"whitegrid\")\n",
    "ax.barh(y = Oli_below_60.index, width=Oli_below_60,height=0.6)\n",
    "# ax.set_yticklabels(Oli_below_60.index, rotation  = 45)\n",
    "ax.set_title('States Having Literacy Rates Below 60%', fontsize=14)\n",
    "ax.set_xlabel('Number of State with Literacy Rates Below 60%', fontsize=12)\n",
    "ax.set_ylabel('State Name', fontsize=12)\n",
    "ax.bar_label(ax.containers[0], fontsize=10)\n",
    "# ax.grid()\n",
    "ax.spines[['right', 'top']].set_visible(False)\n",
    "# fig.savefig('State Name_below60%.png' dpi = 1000)"
   ]
  },
  {
   "cell_type": "markdown",
   "id": "4657b071",
   "metadata": {},
   "source": [
    "### 3. Pie chart\n",
    "\n",
    "\n",
    "<div style=\"text-align: center;\">\n",
    "    <img src=\"https://raw.githubusercontent.com/ManonYa09/Fundametal_Data_Science_G8/main/11.%20Data%20Visualization/Photo/Chart%20Types/pie%20chart.jpg\" alt=\"Introduction to Data Visualization\" width=\"800\">\n",
    "</div>\n"
   ]
  },
  {
   "cell_type": "code",
   "execution_count": null,
   "id": "a46975db",
   "metadata": {},
   "outputs": [],
   "source": [
    "labels = ['Apples', 'Bananas', 'Cherries', 'Dates']\n",
    "sizes = [30, 45, 15, 10]"
   ]
  },
  {
   "cell_type": "code",
   "execution_count": null,
   "id": "143c1282",
   "metadata": {},
   "outputs": [],
   "source": [
    "# sns.p"
   ]
  },
  {
   "cell_type": "code",
   "execution_count": null,
   "id": "00f19964",
   "metadata": {},
   "outputs": [],
   "source": [
    "plt.pie(sizes, labels=labels,autopct='%1.2f%%' )\n",
    "plt.show()"
   ]
  },
  {
   "cell_type": "code",
   "execution_count": null,
   "id": "33d13803",
   "metadata": {},
   "outputs": [],
   "source": [
    "# plt.rcParams['figure.dpi']=100\n",
    "plt.figure(figsize=(4, 4))\n",
    "plt.pie(x = sizes, labels=labels, autopct='%1.1f%%')\n",
    "plt.title('Pie Chart')\n",
    "`# plt.savefig('PieChart')\n",
    "plt.show()"
   ]
  },
  {
   "cell_type": "code",
   "execution_count": null,
   "id": "2b1462a1-d51a-4139-b932-c8b90900493c",
   "metadata": {},
   "outputs": [],
   "source": []
  },
  {
   "cell_type": "markdown",
   "id": "716d7ffc",
   "metadata": {},
   "source": [
    "[More Details](https://www.geo.fu-berlin.de/en/v/soga-py/Basics-of-statistics/index.html)"
   ]
  }
 ],
 "metadata": {
  "kernelspec": {
   "display_name": "Python 3 (ipykernel)",
   "language": "python",
   "name": "python3"
  },
  "language_info": {
   "codemirror_mode": {
    "name": "ipython",
    "version": 3
   },
   "file_extension": ".py",
   "mimetype": "text/x-python",
   "name": "python",
   "nbconvert_exporter": "python",
   "pygments_lexer": "ipython3",
   "version": "3.11.5"
  }
 },
 "nbformat": 4,
 "nbformat_minor": 5
}
