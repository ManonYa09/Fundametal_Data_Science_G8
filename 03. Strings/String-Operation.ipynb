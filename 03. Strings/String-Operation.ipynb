{
 "cells": [
  {
   "cell_type": "markdown",
   "id": "55bce75d",
   "metadata": {},
   "source": [
    "<div style=\"text-align: center;\">\n",
    "    <img src=\"https://raw.githubusercontent.com/ManonYa09/Fundametal_Data_Science_G8/main/Slide/Photo/3.1%20Strings%20contenct%20.jpg\" alt=\"strings\" width=\"800\">\n",
    "</div>"
   ]
  },
  {
   "cell_type": "markdown",
   "id": "3dfba604",
   "metadata": {},
   "source": [
    "## Table of contents\n",
    "\n",
    "- [1. Strings](#strings)\n",
    "    - [Creating a String](#creating-a-string)\n",
    "- [2. String Concatenation](#string-concatenation)\n",
    "    - [Escape Sequences in Strings](#escape-sequences-in-strings)\n",
    "    - [String formatting](#string-formatting)\n",
    "      - [Old Style String Formatting (% Operator)](#old-style-string-formatting--operator)\n",
    "      - [New Style String Formatting (str.format)](#new-style-string-formatting-strformat)\n",
    "      - [String Interpolation / f-Strings (Python 3.6+)](#string-interpolation--f-strings-python-36)\n",
    "- [3. Python Strings as Sequences of Characters](#python-strings-as-sequences-of-characters)\n",
    "  - [Unpacking Characters](#unpacking-characters)\n",
    "  - [Accessing Characters in Strings by Index](#accessing-characters-in-strings-by-index)\n",
    "  - [Slicing Python Strings](#slicing-python-strings)\n",
    "  - [Reversing a String](#reversing-a-string)\n",
    "  - [Skipping Characters While Slicing](#skipping-characters-while-slicing)\n",
    "- [4. String Methods](#string-methods)"
   ]
  },
  {
   "cell_type": "markdown",
   "id": "4cb1c850",
   "metadata": {},
   "source": [
    "<a id='strings'> </a>\n",
    "## 1. Strings Basics\n",
    "Text is a string data type.\n"
   ]
  },
  {
   "cell_type": "markdown",
   "id": "2fc167a7",
   "metadata": {},
   "source": [
    "<a align=\"center\">\n",
    "    <img src=\"https://cf-courses-data.s3.us.cloud-object-storage.appdomain.cloud/IBMDeveloperSkillsNetwork-PY0101EN-SkillsNetwork/labs/Module%201/images/TypesObjects.png\" width=\"600\">\n",
    "</a>"
   ]
  },
  {
   "cell_type": "markdown",
   "id": "203a22d5",
   "metadata": {},
   "source": [
    "<a id='creating-a-string'></a>\n",
    "### 1.1 Creating a String"
   ]
  },
  {
   "cell_type": "code",
   "execution_count": null,
   "id": "063146d9-1604-4c07-8299-2cc89aa097a0",
   "metadata": {},
   "outputs": [],
   "source": [
    "type()"
   ]
  },
  {
   "cell_type": "markdown",
   "id": "171fc5d5",
   "metadata": {},
   "source": [
    "Function `type()`"
   ]
  },
  {
   "cell_type": "code",
   "execution_count": null,
   "id": "8d64cc50",
   "metadata": {},
   "outputs": [],
   "source": [
    "greeting = 'Hello, World!'"
   ]
  },
  {
   "cell_type": "code",
   "execution_count": null,
   "id": "439d41c7",
   "metadata": {},
   "outputs": [],
   "source": [
    "sentence = \"I hope you are enjoying with learning python\"\n",
    "sentence"
   ]
  },
  {
   "cell_type": "code",
   "execution_count": null,
   "id": "1806040c",
   "metadata": {},
   "outputs": [],
   "source": [
    "sentence1 = ''' I'mIn a sample of 100 on-the-job fata\n",
    "lities, 90% of the victim\n",
    "s were men'''"
   ]
  },
  {
   "cell_type": "markdown",
   "id": "7bbee2dc",
   "metadata": {},
   "source": [
    "Multiline string is created by using triple single (''') or triple double quotes (\"\"\"). See the example below."
   ]
  },
  {
   "cell_type": "code",
   "execution_count": null,
   "id": "49c70660",
   "metadata": {},
   "outputs": [],
   "source": [
    "print('''In a sample of 100\n",
    "on-the-job fatalit\n",
    "ies, 90% of the vic\n",
    "tims were men'''\n",
    "     )"
   ]
  },
  {
   "cell_type": "markdown",
   "id": "36eebe69",
   "metadata": {},
   "source": [
    "<a id='string-concatenation'></a>\n",
    "## 2. String Concatenation or String Arithmetic\n",
    "\n",
    "We can connect strings together. Merging or connecting strings is called concatenation.\n",
    "\n",
    "See the example below:"
   ]
  },
  {
   "cell_type": "code",
   "execution_count": 15,
   "id": "50cd7772",
   "metadata": {},
   "outputs": [
    {
     "name": "stdout",
     "output_type": "stream",
     "text": [
      "hello, world\n"
     ]
    }
   ],
   "source": [
    "print('hello, world')"
   ]
  },
  {
   "cell_type": "code",
   "execution_count": 17,
   "id": "9a729f44",
   "metadata": {},
   "outputs": [],
   "source": [
    "first_name    =  'Manon'\n",
    "last_name = 'YA'"
   ]
  },
  {
   "cell_type": "code",
   "execution_count": 9,
   "id": "f764cfa5",
   "metadata": {},
   "outputs": [
    {
     "ename": "TypeError",
     "evalue": "can only concatenate str (not \"int\") to str",
     "output_type": "error",
     "traceback": [
      "\u001b[1;31m---------------------------------------------------------------------------\u001b[0m",
      "\u001b[1;31mTypeError\u001b[0m                                 Traceback (most recent call last)",
      "Cell \u001b[1;32mIn[9], line 1\u001b[0m\n\u001b[1;32m----> 1\u001b[0m first_name\u001b[38;5;241m+\u001b[39m\u001b[38;5;241m1\u001b[39m\n",
      "\u001b[1;31mTypeError\u001b[0m: can only concatenate str (not \"int\") to str"
     ]
    }
   ],
   "source": [
    "first_name+1"
   ]
  },
  {
   "cell_type": "code",
   "execution_count": 10,
   "id": "393e9193",
   "metadata": {},
   "outputs": [
    {
     "data": {
      "text/plain": [
       "'Manon YA'"
      ]
     },
     "execution_count": 10,
     "metadata": {},
     "output_type": "execute_result"
    }
   ],
   "source": [
    "first_name+ ' '+ last_name"
   ]
  },
  {
   "cell_type": "markdown",
   "id": "186e362b",
   "metadata": {},
   "source": [
    "<a id='escape-sequences-in-strings'></a>\n",
    "### Escape Sequences in Strings\n",
    "\n",
    "In Python and other programming languages \\ followed by a character is an escape sequence. Let us see the most common escape characters:\n",
    "\n",
    "- \\n: new line\n",
    "- \\t: Tab means(8 spaces)\n",
    "- \\\\\\\\: Back slash\n",
    "- \\\\': Single quote (')\n",
    "- \\\\\": Double quote (\")\n",
    "\n",
    "Now, let us see the use of the above escape sequences with examples."
   ]
  },
  {
   "cell_type": "code",
   "execution_count": null,
   "id": "e813fa94",
   "metadata": {},
   "outputs": [],
   "source": [
    "print('''Hello\n",
    "''')"
   ]
  },
  {
   "cell_type": "code",
   "execution_count": 17,
   "id": "3a2e3cbf",
   "metadata": {},
   "outputs": [
    {
     "name": "stdout",
     "output_type": "stream",
     "text": [
      "Hello\n",
      ", world\n"
     ]
    }
   ],
   "source": [
    "print('Hello\\n, world')"
   ]
  },
  {
   "cell_type": "code",
   "execution_count": null,
   "id": "f587ec0b",
   "metadata": {},
   "outputs": [],
   "source": [
    "print('I\\'m')"
   ]
  },
  {
   "cell_type": "code",
   "execution_count": null,
   "id": "a17b239a",
   "metadata": {},
   "outputs": [],
   "source": [
    "print('''\n",
    "I love\n",
    "cambodia''')"
   ]
  },
  {
   "cell_type": "code",
   "execution_count": null,
   "id": "d50ab05e",
   "metadata": {},
   "outputs": [],
   "source": [
    "print('Hello , world')"
   ]
  },
  {
   "cell_type": "code",
   "execution_count": null,
   "id": "c7202b96",
   "metadata": {},
   "outputs": [],
   "source": [
    "print('Hello,\\n\\n\\n\\nworld')"
   ]
  },
  {
   "cell_type": "code",
   "execution_count": null,
   "id": "2bd8379c",
   "metadata": {},
   "outputs": [],
   "source": [
    "print('Hello \\tWorld')"
   ]
  },
  {
   "cell_type": "code",
   "execution_count": null,
   "id": "05473680",
   "metadata": {},
   "outputs": [],
   "source": [
    "print('Hello \\World')"
   ]
  },
  {
   "cell_type": "code",
   "execution_count": null,
   "id": "85241f9f",
   "metadata": {},
   "outputs": [],
   "source": [
    "print('I love\\ncamb\\\\odia')"
   ]
  },
  {
   "cell_type": "code",
   "execution_count": null,
   "id": "890d7435",
   "metadata": {},
   "outputs": [],
   "source": [
    "print('I love\\ncamb\\odia')"
   ]
  },
  {
   "cell_type": "code",
   "execution_count": null,
   "id": "065976cb",
   "metadata": {},
   "outputs": [],
   "source": [
    "print('I love\\n\\tcambodia')"
   ]
  },
  {
   "cell_type": "code",
   "execution_count": null,
   "id": "b4781302",
   "metadata": {},
   "outputs": [],
   "source": [
    "print('I love\\n        cambodia')"
   ]
  },
  {
   "cell_type": "code",
   "execution_count": null,
   "id": "0d869641",
   "metadata": {},
   "outputs": [],
   "source": [
    "print('In Python there are many ways of formatting strings.\\n In this section, we will cover some of them. The \"%\" operator is used to format a set of variables enclosed in a \"tuple\" (a fixed size list), \\ntogether with a format string, \\nwhich contains normal')"
   ]
  },
  {
   "cell_type": "code",
   "execution_count": null,
   "id": "28fab533",
   "metadata": {},
   "outputs": [],
   "source": [
    "print('In Python there are \\tmany\\n ways of')"
   ]
  },
  {
   "cell_type": "code",
   "execution_count": null,
   "id": "c80c4167",
   "metadata": {},
   "outputs": [],
   "source": [
    "print(len('a\\ta'))"
   ]
  },
  {
   "cell_type": "code",
   "execution_count": null,
   "id": "714d6a00",
   "metadata": {},
   "outputs": [],
   "source": [
    "print(len('a       a'))"
   ]
  },
  {
   "cell_type": "code",
   "execution_count": null,
   "id": "4bb54373",
   "metadata": {},
   "outputs": [],
   "source": [
    "print('I hope everyone is enjoying the Python Challenge.\\nAre you ?') # line break\n",
    "print('Days\\tTopics\\tExercises') # adding tab space or 4 spaces \n",
    "print('Day 1\\t5\\t5')\n",
    "print('Day 2\\t6\\t20')\n",
    "print('Day 3\\t5\\t23')\n",
    "print('Day 4\\t1\\t35')\n",
    "print('This is a backslash  symbol (\\\\)') # To write a backslash\n",
    "print('In every programming language it starts with \\\"Hello, World!\\\"') # to write a double quote inside a single quote"
   ]
  },
  {
   "cell_type": "markdown",
   "id": "f02f2cef",
   "metadata": {},
   "source": [
    "\n",
    "<a id='string-formatting'></a>\n",
    "### String formatting\n",
    "\n",
    "#### Old Style String Formatting (% Operator)\n",
    "\n",
    "In Python there are many ways of formatting strings. In this section, we will cover some of them.\n",
    "The \"%\" operator is used to format a set of variables enclosed in a \"tuple\" (a fixed size list), together with a format string, which contains normal text together with \"argument specifiers\", special symbols like \"%s\", \"%d\", \"%f\", \"%.<small>number of digits</small>f\".\n",
    "\n",
    "- %s - String (or any object with a string representation, like numbers)\n",
    "- %d - Integers\n",
    "- %f - Floating point numbers\n",
    "- \"%.<small>number of digits</small>f\" - Floating point numbers with fixed precision"
   ]
  },
  {
   "cell_type": "code",
   "execution_count": null,
   "id": "d6254baf",
   "metadata": {},
   "outputs": [],
   "source": [
    "first_name = 'Manon'\n",
    "last_name = 'Ya'\n",
    "language = 'Python'\n",
    "formated_string = 'I am %s %s. I teach %s' %(first_name, last_name, language)"
   ]
  },
  {
   "cell_type": "code",
   "execution_count": null,
   "id": "8c2e1972",
   "metadata": {},
   "outputs": [],
   "source": [
    "radius = float(input('Please input the radius:'))\n",
    "pi = 3.14\n",
    "area = pi * radius ** 2\n",
    "formated_string = 'The area of circle with a radius %d is %.3f.' %(radius, area)\n",
    "formated_string"
   ]
  },
  {
   "cell_type": "markdown",
   "id": "bd2082fe",
   "metadata": {},
   "source": [
    "#### New Style String Formatting (str.format)\n",
    "\n",
    "This formatting is introduced in Python version 3.\n"
   ]
  },
  {
   "cell_type": "code",
   "execution_count": null,
   "id": "3182f409",
   "metadata": {},
   "outputs": [],
   "source": [
    "first_name = 'Manon'\n",
    "last_name = 'Ya'\n",
    "language = 'Python'\n",
    "formated_string = 'I am {} {}. I teach {}'.format(first_name, last_name, language)\n",
    "print(formated_string)\n"
   ]
  },
  {
   "cell_type": "code",
   "execution_count": null,
   "id": "6f87f231",
   "metadata": {},
   "outputs": [],
   "source": [
    "a = 4\n",
    "b = 3\n",
    "\n",
    "print('{} + {} = {}'.format(a, b, a + b))\n",
    "print('{} - {} = {}'.format(a, b, a - b))\n",
    "print('{} * {} = {}'.format(a, b, a * b))\n",
    "print('{} / {} = {:.2f}'.format(a, b, a / b)) # limits it to two digits after decimal\n",
    "print('{} % {} = {}'.format(a, b, a % b))\n",
    "print('{} // {} = {}'.format(a, b, a // b))\n",
    "print('{} ** {} = {}'.format(a, b, a ** b"
   ]
  },
  {
   "cell_type": "code",
   "execution_count": null,
   "id": "aecbbb04",
   "metadata": {},
   "outputs": [],
   "source": [
    "radius = 10\n",
    "pi = 3.14\n",
    "area = pi * radius ** 2\n",
    "formated_string = 'The area of a circle with a radius {} is {:.2f}.'.format(radius, area) # 2 digits after decimal\n",
    "print(formated_string)\n",
    "\n"
   ]
  },
  {
   "cell_type": "markdown",
   "id": "0af7038b",
   "metadata": {},
   "source": [
    "#### String Interpolation / f-Strings (Python 3.6+)\n",
    "\n",
    "Another new string formatting is string interpolation, f-strings. Strings start with f and we can inject the data in their corresponding positions.\n"
   ]
  },
  {
   "cell_type": "code",
   "execution_count": 18,
   "id": "5e250854",
   "metadata": {},
   "outputs": [
    {
     "name": "stdout",
     "output_type": "stream",
     "text": [
      "I love cambodia\n"
     ]
    }
   ],
   "source": [
    "print('I love cambodia')"
   ]
  },
  {
   "cell_type": "code",
   "execution_count": 19,
   "id": "e733f7ac",
   "metadata": {},
   "outputs": [],
   "source": [
    "a = 6"
   ]
  },
  {
   "cell_type": "code",
   "execution_count": 22,
   "id": "02e49bb8",
   "metadata": {},
   "outputs": [
    {
     "name": "stdout",
     "output_type": "stream",
     "text": [
      "I love 6 cambodia 6\n"
     ]
    }
   ],
   "source": [
    "print('I love', a, a,'this is', a 'cambodia', a)"
   ]
  },
  {
   "cell_type": "code",
   "execution_count": 24,
   "id": "bc295bd7",
   "metadata": {},
   "outputs": [
    {
     "name": "stdout",
     "output_type": "stream",
     "text": [
      "Hello 6  6 world\n"
     ]
    }
   ],
   "source": [
    "print(f'Hello {a}  {a} world')"
   ]
  },
  {
   "cell_type": "markdown",
   "id": "c0906fd5",
   "metadata": {},
   "source": [
    "function `input()`"
   ]
  },
  {
   "cell_type": "code",
   "execution_count": 30,
   "id": "7b4331cf",
   "metadata": {},
   "outputs": [
    {
     "name": "stdout",
     "output_type": "stream",
     "text": [
      "23.2232\n"
     ]
    },
    {
     "data": {
      "text/plain": [
       "23.2232"
      ]
     },
     "execution_count": 30,
     "metadata": {},
     "output_type": "execute_result"
    }
   ],
   "source": [
    "a = float(input())\n",
    "a"
   ]
  },
  {
   "cell_type": "code",
   "execution_count": 37,
   "id": "4a959197",
   "metadata": {},
   "outputs": [
    {
     "name": "stdout",
     "output_type": "stream",
     "text": [
      "343\n",
      "-2342142\n",
      "this is (a + b) 343.0 + -2342142.0 = -2341799.0\n",
      "this is 343.0 - -2342142.0 = 2342485.0\n",
      "this is 343.0 * -2342142.0 = -803354706.0\n",
      "this is 343.0 / -2342142.0 = -0.000\n",
      "this is 343.0 % -2342142.0 = -2341799.0\n",
      "343.0 // -2342142.0 = -1.0\n",
      "343.0 ** -2342142.0 = 0.0\n"
     ]
    }
   ],
   "source": [
    "a = float(input())\n",
    "b = float(input())\n",
    "print(f'this is (a + b) {a} + {b} = {a+b}')\n",
    "print(f'this is {a} - {b} = {a - b}')\n",
    "print(f'this is {a} * {b} = {a * b}')\n",
    "print(f'this is {a} / {b} = {a / b:.3f}')\n",
    "print(f'this is {a} % {b} = {a % b}')\n",
    "print(f'{a} // {b} = {a // b}')\n",
    "print(f'{a} ** {b} = {a ** b}')"
   ]
  },
  {
   "cell_type": "code",
   "execution_count": 38,
   "id": "6db69a25",
   "metadata": {},
   "outputs": [],
   "source": [
    "import math as m"
   ]
  },
  {
   "cell_type": "code",
   "execution_count": 47,
   "id": "64049995",
   "metadata": {},
   "outputs": [],
   "source": [
    "import numpy as np"
   ]
  },
  {
   "cell_type": "code",
   "execution_count": 49,
   "id": "3c1d17bc",
   "metadata": {},
   "outputs": [],
   "source": [
    "# n"
   ]
  },
  {
   "cell_type": "code",
   "execution_count": 46,
   "id": "7c890a93",
   "metadata": {},
   "outputs": [
    {
     "name": "stdout",
     "output_type": "stream",
     "text": [
      "Please input the radius:34\n"
     ]
    },
    {
     "data": {
      "text/plain": [
       "'The area of circle with a radius 34.0 is: 3631.681107549801.'"
      ]
     },
     "execution_count": 46,
     "metadata": {},
     "output_type": "execute_result"
    }
   ],
   "source": [
    "radius = float(input('Please input the radius:')) # input radius\n",
    "\n",
    "area = m.pi * (radius ** 2)\n",
    "\n",
    "formated_string = f'The area of circle with a radius {radius} is: {area}.'\n",
    "formated_string"
   ]
  },
  {
   "cell_type": "markdown",
   "id": "2ddbdf44",
   "metadata": {},
   "source": [
    "## 3. Python Strings as Sequences of Characters or Indexing, Slicing\n",
    "<a id='#python-strings-as-sequences-of-characters'></a>\n",
    "\n",
    "\n",
    "#### Unpacking Characters"
   ]
  },
  {
   "cell_type": "code",
   "execution_count": 41,
   "id": "900aa1f0",
   "metadata": {},
   "outputs": [],
   "source": [
    "language = 'Python' # larnguage is variable\n",
    "a,b,c,d,e,f = language "
   ]
  },
  {
   "cell_type": "markdown",
   "id": "a1b4abba",
   "metadata": {},
   "source": [
    "### Indexing\n",
    "\n",
    "It is helpful to think of a string as an ordered sequence. Each element in the sequence can be accessed using an index represented by the array of numbers:"
   ]
  },
  {
   "cell_type": "markdown",
   "id": "fbc4d736",
   "metadata": {},
   "source": [
    "<img src=\"https://cf-courses-data.s3.us.cloud-object-storage.appdomain.cloud/IBMDeveloperSkillsNetwork-PY0101EN-SkillsNetwork/labs/Module%201/images/StringsIndex.png\" width=\"600\" align=\"center\">"
   ]
  },
  {
   "cell_type": "markdown",
   "id": "a7766559",
   "metadata": {},
   "source": [
    "#### Negative Indexing\n",
    "\n",
    "We can also use negative indexing with strings:\n",
    "\n",
    "<img src=\"https://cf-courses-data.s3.us.cloud-object-storage.appdomain.cloud/IBMDeveloperSkillsNetwork-PY0101EN-SkillsNetwork/labs/Module%201/images/StringsNeg.png\" width=\"600\" align=\"center\">\n"
   ]
  },
  {
   "cell_type": "code",
   "execution_count": 28,
   "id": "3bb5e3e9",
   "metadata": {},
   "outputs": [],
   "source": [
    "name = 'Michael Jackson'"
   ]
  },
  {
   "cell_type": "markdown",
   "id": "81f2adee",
   "metadata": {},
   "source": [
    "\n",
    "#### Accessing Characters in Strings by Index\n",
    "\n",
    "In **python programming** counting starts from zero. Therefore the first letter of a string is at zero index and the last letter of a string is the length of a string minus one."
   ]
  },
  {
   "cell_type": "markdown",
   "id": "f589412e",
   "metadata": {},
   "source": [
    "If we want to start from right end we can use negative indexing. -1 is the last index.\n"
   ]
  },
  {
   "cell_type": "markdown",
   "id": "5c415580",
   "metadata": {},
   "source": [
    "#### Slicing Python Strings\n",
    "\n",
    "In python we can slice strings into substrings.\n",
    "\n",
    "<img src=\"https://cf-courses-data.s3.us.cloud-object-storage.appdomain.cloud/IBMDeveloperSkillsNetwork-PY0101EN-SkillsNetwork/labs/Module%201/images/StringsSlice.png\" width=\"600\" align=\"center\">\n"
   ]
  },
  {
   "cell_type": "markdown",
   "id": "816aa861",
   "metadata": {},
   "source": [
    "#### Stride\n",
    "\n",
    "We can also input a stride value as follows, with the '2' indicating that we are selecting every second variable:\n",
    "\n",
    "<img src=\"https://cf-courses-data.s3.us.cloud-object-storage.appdomain.cloud/IBMDeveloperSkillsNetwork-PY0101EN-SkillsNetwork/labs/Module%201/images/StringsStride.png\" width=\"600\" align=\"center\">\n"
   ]
  },
  {
   "cell_type": "markdown",
   "id": "e4467fa9",
   "metadata": {},
   "source": [
    "#### Reversing a String\n",
    "\n",
    "We can easily reverse strings in python.\n"
   ]
  },
  {
   "cell_type": "code",
   "execution_count": 30,
   "id": "3a4cf7a9",
   "metadata": {},
   "outputs": [
    {
     "data": {
      "text/plain": [
       "'noskcaJ leahciM'"
      ]
     },
     "execution_count": 30,
     "metadata": {},
     "output_type": "execute_result"
    }
   ],
   "source": [
    "name[::-1]"
   ]
  },
  {
   "cell_type": "markdown",
   "id": "9ad1e4c7",
   "metadata": {},
   "source": [
    "<a id='string-methods'></a>\n",
    "## 4. String Methods\n",
    "\n",
    "There are many string methods which allow us to format strings. See some of the string methods in the following example: \n",
    "```py\n",
    "upper(), strip(), split(), replace(), find() , more\n",
    "```\n",
    "- **string.upper()** and string.lower(): Returns a new string with all characters in uppercase or lowercase, respectively.\n"
   ]
  },
  {
   "cell_type": "code",
   "execution_count": 34,
   "id": "9c834c58-aa8c-44e7-9ba1-eec32fe00554",
   "metadata": {},
   "outputs": [],
   "source": [
    "my_string = \"Hello, World!\""
   ]
  },
  {
   "cell_type": "code",
   "execution_count": null,
   "id": "0cfe58aa",
   "metadata": {},
   "outputs": [],
   "source": [
    "upper_case = my_string.upper()  \n",
    "lower_case = my_string.lower() "
   ]
  },
  {
   "cell_type": "markdown",
   "id": "a35207b7",
   "metadata": {},
   "source": [
    "- **string.strip()**: Returns a new string with leading and trailing whitespace removed."
   ]
  },
  {
   "cell_type": "code",
   "execution_count": null,
   "id": "779cc3be",
   "metadata": {},
   "outputs": [],
   "source": [
    "my_string = \"   Hello, World!   \"\n",
    "stripped_string = my_string.strip()  # Returns \"Hello, World!\"\n"
   ]
  },
  {
   "cell_type": "code",
   "execution_count": null,
   "id": "e293f16f",
   "metadata": {},
   "outputs": [],
   "source": [
    "original_string = \"   This is a sample string with leading and trailing spaces.   \"\n",
    "original_string.strip()"
   ]
  },
  {
   "cell_type": "markdown",
   "id": "4a3be044",
   "metadata": {},
   "source": [
    "- **string.split(separator)**: Splits the string into a list of substrings based on the given separator."
   ]
  },
  {
   "cell_type": "code",
   "execution_count": null,
   "id": "9b39f819",
   "metadata": {},
   "outputs": [],
   "source": [
    "my_string = \"apple,banana,grape\"\n",
    "my_list = my_string.split(\",\")  \n",
    "my_list"
   ]
  },
  {
   "cell_type": "code",
   "execution_count": null,
   "id": "25bcf558",
   "metadata": {},
   "outputs": [],
   "source": [
    "my_string = 'apple banana grage'\n",
    "my_string.split()"
   ]
  },
  {
   "cell_type": "code",
   "execution_count": null,
   "id": "be63dc8c",
   "metadata": {},
   "outputs": [],
   "source": [
    "my_string = \"apple,banana,grape\"\n",
    "my_string.split(',')"
   ]
  },
  {
   "cell_type": "markdown",
   "id": "4ca94bbb",
   "metadata": {},
   "source": [
    "- **string.replace(old, new)**: Returns a new string with all occurrences of 'old' replaced by 'new'."
   ]
  },
  {
   "cell_type": "code",
   "execution_count": null,
   "id": "37bb5749",
   "metadata": {},
   "outputs": [],
   "source": [
    "my_string = \"Hello, World!\"\n",
    "new_string = my_string.replace(\"Hello\", \"Hi\") "
   ]
  },
  {
   "cell_type": "markdown",
   "id": "77b9f84c",
   "metadata": {},
   "source": [
    "- **string.find(substring)**: Returns the index of the first occurrence of the given substring in the string. Returns -1 if not found."
   ]
  },
  {
   "cell_type": "code",
   "execution_count": null,
   "id": "e360ca3a",
   "metadata": {},
   "outputs": [],
   "source": [
    "my_string = \"Hello, World!\"\n",
    "index = my_string.find(\"World\")  "
   ]
  },
  {
   "cell_type": "markdown",
   "id": "286cacbf",
   "metadata": {},
   "source": [
    "- **capitalize():** Converts the first character of the string to capital letter"
   ]
  },
  {
   "cell_type": "code",
   "execution_count": null,
   "id": "002d9422",
   "metadata": {},
   "outputs": [],
   "source": [
    "challenge = 'thirty days of python'\n",
    "challenge.capitalize() "
   ]
  },
  {
   "cell_type": "markdown",
   "id": "9e07d546",
   "metadata": {},
   "source": [
    "- **count():** returns occurrences of substring in string, count(substring, start=.., end=..). The start is a starting indexing for counting and end is the last index to count."
   ]
  },
  {
   "cell_type": "code",
   "execution_count": null,
   "id": "960f3d5e",
   "metadata": {},
   "outputs": [],
   "source": [
    "string1 = 'Hello, hello , hello, how are you?'\n",
    "string1.count('hello')"
   ]
  },
  {
   "cell_type": "markdown",
   "id": "9d57b3c8",
   "metadata": {},
   "source": [
    "- **endswith():** Checks if a string ends with a specified ending"
   ]
  },
  {
   "cell_type": "code",
   "execution_count": null,
   "id": "43d3732f",
   "metadata": {},
   "outputs": [],
   "source": [
    "string2 = \"Hello, world!\"\n",
    "\n",
    "result = string2.endswith(\"!\")\n",
    "result\n"
   ]
  },
  {
   "cell_type": "markdown",
   "id": "a8be056f",
   "metadata": {},
   "source": [
    "- **expandtabs()**: Replaces tab character with spaces, default tab size is 8. It takes tab size argument\n"
   ]
  },
  {
   "cell_type": "code",
   "execution_count": null,
   "id": "c962fe4e",
   "metadata": {},
   "outputs": [],
   "source": [
    "string3 = \"Hello\\tworld!\\tThis\\tis\\ta\\ttab\\texample.\"\n",
    "\n",
    "# Use expandtabs to replace tabs with spaces (default is 8 spaces per tab)\n",
    "expanded_string = string3.expandtabs()\n",
    "expanded_string"
   ]
  },
  {
   "cell_type": "markdown",
   "id": "82f9b913",
   "metadata": {},
   "source": [
    "- **find()**: Returns the index of the first occurrence of a substring, if not found returns -1\n"
   ]
  },
  {
   "cell_type": "code",
   "execution_count": null,
   "id": "6284d3d3",
   "metadata": {},
   "outputs": [],
   "source": [
    "string4 = 'Hello world!'\n",
    "string4.find('l')"
   ]
  },
  {
   "cell_type": "markdown",
   "id": "1849daef",
   "metadata": {},
   "source": [
    "- **rfind()**: Returns the index of the last occurrence of a substring, if not found returns -1\n"
   ]
  },
  {
   "cell_type": "code",
   "execution_count": null,
   "id": "1cc21398",
   "metadata": {},
   "outputs": [],
   "source": [
    "string4.rfind('l')"
   ]
  },
  {
   "cell_type": "markdown",
   "id": "b516b0b8",
   "metadata": {},
   "source": [
    "- **format()**: formats string into a nicer output  \n",
    "   More about string formatting check this [link](https://www.programiz.com/python-programming/methods/string/format)"
   ]
  },
  {
   "cell_type": "code",
   "execution_count": null,
   "id": "ae91f83a",
   "metadata": {},
   "outputs": [],
   "source": [
    "name = 'Manon'\n",
    "age = 23\n",
    "string5 = 'My name is {} and I an {} years old.'.format(name, age)\n",
    "string5"
   ]
  },
  {
   "cell_type": "code",
   "execution_count": null,
   "id": "54b986c2",
   "metadata": {},
   "outputs": [],
   "source": [
    "string5 = 'My name is {} and I an {} years old {}.'.format(name, age, age, age)\n",
    "string5"
   ]
  },
  {
   "cell_type": "markdown",
   "id": "76688596",
   "metadata": {},
   "source": [
    "- index(): Returns the lowest index of a substring, additional arguments indicate starting and ending index (default 0 and string length - 1). If the substring is not found it raises a valueError. "
   ]
  },
  {
   "cell_type": "code",
   "execution_count": null,
   "id": "32485698",
   "metadata": {},
   "outputs": [],
   "source": [
    "challenge = 'thirty days of python'\n",
    "sub_string = 'da'\n",
    "print(challenge.index(sub_string))  # 7\n",
    "# print(challenge.index(sub_string, 9)) # error"
   ]
  },
  {
   "cell_type": "markdown",
   "id": "f23846f4",
   "metadata": {},
   "source": [
    "- rindex(): Returns the highest index of a substring, additional arguments indicate starting and ending index (default 0 and string length - 1)\n"
   ]
  },
  {
   "cell_type": "code",
   "execution_count": null,
   "id": "f2d615c3",
   "metadata": {},
   "outputs": [],
   "source": [
    "challenge = 'thirty days of python'\n",
    "sub_string = 'da'\n",
    "print(challenge.rindex(sub_string))  # 8\n",
    "# print(challenge.rindex(sub_string, 9)) # error"
   ]
  },
  {
   "cell_type": "markdown",
   "id": "0e90922e",
   "metadata": {},
   "source": [
    "\n",
    "- isalnum(): Checks alphanumeric character"
   ]
  },
  {
   "cell_type": "code",
   "execution_count": null,
   "id": "965eb2ab",
   "metadata": {},
   "outputs": [],
   "source": [
    "challenge = 'ThirtyDaysPython'\n",
    "print(challenge.isalnum()) # True\n",
    "\n",
    "challenge = '30DaysPython'\n",
    "print(challenge.isalnum()) # True\n",
    "\n",
    "challenge = 'thirty days of python'\n",
    "print(challenge.isalnum()) # False, space is not an alphanumeric character\n",
    "\n",
    "challenge = 'thirty days of python 2019'\n",
    "print(challenge.isalnum()) # False"
   ]
  },
  {
   "cell_type": "markdown",
   "id": "80c1385e",
   "metadata": {},
   "source": [
    "- isalpha(): Checks if all string elements are alphabet characters (a-z and A-Z)"
   ]
  },
  {
   "cell_type": "code",
   "execution_count": null,
   "id": "8b87f1b5",
   "metadata": {},
   "outputs": [],
   "source": [
    "challenge = 'thirty days of python'\n",
    "print(challenge.isalpha()) # False, space is once again excluded\n",
    "challenge = 'ThirtyDaysPython'\n",
    "print(challenge.isalpha()) # True\n",
    "num = '123'\n",
    "print(num.isalpha())      # False"
   ]
  },
  {
   "cell_type": "markdown",
   "id": "073096f6",
   "metadata": {},
   "source": [
    "\n",
    "- isdecimal(): Checks if all characters in a string are decimal (0-9)"
   ]
  },
  {
   "cell_type": "code",
   "execution_count": null,
   "id": "254fe8d4",
   "metadata": {},
   "outputs": [],
   "source": [
    "challenge = 'thirty days of python'\n",
    "print(challenge.isdecimal())  # False\n",
    "challenge = '123'\n",
    "print(challenge.isdecimal())  # True\n",
    "challenge = '\\u00B2'\n",
    "print(challenge.isdigit())   # False\n",
    "challenge = '12 3'\n",
    "print(challenge.isdecimal())  # False, space not allowed"
   ]
  },
  {
   "cell_type": "markdown",
   "id": "c86a73e7",
   "metadata": {},
   "source": [
    "- isdigit(): Checks if all characters in a string are numbers (0-9 and some other unicode characters for numbers)"
   ]
  },
  {
   "cell_type": "code",
   "execution_count": null,
   "id": "b9f3d65a",
   "metadata": {},
   "outputs": [],
   "source": [
    "challenge = 'Thirty'\n",
    "print(challenge.isdigit()) # False\n",
    "challenge = '30'\n",
    "print(challenge.isdigit())   # True\n",
    "challenge = '\\u00B2'\n",
    "print(challenge.isdigit())   # True"
   ]
  },
  {
   "cell_type": "markdown",
   "id": "869c7bf5",
   "metadata": {},
   "source": [
    "- isnumeric(): Checks if all characters in a string are numbers or number related (just like isdigit(), just accepts more symbols, like ½)"
   ]
  },
  {
   "cell_type": "code",
   "execution_count": null,
   "id": "c966ff7b",
   "metadata": {},
   "outputs": [],
   "source": [
    "num = '10'\n",
    "print(num.isnumeric()) # True\n",
    "num = '\\u00BD' # ½\n",
    "print(num.isnumeric()) # True\n",
    "num = '10.5'\n",
    "print(num.isnumeric()) # False"
   ]
  },
  {
   "cell_type": "markdown",
   "id": "c5ab300b",
   "metadata": {},
   "source": [
    "\n",
    "- isidentifier(): Checks for a valid identifier - it checks if a string is a valid variable name\n"
   ]
  },
  {
   "cell_type": "code",
   "execution_count": null,
   "id": "48f41f42",
   "metadata": {},
   "outputs": [],
   "source": [
    "challenge = '30DaysOfPython'\n",
    "print(challenge.isidentifier()) # False, because it starts with a number\n",
    "challenge = 'thirty_days_of_python'\n",
    "print(challenge.isidentifier()) # True"
   ]
  },
  {
   "cell_type": "markdown",
   "id": "71a646a6",
   "metadata": {},
   "source": [
    "\n",
    "\n",
    "- islower(): Checks if all alphabet characters in the string are lowercase"
   ]
  },
  {
   "cell_type": "code",
   "execution_count": null,
   "id": "67839511",
   "metadata": {},
   "outputs": [],
   "source": [
    "challenge = 'thirty days of python'\n",
    "print(challenge.islower()) # True\n",
    "challenge = 'Thirty days of python'\n",
    "print(challenge.islower()) # False"
   ]
  },
  {
   "cell_type": "markdown",
   "id": "55c32297",
   "metadata": {},
   "source": [
    "\n",
    "- isupper(): Checks if all alphabet characters in the string are uppercase\n"
   ]
  },
  {
   "cell_type": "code",
   "execution_count": null,
   "id": "0e2ab24f",
   "metadata": {},
   "outputs": [],
   "source": [
    "challenge = 'thirty days of python'\n",
    "print(challenge.isupper()) #  False\n",
    "challenge = 'THIRTY DAYS OF PYTHON'\n",
    "print(challenge.isupper()) # True"
   ]
  },
  {
   "cell_type": "markdown",
   "id": "55441299",
   "metadata": {},
   "source": [
    "\n",
    "- join(): Returns a concatenated string"
   ]
  },
  {
   "cell_type": "code",
   "execution_count": null,
   "id": "978d118e",
   "metadata": {},
   "outputs": [],
   "source": [
    "web_tech = ['HTML', 'CSS', 'JavaScript', 'React']\n",
    "result = ' '.join(web_tech)\n",
    "print(result) # 'HTML CSS JavaScript React'"
   ]
  },
  {
   "cell_type": "markdown",
   "id": "9912b7cc",
   "metadata": {},
   "source": [
    "\n",
    "- strip(): Removes all given characters starting from the beginning and end of the string"
   ]
  },
  {
   "cell_type": "code",
   "execution_count": null,
   "id": "c627ab45",
   "metadata": {},
   "outputs": [],
   "source": [
    "challenge = 'thirty days of pythoonnn'\n",
    "print(challenge.strip('noth')) # 'irty days of py'"
   ]
  },
  {
   "cell_type": "markdown",
   "id": "ce553f9f",
   "metadata": {},
   "source": [
    "\n",
    "- replace(): Replaces substring with a given string\n"
   ]
  },
  {
   "cell_type": "code",
   "execution_count": null,
   "id": "9f19a1a3",
   "metadata": {},
   "outputs": [],
   "source": [
    "challenge = 'thirty days of python'\n",
    "print(challenge.replace('python', 'coding')) # 'thirty days of coding'"
   ]
  },
  {
   "cell_type": "markdown",
   "id": "4be2ea14",
   "metadata": {},
   "source": [
    "\n",
    "- split(): Splits the string, using given string or space as a separator\n"
   ]
  },
  {
   "cell_type": "code",
   "execution_count": null,
   "id": "24135f51",
   "metadata": {},
   "outputs": [],
   "source": [
    "challenge = 'thirty days of python'\n",
    "print(challenge.split()) # ['thirty', 'days', 'of', 'python']\n",
    "challenge = 'thirty, days, of, python'\n",
    "print(challenge.split(', ')) # ['thirty', 'days', 'of', 'python']"
   ]
  },
  {
   "cell_type": "markdown",
   "id": "8df2d978",
   "metadata": {},
   "source": [
    "\n",
    "- title(): Returns a title cased string"
   ]
  },
  {
   "cell_type": "code",
   "execution_count": null,
   "id": "1e209eca",
   "metadata": {},
   "outputs": [],
   "source": [
    "challenge = 'thirty days of python'\n",
    "print(challenge.title()) # Thirty Days Of Python"
   ]
  },
  {
   "cell_type": "markdown",
   "id": "d972d479",
   "metadata": {},
   "source": [
    "- swapcase(): Converts all uppercase characters to lowercase and all lowercase characters to uppercase characters"
   ]
  },
  {
   "cell_type": "code",
   "execution_count": null,
   "id": "d2b6a896",
   "metadata": {},
   "outputs": [],
   "source": [
    "challenge = 'thirty days of python'\n",
    "print(challenge.swapcase())   # THIRTY DAYS OF PYTHON\n",
    "challenge = 'Thirty Days Of Python'\n",
    "print(challenge.swapcase())  # tHIRTY dAYS oF pYTHON"
   ]
  },
  {
   "cell_type": "markdown",
   "id": "0f909d08",
   "metadata": {},
   "source": [
    "\n",
    "- startswith(): Checks if String Starts with the Specified String"
   ]
  },
  {
   "cell_type": "code",
   "execution_count": null,
   "id": "eaa4ab17",
   "metadata": {},
   "outputs": [],
   "source": [
    "challenge = 'thirty days of python'\n",
    "print(challenge.startswith('thirty')) # True\n",
    "\n",
    "challenge = '30 days of python'\n",
    "print(challenge.startswith('thirty')) # False"
   ]
  }
 ],
 "metadata": {
  "kernelspec": {
   "display_name": "Python 3 (ipykernel)",
   "language": "python",
   "name": "python3"
  },
  "language_info": {
   "codemirror_mode": {
    "name": "ipython",
    "version": 3
   },
   "file_extension": ".py",
   "mimetype": "text/x-python",
   "name": "python",
   "nbconvert_exporter": "python",
   "pygments_lexer": "ipython3",
   "version": "3.11.5"
  }
 },
 "nbformat": 4,
 "nbformat_minor": 5
}
