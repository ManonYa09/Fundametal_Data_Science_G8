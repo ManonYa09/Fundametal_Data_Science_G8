{
 "cells": [
  {
   "cell_type": "markdown",
   "id": "c7383e55",
   "metadata": {},
   "source": [
    "##  Buit in Functions, Expression and Variable\n",
    "\n",
    "### Objectives\n",
    "\n",
    "After completing this lab you will be able to:\n",
    "\n",
    "* Write basic code in Python\n",
    "* Work with various types of data in Python\n",
    "* Work with Buil in function\n",
    "* Use expressions and variables to perform operations\n",
    " "
   ]
  },
  {
   "cell_type": "markdown",
   "id": "0a74080d",
   "metadata": {},
   "source": [
    "### Table of contents\n",
    "<a id=\"toc\"></a>\n",
    "- 1. [Built in functions](#build_in_functions)\n",
    "\n",
    "- 2. [Expression and Variables](#expression_and_varaibles)\n",
    "\n",
    "    - 2.1  [Expression](#expression)\n",
    "    \n",
    "    - 2.2  [Variables](#variables)\n",
    "    \n",
    "      - 2.2.1 [Declearing Multple Variable in a Line](#a)\n",
    "      - 2.2.2 [input function](#input) \n"
   ]
  },
  {
   "cell_type": "markdown",
   "id": "d15271d5",
   "metadata": {},
   "source": [
    "### Recall"
   ]
  },
  {
   "cell_type": "markdown",
   "id": "90b9f51d",
   "metadata": {},
   "source": [
    "1. `Integer`: negative, zero and positive numbers Example: ... -3, -2, -1, 0, 1, 2, 3 ....\n",
    "\n",
    "2. `Float`: It is a real number that can contain a fractional part. For example, 5.3, 3.14159, and 6.0 are all floats.\n",
    "\n",
    "3. `String`: Text in between quotes -- either single or double quotes -- is a string. For example, 'ABC', \"Coding\", 'Python Program'\n",
    "\n",
    "4. `Boolean`: It represents one of two values: `True` or `False`.\n"
   ]
  },
  {
   "cell_type": "markdown",
   "id": "2279e4f4",
   "metadata": {},
   "source": [
    "You can always check the data type of any variable using the `type()` function. The below example shows how to use the type function in python.\n",
    "```py\n",
    "type(10)\n",
    "type(10.5)\n",
    "type(\"abc\")\n",
    "\n",
    "```"
   ]
  },
  {
   "cell_type": "markdown",
   "id": "d86f8a46",
   "metadata": {},
   "source": [
    "<hr/>\n",
    "<div class=\"alert alert-success alertsuccess\" style=\"margin-top: 20px\">\n",
    "[Tip]: To execute the Python code in the code cell below, click on the cell to select it and press <kbd>Shift</kbd> + <kbd>Enter</kbd>.\n",
    "</div>\n",
    "<hr/>"
   ]
  },
  {
   "cell_type": "markdown",
   "id": "6dad464a",
   "metadata": {},
   "source": [
    "## Built in functions\n",
    "\n",
    "<a id='build_in_functions'> </a>"
   ]
  },
  {
   "cell_type": "markdown",
   "id": "b8375726",
   "metadata": {},
   "source": [
    "[python documentation](https://docs.python.org/3.9/library/functions.html)"
   ]
  },
  {
   "cell_type": "markdown",
   "id": "eaf18675",
   "metadata": {},
   "source": [
    "<img src=\"photos/photo_2023-12-09_21-51-54.jpg\" width=\"600\" align=\"center\">\n"
   ]
  },
  {
   "cell_type": "markdown",
   "id": "cd69a425",
   "metadata": {},
   "source": [
    "### Expressions and Variables\n",
    "<a id='expression_and_varaibles'> </a>\n",
    "\n",
    "<a id='expression'> </a>\n",
    "Expressions (**Mathematical Operations**): describe a type of operation the computer perform.\n",
    "\n"
   ]
  },
  {
   "cell_type": "markdown",
   "id": "71099512",
   "metadata": {},
   "source": [
    "#### Python Arithmetic Operators\n",
    "- **+:** The addition operator\n",
    "\n",
    "- **-:** The minus operator.\n",
    "\n",
    "- **\\*:** The multiplication operator.\n",
    "\n",
    "- **/:** The division operator.\n",
    "\n",
    "- **\\**:** The exponentiation operator.\n",
    "\n",
    "- **%:** The modulus operator."
   ]
  },
  {
   "cell_type": "markdown",
   "id": "00ef8583",
   "metadata": {},
   "source": [
    "### Comperison Oparetors"
   ]
  },
  {
   "cell_type": "markdown",
   "id": "2804336a",
   "metadata": {},
   "source": [
    " we use comparison operators to compare two values. We check if a value is greater or less or equal to other value. The following table shows Python comparison operators which was taken from [w3shool](https://www.w3schools.com/python/python_operators.asp).\n",
    " \n",
    " <img src=\"photos/photo_2023-12-09_22-33-23.jpg\" width=\"400\" align=\"center\">"
   ]
  },
  {
   "cell_type": "markdown",
   "id": "7b1ffe48",
   "metadata": {},
   "source": [
    "#### Logical Expressions\n"
   ]
  },
  {
   "cell_type": "markdown",
   "id": "6546df8d",
   "metadata": {},
   "source": [
    "<img src=\"photos/photo_2023-12-09_22-00-08.jpg\" width=\"600\" align=\"center\">"
   ]
  },
  {
   "cell_type": "markdown",
   "id": "62bfeba6",
   "metadata": {},
   "source": [
    "<a id='varaible'> </a>\n",
    "### Variable \n",
    "**Python Variable:** is contrainers that store value. Python is not **Statically typed**.\\\n",
    "We do not need to declare variables before using them or declare their type.\n"
   ]
  },
  {
   "cell_type": "markdown",
   "id": "9defea9c",
   "metadata": {},
   "source": [
    "Python Variable Name Rules\n",
    "\n",
    "- A variable name must start with a letter or the underscore character\n",
    "- A variable name cannot start with a number\n",
    "- A variable name can only contain alpha-numeric characters and underscores (A-z, 0-9, and _ )\n",
    "- Variable names are case-sensitive (firstname, Firstname, FirstName and FIRSTNAME) are different variables)\n",
    "\n",
    "Here are some example of valid variable names:"
   ]
  },
  {
   "cell_type": "code",
   "execution_count": null,
   "id": "9ba84742",
   "metadata": {},
   "outputs": [],
   "source": [
    "firstname \n",
    "lastname \n",
    "age\n",
    "country\n",
    "city\n",
    "first_name\n",
    "last_name\n",
    "capital_city\n",
    "_if\n",
    "year_2021\n",
    "year2021\n",
    "current_year_2021\n",
    "birth_year\n",
    "num1\n",
    "num2"
   ]
  },
  {
   "cell_type": "code",
   "execution_count": null,
   "id": "eec005dc",
   "metadata": {},
   "outputs": [],
   "source": [
    "##Invalid variables names\n",
    "first-name\n",
    "first@name\n",
    "first$name\n",
    "num-1\n",
    "1num"
   ]
  },
  {
   "cell_type": "markdown",
   "id": "8f603ed8",
   "metadata": {},
   "source": [
    "<a id='a'> </a>\n",
    "### Declaring Mutiple Variable in a Line"
   ]
  },
  {
   "cell_type": "code",
   "execution_count": null,
   "id": "61cd46c2",
   "metadata": {},
   "outputs": [],
   "source": [
    "import pandas as pd\n",
    "import numpy as np"
   ]
  },
  {
   "cell_type": "code",
   "execution_count": null,
   "id": "9b740430",
   "metadata": {},
   "outputs": [],
   "source": [
    "# import pandas as pd, numpy as np"
   ]
  },
  {
   "cell_type": "code",
   "execution_count": null,
   "id": "4c589582",
   "metadata": {},
   "outputs": [],
   "source": [
    "first_name, last_name, country, age, is_married = 'Manon', 'Ya', 'Phnom Penh', 23, False\n",
    "first_name = 'Manon'\n",
    "last_name = ' Ya'\n",
    "print(first_name, last_name, country, age, is_married)\n",
    "print('First name:', first_name)\n",
    "print('Last name: ', last_name)\n",
    "print('Country: ', country)\n",
    "print('Age: ', age)\n",
    "print('Married: ', is_married)"
   ]
  },
  {
   "cell_type": "code",
   "execution_count": null,
   "id": "1c72c3fc",
   "metadata": {},
   "outputs": [],
   "source": [
    "type(last_name)"
   ]
  },
  {
   "cell_type": "code",
   "execution_count": null,
   "id": "5012293b",
   "metadata": {},
   "outputs": [],
   "source": [
    "type(is_married)"
   ]
  },
  {
   "cell_type": "code",
   "execution_count": null,
   "id": "b5b7d0d0",
   "metadata": {},
   "outputs": [],
   "source": [
    "type(age)"
   ]
  },
  {
   "cell_type": "code",
   "execution_count": null,
   "id": "f322b639",
   "metadata": {},
   "outputs": [],
   "source": [
    "x = 5\n",
    "y = 10\n"
   ]
  },
  {
   "cell_type": "code",
   "execution_count": null,
   "id": "a8cc7924",
   "metadata": {},
   "outputs": [],
   "source": [
    "z = x+y\n",
    "print(k)\n",
    "print(z)"
   ]
  },
  {
   "cell_type": "code",
   "execution_count": null,
   "id": "ca4c7e87",
   "metadata": {},
   "outputs": [],
   "source": [
    "k = y-x\n",
    "print(k)\n",
    "a = k+z"
   ]
  },
  {
   "cell_type": "code",
   "execution_count": null,
   "id": "10effb38",
   "metadata": {},
   "outputs": [],
   "source": [
    "a = 1\n",
    "b = 2"
   ]
  },
  {
   "cell_type": "code",
   "execution_count": null,
   "id": "3048a717",
   "metadata": {},
   "outputs": [],
   "source": [
    "print('this is:',      a)\n",
    "print('This is:',                           b)\n",
    "print( \"This is (a - b):\", a-b)\n",
    "print('This is (a * b):', a*b)\n",
    "print('This is (a+b):', a+ b)"
   ]
  },
  {
   "cell_type": "markdown",
   "id": "6fdace75",
   "metadata": {},
   "source": [
    "area = 0.5 * base * height"
   ]
  },
  {
   "cell_type": "code",
   "execution_count": null,
   "id": "bf8b1b88",
   "metadata": {},
   "outputs": [],
   "source": [
    "b = 3221\n",
    "h = 314813\n",
    "\n",
    "area = 0.5 * b * h\n",
    "print('This is Area of Triangle ', area)"
   ]
  },
  {
   "cell_type": "code",
   "execution_count": null,
   "id": "c163b0a3",
   "metadata": {},
   "outputs": [],
   "source": [
    "area"
   ]
  },
  {
   "cell_type": "code",
   "execution_count": null,
   "id": "7b1a2261",
   "metadata": {},
   "outputs": [],
   "source": []
  },
  {
   "cell_type": "markdown",
   "id": "3e64605d",
   "metadata": {},
   "source": [
    "area1 = w*h"
   ]
  },
  {
   "cell_type": "code",
   "execution_count": null,
   "id": "fb39bf8d",
   "metadata": {},
   "outputs": [],
   "source": [
    "w = 23\n",
    "h = 3\n",
    "area_1 = h * w\n",
    "area_1"
   ]
  },
  {
   "cell_type": "code",
   "execution_count": null,
   "id": "b6cb4c73",
   "metadata": {},
   "outputs": [],
   "source": [
    "# Declaring the variable at the top first\n",
    "\n",
    "a = 7 # a is a variable name and 3 is an integer data type\n",
    "b = 6 # b is a variable name and 3 is an integer data type\n",
    "\n",
    "# Arithmetic operations and assigning the result to a variable\n",
    "total = a + b\n",
    "diff = a - b\n",
    "product = a * b\n",
    "division = a / b\n",
    "remainder = a % b\n",
    "floor_division = a // b\n",
    "exponential = a ** b\n",
    "\n",
    "# I should have used sum instead of total but sum is a built-in function - try to avoid overriding built-in functions\n",
    "print(total) # if you do not label your print with some string, you never know where the result is coming from\n",
    "print('a + b = ', total)\n",
    "print('a - b = ', diff)\n",
    "print('a * b = ', product)\n",
    "print('a / b = ', division)\n",
    "print('a % b = ', remainder)\n",
    "print('a // b = ', floor_division)\n",
    "print('a ** b = ', exponential)"
   ]
  },
  {
   "cell_type": "markdown",
   "id": "4c0d1bad",
   "metadata": {},
   "source": [
    "### Input Function\n",
    "`input()` function is used to take user input. By default, it returns the user input in form of a string. input() Function."
   ]
  },
  {
   "cell_type": "code",
   "execution_count": null,
   "id": "a53636ca",
   "metadata": {},
   "outputs": [],
   "source": [
    "b = 3221.234\n",
    "h = 314813\n",
    "\n",
    "area = 0.5 * b * h\n",
    "print('This is Area of Triangle ', area)"
   ]
  },
  {
   "cell_type": "code",
   "execution_count": null,
   "id": "0df117bd",
   "metadata": {},
   "outputs": [],
   "source": [
    "type\n",
    "print()"
   ]
  },
  {
   "cell_type": "code",
   "execution_count": null,
   "id": "58a16e06",
   "metadata": {},
   "outputs": [],
   "source": [
    "a = 5"
   ]
  },
  {
   "cell_type": "code",
   "execution_count": null,
   "id": "7b371ca5",
   "metadata": {},
   "outputs": [],
   "source": []
  },
  {
   "cell_type": "code",
   "execution_count": null,
   "id": "65c51e8e",
   "metadata": {},
   "outputs": [],
   "source": [
    "int('1')"
   ]
  },
  {
   "cell_type": "code",
   "execution_count": null,
   "id": "075a4959",
   "metadata": {},
   "outputs": [],
   "source": [
    "a = float(input())"
   ]
  },
  {
   "cell_type": "code",
   "execution_count": null,
   "id": "7ce98ead",
   "metadata": {},
   "outputs": [],
   "source": [
    "type(a)"
   ]
  },
  {
   "cell_type": "code",
   "execution_count": null,
   "id": "b59d2f7b",
   "metadata": {},
   "outputs": [],
   "source": [
    "type(a)"
   ]
  },
  {
   "cell_type": "code",
   "execution_count": null,
   "id": "957dc510",
   "metadata": {},
   "outputs": [],
   "source": [
    "b = 3221\n",
    "h = 313\n",
    "\n",
    "area = 0.5 * b * h\n",
    "print('This is Area of Triangle ', area)"
   ]
  },
  {
   "cell_type": "code",
   "execution_count": null,
   "id": "5a2989d1",
   "metadata": {},
   "outputs": [],
   "source": [
    "b = float(input())\n",
    "h = float(input())\n",
    "\n",
    "area = 0.5 * b * h\n",
    "print('This is Area of Triangle ', area)"
   ]
  },
  {
   "cell_type": "code",
   "execution_count": null,
   "id": "e4961b6f",
   "metadata": {},
   "outputs": [],
   "source": [
    "a = int(input('Please in the number:'))"
   ]
  },
  {
   "cell_type": "code",
   "execution_count": null,
   "id": "4bf4e11b",
   "metadata": {},
   "outputs": [],
   "source": [
    "float(input('Please in your age:'))"
   ]
  },
  {
   "cell_type": "code",
   "execution_count": null,
   "id": "dbbda7f7",
   "metadata": {},
   "outputs": [],
   "source": [
    "b = float(input('Input b:'))\n",
    "h = float(input('Input h:'))\n",
    "area = 0.5 * b * h\n",
    "print('This is Area of Triangle ', area)"
   ]
  },
  {
   "cell_type": "code",
   "execution_count": null,
   "id": "238ca384",
   "metadata": {},
   "outputs": [],
   "source": [
    "type(a)"
   ]
  },
  {
   "cell_type": "code",
   "execution_count": null,
   "id": "01df4953",
   "metadata": {},
   "outputs": [],
   "source": [
    "print('== Addition, Subtraction, Multiplication, Division, Modulus ==')\n",
    "# Declaring values and organizing them together\n",
    "num_one = float(input('Input num_one:'))\n",
    "num_two = float(input('Input num_two:'))\n",
    "\n",
    "# Arithmetic operations\n",
    "total = num_one + num_two\n",
    "diff = num_two - num_one\n",
    "product = num_one * num_two\n",
    "div = num_two / num_one\n",
    "remainder = num_two % num_one\n",
    "print('total: ', total)\n",
    "print('difference: ', diff)\n",
    "print('product: ', product)\n",
    "print('division: ', div)\n",
    "print('remainder: ', remainder)"
   ]
  },
  {
   "cell_type": "code",
   "execution_count": null,
   "id": "7cac1c18",
   "metadata": {},
   "outputs": [],
   "source": [
    "total"
   ]
  },
  {
   "cell_type": "code",
   "execution_count": null,
   "id": "f5736043",
   "metadata": {},
   "outputs": [],
   "source": [
    "diff"
   ]
  },
  {
   "cell_type": "code",
   "execution_count": null,
   "id": "410ee019",
   "metadata": {},
   "outputs": [],
   "source": [
    "# Printing values with label\n",
    "print('total: ', total)\n",
    "print('difference: ', diff)\n",
    "print('product: ', product)\n",
    "print('division: ', div)\n",
    "print('remainder: ', remainder)"
   ]
  },
  {
   "cell_type": "markdown",
   "id": "2d6f90dd",
   "metadata": {},
   "source": [
    "### Exercise"
   ]
  },
  {
   "cell_type": "markdown",
   "id": "832a0016",
   "metadata": {},
   "source": [
    "#####  Exercise1:\n",
    "1. Write a python comment saying `'Day 3: of python programming'`\n",
    "2. Declare a `first name` variable and assign a value to it\n",
    "3. Declare a `last name` variable and assign a value to it\n",
    "4. Declare a `full name` variable and assign a value to it\n",
    "5. Declare a `country` variable and assign a value to it\n",
    "6. Declare a `city` variable and assign a value to it\n",
    "7. Declare an `age` variable and assign a value to it\n",
    "8. Declare a `year` variable and assign a value to it\n",
    "9. Declare a variable `is_married` and assign a value to it\n",
    "10. Declare a variable `is_tru`e and assign a value to it\n",
    "11. Declare a variable `is_light_on` and assign a value to it\n",
    "12. Declare multiple variable on one line"
   ]
  },
  {
   "cell_type": "markdown",
   "id": "3d16d70f",
   "metadata": {},
   "source": [
    "##### Exercise2:\n",
    "\n",
    "1. Check the data type of all your variables using type() built-in function\n",
    "2. Using the len() built-in function, find the length of your first name\n",
    "3. Compare the length of your first name and your last name\n",
    "4. Declare 5 as num_one and 4 as num_two\n",
    "    - Add num_one and num_two and assign the value to a variable total\n",
    "    - Subtract num_two from num_one and assign the value to a variable diff\n",
    "    - Multiply num_two and num_one and assign the value to a variable product\n",
    "    - Divide num_one by num_two and assign the value to a variable division\n",
    "    - Use modulus division to find num_two divided by num_one and assign the value to a variable remainder\n",
    "    - Calculate num_one to the power of num_two and assign the value to a variable exp\n",
    "    - Find floor division of num_one by num_two and assign the value to a variable floor_division\n",
    "5. The radius of a circle is 30 meters.\n",
    "    - Calculate the area of a circle and assign the value to a variable name of area_of_circle\n",
    "    - Calculate the circumference of a circle and assign the value to a variable name of circum_of_circle\n",
    "    - Take radius as user input and calculate the area.\n"
   ]
  }
 ],
 "metadata": {
  "kernelspec": {
   "display_name": "Python 3 (ipykernel)",
   "language": "python",
   "name": "python3"
  },
  "language_info": {
   "codemirror_mode": {
    "name": "ipython",
    "version": 3
   },
   "file_extension": ".py",
   "mimetype": "text/x-python",
   "name": "python",
   "nbconvert_exporter": "python",
   "pygments_lexer": "ipython3",
   "version": "3.11.5"
  }
 },
 "nbformat": 4,
 "nbformat_minor": 5
}
