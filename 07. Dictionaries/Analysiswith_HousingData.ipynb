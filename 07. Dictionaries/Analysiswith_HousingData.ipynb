{
 "cells": [
  {
   "cell_type": "markdown",
   "id": "1e383507",
   "metadata": {},
   "source": [
    "<div style=\"padding:20px;\n",
    "            color:white;\n",
    "            margin:10;\n",
    "            font-size:170%;\n",
    "            text-align:left;\n",
    "            display:fill;\n",
    "            border-radius:5px;\n",
    "            background-color:#CA6F1E;\n",
    "            overflow:hidden;\n",
    "            font-weight:700\"><span style='color:#283747'></span>\"Import Library\" </div>"
   ]
  },
  {
   "cell_type": "code",
   "execution_count": 2,
   "id": "6dabbad3",
   "metadata": {},
   "outputs": [],
   "source": [
    "import pandas as pd"
   ]
  },
  {
   "cell_type": "markdown",
   "id": "6d7333a3",
   "metadata": {},
   "source": [
    "1. Display rows with odd indices in the dataset.\n",
    "2. Display rows with even indices in the dataset.\n",
    "3. \n",
    "\n",
    "    a. Check Datatype of Each Column\n",
    "\n",
    "    b. How many rows and columns are there in our Dataset?\n",
    "    \n",
    "4. \n",
    "- Which columns in the dataset contain missing values, and how many missing values are in each?\n",
    "- What is the percentage of missing values in each column?\n",
    "- Please remove it\n",
    "\n",
    "5. Highest and Lowest Purchase Prices(columns 'median_active_list_price').\n",
    "6. Display rows that `n%7 =0` and twos columns `['median_active_list_price', 'months_of_supply']`.\n",
    "7. How many county (State in USE) are provided California (CA) in dataset?\n",
    "8. How many regions are provided for specific states like Virginia (VA), Tennessee (TN), District of Columbia (DC), California (CA), etc.?\n",
    "9. \n",
    "\n",
    "    a. Calculate the age of each home (subtract 'period_begin' from 'period_end').\n",
    "    \n",
    "    b. Create a new column to store the result from 9a.\n",
    "    \n",
    "    c. c. Identify the year with the most homes built, based on their calculated age.\n",
    "10. Delete columns that are not important to us, such as: \n",
    "```py\n",
    "['period_begin', 'period_end', 'total_homes_sold',\n",
    "       'inventory', 'active_listings', 'age_of_inventory']\n",
    "\n",
    "```\n",
    "\n"
   ]
  }
 ],
 "metadata": {
  "kernelspec": {
   "display_name": "Python 3 (ipykernel)",
   "language": "python",
   "name": "python3"
  },
  "language_info": {
   "codemirror_mode": {
    "name": "ipython",
    "version": 3
   },
   "file_extension": ".py",
   "mimetype": "text/x-python",
   "name": "python",
   "nbconvert_exporter": "python",
   "pygments_lexer": "ipython3",
   "version": "3.11.5"
  }
 },
 "nbformat": 4,
 "nbformat_minor": 5
}
