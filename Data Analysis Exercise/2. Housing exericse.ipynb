{
 "cells": [
  {
   "cell_type": "markdown",
   "metadata": {},
   "source": [
    "1. How do you calculate the average house price for each number of bedrooms in the dataset?\n",
    "\n",
    "2. What is the median square footage for homes in each zip code present in the data?\n",
    "\n",
    "3. How can you filter out homes that are priced above the 75th percentile within each region?\n",
    "\n",
    "4. Write a function to categorize homes based on their price into 'Low', 'Medium', and 'High' categories. What criteria would you use?\n",
    "\n",
    "5. How can you determine the count of houses that have more than 2 bathrooms in each region?\n",
    "\n",
    "6. Create a new feature representing the price per square foot. How would you calculate this?\n",
    "\n",
    "7. How can you group the data by year built and calculate the average price for each decade?\n",
    "\n",
    "8. Is there a way to determine the most common number of floors for houses within each price category?\n",
    "\n",
    "9. How can you create a filtered subset of data for homes with waterfront views and at least 3 bedrooms?\n",
    "\n",
    "10. Create a new feature based on the age of the house (difference between current year and year built). How would you use this feature in your analysis?\n",
    "\n",
    "11. Can you split the dataset into training and test datasets with a 70-30 split while ensuring that the distribution of number of bedrooms is similar in both datasets?\n",
    "\n",
    "12. How can you use the groupby operation to find the average lot size for each type of condition rating?\n",
    "Create a visualization showing the relationship between the number of bedrooms and the average house price. What insights can you gather?\n",
    "\n",
    "13. How can you identify outliers in the living space area for each zip code?\n",
    "\n",
    "14. Can you determine the impact of the number of bathrooms on the average house price within each neighborhood group?\n",
    "\n",
    "15. How would you modify the dataset to include a new column that shows the relative price compared to the average price in the same zip code?\n",
    "\n",
    "16. What are the top 5 zip codes with the highest average house price and what features are common among houses in these areas?\n",
    "\n",
    "17. How can you compare the price distribution of homes with and without basements?\n",
    "\n",
    "18. Write a function to classify neighborhoods based on the average house age and price. What parameters would you consider?\n",
    "\n",
    "20. How can you analyze seasonal trends in house sales based on the month and year the house was sold?"
   ]
  },
  {
   "cell_type": "markdown",
   "metadata": {},
   "source": []
  }
 ],
 "metadata": {
  "language_info": {
   "name": "python"
  }
 },
 "nbformat": 4,
 "nbformat_minor": 2
}
