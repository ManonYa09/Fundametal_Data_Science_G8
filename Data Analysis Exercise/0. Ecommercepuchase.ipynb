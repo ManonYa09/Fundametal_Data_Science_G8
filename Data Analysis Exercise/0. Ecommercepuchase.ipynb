{
 "cells": [
  {
   "cell_type": "code",
   "execution_count": 37,
   "id": "70cda9e0",
   "metadata": {
    "tags": []
   },
   "outputs": [],
   "source": [
    "df = pd.read_csv('https://raw.githubusercontent.com/ManonYa09/Data_analysis_with_pandas/main/Data/Ecommerce%20Purchases.csv')"
   ]
  },
  {
   "cell_type": "markdown",
   "id": "d265e511",
   "metadata": {},
   "source": [
    "1. \n",
    "\n",
    "    a. Display Top 5 Rows of The Dataset\n",
    "    b. Check Last 5 Rows of The Dataset\n",
    "    c. Check Datatype of Each Column\n",
    "    d. Check null values in the dataset\n",
    "    e. How many rows and columns are there in our Dataset?\n",
    "2. How many people have French 'fr' as their Language?\n",
    "3. How many purchases did each user (based on the email) make?\n",
    "4. What is the average purchase price for each job category?\n",
    "5. Calculate the total revenue per credit card provider.\n",
    "6. What is the median purchase price for transactions made in AM versus PM?\n",
    "7. Find the maximum and minimum purchase amounts by browser language\n",
    "8. \n",
    "\n",
    "    a. How many unique companies are associated with purchases over $50?\n",
    "    b. Average purchase price for each IP address\n",
    "    c. Calculate the total revenue per lot code.\n",
    "    d. Who are the top 10 users by number of purchases?\n",
    "\n",
    "9. Job Title Contains Engineer or engineer\n",
    "10. Find The Email of the person with the following IP Address: 132.207.160.22\n",
    "11. How many People have Mastercard as their Credit Card Provider and made a purchase above 50?\n",
    "12. Find the email of the person with the following Credit Card Number: 4664825258997302\n",
    "13. How many people purchase during the AM and how many people purchase during PM?\n",
    "14. How many people have a credit card that expires in 2020?\n",
    "15. What are the top 5 most popular email providers (e.g. [gmail.com](http://gmail.com/), [yahoo.com](http://yahoo.com/), etc...)"
   ]
  },
  {
   "cell_type": "markdown",
   "id": "90cbce95",
   "metadata": {},
   "source": []
  }
 ],
 "metadata": {
  "kernelspec": {
   "display_name": "Python 3 (ipykernel)",
   "language": "python",
   "name": "python3"
  },
  "language_info": {
   "codemirror_mode": {
    "name": "ipython",
    "version": 3
   },
   "file_extension": ".py",
   "mimetype": "text/x-python",
   "name": "python",
   "nbconvert_exporter": "python",
   "pygments_lexer": "ipython3",
   "version": "3.11.5"
  }
 },
 "nbformat": 4,
 "nbformat_minor": 5
}
