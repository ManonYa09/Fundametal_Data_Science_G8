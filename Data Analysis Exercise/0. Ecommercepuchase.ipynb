{
 "cells": [
  {
   "cell_type": "code",
   "execution_count": 37,
   "id": "70cda9e0",
   "metadata": {
    "tags": []
   },
   "outputs": [],
   "source": [
    "df = pd.read_csv('https://raw.githubusercontent.com/ManonYa09/Data_analysis_with_pandas/main/Data/Ecommerce%20Purchases.csv')"
   ]
  },
  {
   "cell_type": "markdown",
   "id": "d265e511",
   "metadata": {},
   "source": [
    " 1. Display Top 10 Rows of The Dataset\n",
    "2. Check Last 10 Rows of The Dataset\n",
    "3. Check Datatype of Each Column\n",
    "4. Check null values in the dataset\n",
    "5. How many rows and columns are there in our Dataset?\n",
    "6. Highest and Lowest Purchase Prices.\n",
    "7. Average Purchase Price\n",
    "8. How many people have French 'fr' as their Language?\n",
    "9. Job Title Contains Engineer or engineer\n",
    "10. Find The Email of the person with the following IP Address: 132.207.160.22\n",
    "11. How many People have Mastercard as their Credit Card Provider and made a purchase above 50?\n",
    "12. Find the email of the person with the following Credit Card Number: 4664825258997302\n",
    "13. How many people purchase during the AM and how many people purchase during PM?\n",
    "14. How many people have a credit card that expires in 2020?\n",
    "15. What are the top 5 most popular email providers (e.g. [gmail.com](http://gmail.com/), [yahoo.com](http://yahoo.com/), etc...)"
   ]
  }
 ],
 "metadata": {
  "kernelspec": {
   "display_name": "Python 3 (ipykernel)",
   "language": "python",
   "name": "python3"
  },
  "language_info": {
   "codemirror_mode": {
    "name": "ipython",
    "version": 3
   },
   "file_extension": ".py",
   "mimetype": "text/x-python",
   "name": "python",
   "nbconvert_exporter": "python",
   "pygments_lexer": "ipython3",
   "version": "3.11.5"
  }
 },
 "nbformat": 4,
 "nbformat_minor": 5
}
