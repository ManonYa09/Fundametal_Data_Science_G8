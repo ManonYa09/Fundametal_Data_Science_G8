{
 "cells": [
  {
   "cell_type": "markdown",
   "id": "07e0c1b5-50ff-441c-b92c-6216eba1d172",
   "metadata": {},
   "source": [
    "<div style=\"text-align: center;\">\n",
    "    <img src=\"https://raw.githubusercontent.com/ManonYa09/Fundametal_Data_Science_G8/main/Slide/Photo/foundation%20%20Programming%20.png\" alt=\"Data Types in Python\" width=\"600\">\n",
    "</div>"
   ]
  },
  {
   "cell_type": "markdown",
   "id": "1c736a99",
   "metadata": {},
   "source": [
    "## Table of contents\n",
    "<a id=\"toc\"></a>\n",
    "\n",
    "- [1. Why is Programming Necessary for Data Science?](#why_prgramming_neccesary_for_datascience?)\n",
    "- [2. Writing Your First Python Code](#writing_your_first_python_code)\n",
    "  - [2.1  Using Python as a Calculator](#using_python_as_a_calculator)\n",
    "\n",
    "- [3. Data Types in Python](#data_types_in_python)\n",
    "    - [3.1 Number](#number)\n",
    "        - [Integer](#integer)\n",
    "        - [Float](#float)\n",
    "        - [Complex Number](#complex_number)\n",
    "    - [3.2 Strings](#)\n",
    "    - [3.3 Sequence](#)\n",
    "    - [3.4 Dictionary](#)\n"
   ]
  },
  {
   "cell_type": "markdown",
   "id": "0ce2edad-c682-4bf6-b24a-2b3ffc87786b",
   "metadata": {
    "jp-MarkdownHeadingCollapsed": true
   },
   "source": [
    "<a id ='why_prgramming_neccesary_for_datascience?'></a> \n",
    "## 1. Why is Programming Necessary for Data Science?\n",
    "\n",
    "**Proficiency in programming is essential for several reasons.**\n",
    "\n",
    "- **Manipulate data**\n",
    "- **implement algorimthms**\n",
    "- **Automate tasks**."
   ]
  },
  {
   "cell_type": "markdown",
   "id": "25a85bfe",
   "metadata": {},
   "source": [
    "<a id ='writing_your_first_python_code'></a> \n",
    "## 2. Writing Your Frist Python Code\n"
   ]
  },
  {
   "cell_type": "markdown",
   "id": "97941c65-1f98-4644-b0bd-02a629b48330",
   "metadata": {},
   "source": [
    "The `print()` function will display a specified value.\n",
    "```python\n",
    "print('Hello world')\n",
    "```"
   ]
  },
  {
   "cell_type": "markdown",
   "id": "26c62793-9b41-458f-9444-215e9c24f202",
   "metadata": {},
   "source": [
    "<hr/>\n",
    "<div class=\"alert alert-success alertsuccess\" style=\"margin-top: 20px\">\n",
    "[Tip]: To execute (run) the Python code in the code cell below, click on the cell to select it and press <kbd>Shift</kbd> + <kbd>Enter</kbd>.\n",
    "</div>\n",
    "<hr/>"
   ]
  },
  {
   "cell_type": "code",
   "execution_count": 55,
   "id": "365eb699-44f4-4fe2-b4b3-c34858aac94b",
   "metadata": {},
   "outputs": [
    {
     "name": "stdout",
     "output_type": "stream",
     "text": [
      "Hello world testing you\n"
     ]
    }
   ],
   "source": [
    "print('Hello world', 'testing', 'you')"
   ]
  },
  {
   "cell_type": "markdown",
   "id": "8f7100e0-01ed-432a-a40c-eb78c33ae0f5",
   "metadata": {},
   "source": [
    "### 2.1 Using Python as a Calculator"
   ]
  },
  {
   "cell_type": "code",
   "execution_count": 79,
   "id": "41882474",
   "metadata": {},
   "outputs": [
    {
     "data": {
      "text/plain": [
       "9"
      ]
     },
     "execution_count": 79,
     "metadata": {},
     "output_type": "execute_result"
    }
   ],
   "source": [
    "a = 5\n",
    "b = 3\n",
    "result = a + b\n",
    "result+1"
   ]
  },
  {
   "cell_type": "code",
   "execution_count": 83,
   "id": "1008d7fd-8fc1-40d4-90e5-fdcd6938ed4e",
   "metadata": {},
   "outputs": [
    {
     "data": {
      "text/plain": [
       "2"
      ]
     },
     "execution_count": 83,
     "metadata": {},
     "output_type": "execute_result"
    }
   ],
   "source": [
    "a = 5\n",
    "b = 3\n",
    "result = a - b\n",
    "result"
   ]
  },
  {
   "cell_type": "code",
   "execution_count": 85,
   "id": "6100bb58-c591-4296-a148-f8bf4f675676",
   "metadata": {},
   "outputs": [
    {
     "name": "stdout",
     "output_type": "stream",
     "text": [
      "15\n"
     ]
    }
   ],
   "source": [
    "a = 5\n",
    "b = 3\n",
    "result = a * b\n",
    "print(result)"
   ]
  },
  {
   "cell_type": "code",
   "execution_count": 3,
   "id": "b0a42b5d",
   "metadata": {},
   "outputs": [
    {
     "data": {
      "text/plain": [
       "232143214124427468390269337264"
      ]
     },
     "execution_count": 3,
     "metadata": {},
     "output_type": "execute_result"
    }
   ],
   "source": [
    "232143214124353543535412412412+3214124124214124*23"
   ]
  },
  {
   "cell_type": "markdown",
   "id": "1917aa18",
   "metadata": {},
   "source": [
    "### Exercises Calculate the exercise below:"
   ]
  },
  {
   "cell_type": "markdown",
   "id": "defb9422",
   "metadata": {},
   "source": [
    "A. "
   ]
  },
  {
   "cell_type": "markdown",
   "id": "efb01b2d",
   "metadata": {},
   "source": [
    "B."
   ]
  },
  {
   "cell_type": "markdown",
   "id": "0c70d0ce",
   "metadata": {},
   "source": [
    "C."
   ]
  },
  {
   "cell_type": "markdown",
   "id": "3c0cde8e",
   "metadata": {},
   "source": [
    "D."
   ]
  },
  {
   "cell_type": "markdown",
   "id": "1d9035a3",
   "metadata": {},
   "source": [
    "E."
   ]
  },
  {
   "cell_type": "markdown",
   "id": "31cdf813",
   "metadata": {},
   "source": [
    "F."
   ]
  },
  {
   "cell_type": "code",
   "execution_count": 25,
   "id": "1e9606f3",
   "metadata": {},
   "outputs": [
    {
     "name": "stdout",
     "output_type": "stream",
     "text": [
      "Hello, World\n"
     ]
    }
   ],
   "source": [
    "print('Hello, World')"
   ]
  },
  {
   "cell_type": "markdown",
   "id": "276ff55f",
   "metadata": {},
   "source": [
    "## 3. Data Types in Python\n",
    "<a id= 'data_types_in_python'><a/>\n",
    "\n",
    "<div style=\"text-align: center;\">\n",
    "    <img src=\"https://media.geeksforgeeks.org/wp-content/uploads/20191023173512/Python-data-structure.jpg\" alt=\"Data Types in Python\" width=\"600\">\n",
    "</div>"
   ]
  },
  {
   "cell_type": "markdown",
   "id": "a9de877f",
   "metadata": {},
   "source": [
    "Python has the following data types built-in by default\n",
    "```python\n",
    "- Numeric Types: integer: int(), float(), complex()\n",
    "- Sequence Types: Strings(), list(), tuple(), range()\n",
    "- Mapping Type: dictionary\n",
    "- Set Types: set(), frozenset\n",
    "- Boolean Type: bool(True, False)\n",
    "- None Type: NoneType\n",
    "```"
   ]
  },
  {
   "cell_type": "markdown",
   "id": "eb8e35c1",
   "metadata": {},
   "source": [
    "### 3.1 Number"
   ]
  },
  {
   "cell_type": "markdown",
   "id": "70efed13",
   "metadata": {},
   "source": [
    "#### 3.1.1 Integer number"
   ]
  },
  {
   "cell_type": "markdown",
   "id": "0e4cbe48",
   "metadata": {},
   "source": [
    "#### 3.1.2 Float number"
   ]
  },
  {
   "cell_type": "markdown",
   "id": "713a3e05-d11c-4d2a-a9f3-8e6120cd8e54",
   "metadata": {},
   "source": [
    "#### 3.1.3 Complex number"
   ]
  },
  {
   "cell_type": "code",
   "execution_count": 104,
   "id": "ead02e55",
   "metadata": {},
   "outputs": [],
   "source": [
    "import pandas as pd"
   ]
  },
  {
   "cell_type": "code",
   "execution_count": 106,
   "id": "c5c68e53",
   "metadata": {},
   "outputs": [],
   "source": [
    "df = pd.read_csv('https://raw.githubusercontent.com/ManonYa09/Fundametal_Data_Science_G8/main/Dataset/3.%20housing_data.csv')"
   ]
  },
  {
   "cell_type": "code",
   "execution_count": 108,
   "id": "5ba71ba1-c64f-4d7d-abaf-db0db4559727",
   "metadata": {},
   "outputs": [
    {
     "data": {
      "text/html": [
       "<div>\n",
       "<style scoped>\n",
       "    .dataframe tbody tr th:only-of-type {\n",
       "        vertical-align: middle;\n",
       "    }\n",
       "\n",
       "    .dataframe tbody tr th {\n",
       "        vertical-align: top;\n",
       "    }\n",
       "\n",
       "    .dataframe thead th {\n",
       "        text-align: right;\n",
       "    }\n",
       "</style>\n",
       "<table border=\"1\" class=\"dataframe\">\n",
       "  <thead>\n",
       "    <tr style=\"text-align: right;\">\n",
       "      <th></th>\n",
       "      <th>region_name</th>\n",
       "      <th>period_begin</th>\n",
       "      <th>period_end</th>\n",
       "      <th>total_homes_sold</th>\n",
       "      <th>inventory</th>\n",
       "      <th>active_listings</th>\n",
       "      <th>age_of_inventory</th>\n",
       "      <th>median_active_list_price</th>\n",
       "      <th>months_of_supply</th>\n",
       "    </tr>\n",
       "  </thead>\n",
       "  <tbody>\n",
       "    <tr>\n",
       "      <th>0</th>\n",
       "      <td>Appling County, GA</td>\n",
       "      <td>2020-04-27</td>\n",
       "      <td>2020-07-19</td>\n",
       "      <td>NaN</td>\n",
       "      <td>1.0</td>\n",
       "      <td>1.0</td>\n",
       "      <td>222.7</td>\n",
       "      <td>136195.8</td>\n",
       "      <td>NaN</td>\n",
       "    </tr>\n",
       "    <tr>\n",
       "      <th>1</th>\n",
       "      <td>Tooele County, UT</td>\n",
       "      <td>2018-08-27</td>\n",
       "      <td>2018-11-18</td>\n",
       "      <td>325.0</td>\n",
       "      <td>NaN</td>\n",
       "      <td>NaN</td>\n",
       "      <td>NaN</td>\n",
       "      <td>NaN</td>\n",
       "      <td>NaN</td>\n",
       "    </tr>\n",
       "    <tr>\n",
       "      <th>2</th>\n",
       "      <td>Johnson County, TX</td>\n",
       "      <td>2019-09-23</td>\n",
       "      <td>2019-12-15</td>\n",
       "      <td>577.0</td>\n",
       "      <td>717.0</td>\n",
       "      <td>778.0</td>\n",
       "      <td>63.0</td>\n",
       "      <td>268737.6</td>\n",
       "      <td>17.095583</td>\n",
       "    </tr>\n",
       "    <tr>\n",
       "      <th>3</th>\n",
       "      <td>Holmes County, OH</td>\n",
       "      <td>2017-10-09</td>\n",
       "      <td>2017-12-31</td>\n",
       "      <td>22.0</td>\n",
       "      <td>52.0</td>\n",
       "      <td>54.0</td>\n",
       "      <td>109.4</td>\n",
       "      <td>115308.3</td>\n",
       "      <td>34.050000</td>\n",
       "    </tr>\n",
       "    <tr>\n",
       "      <th>4</th>\n",
       "      <td>Madison County, FL</td>\n",
       "      <td>2017-01-09</td>\n",
       "      <td>2017-04-02</td>\n",
       "      <td>12.0</td>\n",
       "      <td>54.0</td>\n",
       "      <td>55.0</td>\n",
       "      <td>151.2</td>\n",
       "      <td>158062.5</td>\n",
       "      <td>38.300000</td>\n",
       "    </tr>\n",
       "    <tr>\n",
       "      <th>...</th>\n",
       "      <td>...</td>\n",
       "      <td>...</td>\n",
       "      <td>...</td>\n",
       "      <td>...</td>\n",
       "      <td>...</td>\n",
       "      <td>...</td>\n",
       "      <td>...</td>\n",
       "      <td>...</td>\n",
       "      <td>...</td>\n",
       "    </tr>\n",
       "    <tr>\n",
       "      <th>622334</th>\n",
       "      <td>Washita County, OK</td>\n",
       "      <td>2019-11-25</td>\n",
       "      <td>2020-02-16</td>\n",
       "      <td>NaN</td>\n",
       "      <td>4.0</td>\n",
       "      <td>4.0</td>\n",
       "      <td>133.0</td>\n",
       "      <td>46650.0</td>\n",
       "      <td>NaN</td>\n",
       "    </tr>\n",
       "    <tr>\n",
       "      <th>622335</th>\n",
       "      <td>Gray County, TX</td>\n",
       "      <td>2019-02-25</td>\n",
       "      <td>2019-05-19</td>\n",
       "      <td>NaN</td>\n",
       "      <td>1.0</td>\n",
       "      <td>1.0</td>\n",
       "      <td>180.5</td>\n",
       "      <td>62500.0</td>\n",
       "      <td>NaN</td>\n",
       "    </tr>\n",
       "    <tr>\n",
       "      <th>622336</th>\n",
       "      <td>Custer County, OK</td>\n",
       "      <td>2020-02-24</td>\n",
       "      <td>2020-05-17</td>\n",
       "      <td>NaN</td>\n",
       "      <td>15.0</td>\n",
       "      <td>15.0</td>\n",
       "      <td>52.7</td>\n",
       "      <td>130120.8</td>\n",
       "      <td>NaN</td>\n",
       "    </tr>\n",
       "    <tr>\n",
       "      <th>622337</th>\n",
       "      <td>Choctaw County, MS</td>\n",
       "      <td>2019-12-30</td>\n",
       "      <td>2020-03-22</td>\n",
       "      <td>NaN</td>\n",
       "      <td>2.0</td>\n",
       "      <td>3.0</td>\n",
       "      <td>46.0</td>\n",
       "      <td>115268.7</td>\n",
       "      <td>NaN</td>\n",
       "    </tr>\n",
       "    <tr>\n",
       "      <th>622338</th>\n",
       "      <td>Morehouse Parish, LA</td>\n",
       "      <td>2022-02-14</td>\n",
       "      <td>2022-05-08</td>\n",
       "      <td>NaN</td>\n",
       "      <td>30.0</td>\n",
       "      <td>33.0</td>\n",
       "      <td>59.7</td>\n",
       "      <td>139979.1</td>\n",
       "      <td>NaN</td>\n",
       "    </tr>\n",
       "  </tbody>\n",
       "</table>\n",
       "<p>622339 rows × 9 columns</p>\n",
       "</div>"
      ],
      "text/plain": [
       "                 region_name period_begin  period_end  total_homes_sold  \\\n",
       "0         Appling County, GA   2020-04-27  2020-07-19               NaN   \n",
       "1          Tooele County, UT   2018-08-27  2018-11-18             325.0   \n",
       "2         Johnson County, TX   2019-09-23  2019-12-15             577.0   \n",
       "3          Holmes County, OH   2017-10-09  2017-12-31              22.0   \n",
       "4         Madison County, FL   2017-01-09  2017-04-02              12.0   \n",
       "...                      ...          ...         ...               ...   \n",
       "622334    Washita County, OK   2019-11-25  2020-02-16               NaN   \n",
       "622335       Gray County, TX   2019-02-25  2019-05-19               NaN   \n",
       "622336     Custer County, OK   2020-02-24  2020-05-17               NaN   \n",
       "622337    Choctaw County, MS   2019-12-30  2020-03-22               NaN   \n",
       "622338  Morehouse Parish, LA   2022-02-14  2022-05-08               NaN   \n",
       "\n",
       "        inventory  active_listings  age_of_inventory  \\\n",
       "0             1.0              1.0             222.7   \n",
       "1             NaN              NaN               NaN   \n",
       "2           717.0            778.0              63.0   \n",
       "3            52.0             54.0             109.4   \n",
       "4            54.0             55.0             151.2   \n",
       "...           ...              ...               ...   \n",
       "622334        4.0              4.0             133.0   \n",
       "622335        1.0              1.0             180.5   \n",
       "622336       15.0             15.0              52.7   \n",
       "622337        2.0              3.0              46.0   \n",
       "622338       30.0             33.0              59.7   \n",
       "\n",
       "        median_active_list_price  months_of_supply  \n",
       "0                       136195.8               NaN  \n",
       "1                            NaN               NaN  \n",
       "2                       268737.6         17.095583  \n",
       "3                       115308.3         34.050000  \n",
       "4                       158062.5         38.300000  \n",
       "...                          ...               ...  \n",
       "622334                   46650.0               NaN  \n",
       "622335                   62500.0               NaN  \n",
       "622336                  130120.8               NaN  \n",
       "622337                  115268.7               NaN  \n",
       "622338                  139979.1               NaN  \n",
       "\n",
       "[622339 rows x 9 columns]"
      ]
     },
     "execution_count": 108,
     "metadata": {},
     "output_type": "execute_result"
    }
   ],
   "source": [
    "df"
   ]
  },
  {
   "cell_type": "markdown",
   "id": "0e439421",
   "metadata": {},
   "source": [
    "### 3.2 Text type or Strings\n",
    "**Strings** in python are surrounded by either single quotation marks, or double quotation marks."
   ]
  },
  {
   "cell_type": "markdown",
   "id": "cfa44db6",
   "metadata": {},
   "source": [
    "### 3.3 Sequence Types: list, tuple, range"
   ]
  },
  {
   "cell_type": "code",
   "execution_count": null,
   "id": "1e396985",
   "metadata": {},
   "outputs": [],
   "source": [
    "## list"
   ]
  },
  {
   "cell_type": "code",
   "execution_count": null,
   "id": "edc89eda",
   "metadata": {},
   "outputs": [],
   "source": [
    "min([2324324, 234234324, 23423342, 234243242, 23432432,42**10])"
   ]
  },
  {
   "cell_type": "code",
   "execution_count": null,
   "id": "250ba6a9",
   "metadata": {},
   "outputs": [],
   "source": [
    "## tuple \n",
    "(1, 2, 3, 4, 5)"
   ]
  },
  {
   "cell_type": "code",
   "execution_count": 141,
   "id": "befb921d",
   "metadata": {},
   "outputs": [
    {
     "data": {
      "text/plain": [
       "range(0, 6)"
      ]
     },
     "execution_count": 141,
     "metadata": {},
     "output_type": "execute_result"
    }
   ],
   "source": [
    "## range \n",
    "range(0, 6)"
   ]
  },
  {
   "cell_type": "markdown",
   "id": "d42daf84",
   "metadata": {},
   "source": [
    "### 3.4 Dictionary"
   ]
  },
  {
   "cell_type": "code",
   "execution_count": null,
   "id": "94d73f6e-e715-4dec-bd0d-e4913029af8b",
   "metadata": {},
   "outputs": [],
   "source": [
    "{'name':['Manon', 'Soka']}"
   ]
  },
  {
   "cell_type": "code",
   "execution_count": null,
   "id": "04060161",
   "metadata": {},
   "outputs": [],
   "source": [
    "a = {'name':['Manon', 'Soka', 'Sok'],\n",
    "     'age':[25, 15, 12], \n",
    "     'is_married':[False, True,True]}"
   ]
  },
  {
   "cell_type": "code",
   "execution_count": null,
   "id": "5345bc6b",
   "metadata": {},
   "outputs": [],
   "source": [
    "r = 12\n",
    "pi = 3.14\n",
    "s = pi *  r**2\n",
    "s"
   ]
  },
  {
   "cell_type": "code",
   "execution_count": null,
   "id": "f1bebf8a",
   "metadata": {},
   "outputs": [],
   "source": [
    "a = {'name':['Manon', 'Soka', 'Sok'],\n",
    "     'age':[25, 15, 12], \n",
    "     'is_married':[False, True,True]}"
   ]
  },
  {
   "cell_type": "code",
   "execution_count": null,
   "id": "e352c7b2",
   "metadata": {},
   "outputs": [],
   "source": [
    "import pandas as pd"
   ]
  },
  {
   "cell_type": "code",
   "execution_count": null,
   "id": "d604d5fa",
   "metadata": {},
   "outputs": [],
   "source": [
    "df = pd.DataFrame(a)"
   ]
  },
  {
   "cell_type": "code",
   "execution_count": null,
   "id": "b7b78148",
   "metadata": {},
   "outputs": [],
   "source": [
    "df['age'].sum()"
   ]
  },
  {
   "cell_type": "code",
   "execution_count": null,
   "id": "a3334097",
   "metadata": {},
   "outputs": [],
   "source": [
    "df['age'].min()"
   ]
  },
  {
   "cell_type": "code",
   "execution_count": null,
   "id": "2b1966af",
   "metadata": {},
   "outputs": [],
   "source": [
    "df['age'].mean()"
   ]
  },
  {
   "cell_type": "code",
   "execution_count": null,
   "id": "05536cb3",
   "metadata": {},
   "outputs": [],
   "source": [
    "df['age'].max()"
   ]
  },
  {
   "cell_type": "code",
   "execution_count": null,
   "id": "c5e22bb6",
   "metadata": {},
   "outputs": [],
   "source": [
    "df.dtypes"
   ]
  },
  {
   "cell_type": "code",
   "execution_count": null,
   "id": "5c5943a4",
   "metadata": {},
   "outputs": [],
   "source": [
    "type(a)"
   ]
  },
  {
   "cell_type": "markdown",
   "id": "36e83881",
   "metadata": {},
   "source": [
    "Take your time to look at the example about `data types` in Python below:"
   ]
  },
  {
   "cell_type": "code",
   "execution_count": null,
   "id": "dc691a78",
   "metadata": {},
   "outputs": [],
   "source": [
    "first_name = \"Manon\"        # str\n",
    "last_name = 'Ya'            # str"
   ]
  },
  {
   "cell_type": "code",
   "execution_count": null,
   "id": "04338eaa",
   "metadata": {},
   "outputs": [],
   "source": [
    "type('Manon')"
   ]
  },
  {
   "cell_type": "code",
   "execution_count": null,
   "id": "bcd74d80",
   "metadata": {},
   "outputs": [],
   "source": [
    "type(first_name)"
   ]
  },
  {
   "cell_type": "code",
   "execution_count": null,
   "id": "9c9b4423",
   "metadata": {},
   "outputs": [],
   "source": [
    "type(last_name)"
   ]
  },
  {
   "cell_type": "code",
   "execution_count": null,
   "id": "06e1a0a2",
   "metadata": {},
   "outputs": [],
   "source": [
    "country = ['Cambodia']        # str\n",
    "city= ('Phnom Penh', 'pp')         # str\n",
    "age = 250                   # int, it is not my real age, don't worry about it\n"
   ]
  },
  {
   "cell_type": "code",
   "execution_count": null,
   "id": "64544688",
   "metadata": {},
   "outputs": [],
   "source": [
    "type(('pp'))"
   ]
  },
  {
   "cell_type": "code",
   "execution_count": null,
   "id": "02422286",
   "metadata": {},
   "outputs": [],
   "source": [
    "type(country)"
   ]
  },
  {
   "cell_type": "code",
   "execution_count": null,
   "id": "ecc30ca3",
   "metadata": {},
   "outputs": [],
   "source": [
    "type(city)"
   ]
  },
  {
   "cell_type": "code",
   "execution_count": null,
   "id": "d6950e1c",
   "metadata": {},
   "outputs": [],
   "source": [
    "type(age)"
   ]
  },
  {
   "cell_type": "markdown",
   "id": "167e0b01",
   "metadata": {},
   "source": [
    "1. What is the Types of the following: 0<br>\n",
    "    - int\n",
    "    - float\n"
   ]
  },
  {
   "cell_type": "markdown",
   "id": "0dcee38b",
   "metadata": {},
   "source": [
    "2. What is the type of the following number 3.1222<br>\n",
    "    - int \n",
    "    - float"
   ]
  },
  {
   "cell_type": "code",
   "execution_count": null,
   "id": "fb1d380d",
   "metadata": {},
   "outputs": [],
   "source": [
    "type(3.1222)"
   ]
  },
  {
   "cell_type": "code",
   "execution_count": null,
   "id": "a5a27c41",
   "metadata": {},
   "outputs": [],
   "source": [
    "type(int(3.12))"
   ]
  },
  {
   "cell_type": "code",
   "execution_count": null,
   "id": "bcf41261",
   "metadata": {},
   "outputs": [],
   "source": [
    "# Different python data types\n",
    "# Let's declare variables with various data types\n",
    "\n",
    "first_name = \"Manon\"        # str\n",
    "last_name = 'Ya'            # str\n",
    "country = 'Cambodia'        # str\n",
    "city= 'Phnom Penh'          # str\n",
    "age = 250                   # int, it is not my real age, don't worry about it\n"
   ]
  },
  {
   "cell_type": "code",
   "execution_count": null,
   "id": "0cf5e6d2",
   "metadata": {},
   "outputs": [],
   "source": [
    "# Printing out types\n",
    "print(type('Manon'))     # str\n",
    "print(type(first_name))     # str\n",
    "print(type(10))             # int\n",
    "print(type(3.14))           # float\n",
    "print(type(1 + 1j))         # complex\n",
    "print(type(True))           # bool\n",
    "print(type([1, 2, 3, 4]))     # list"
   ]
  },
  {
   "cell_type": "code",
   "execution_count": null,
   "id": "e196b7aa",
   "metadata": {},
   "outputs": [],
   "source": [
    "print(type({'name':'Manon','age':250, 'is_married':250}))       # dict\n",
    "print(type((1,2)))                                              # tuple\n",
    "print(type(zip([1,2],[3,4])))   "
   ]
  },
  {
   "cell_type": "markdown",
   "id": "1f97c6d6",
   "metadata": {},
   "source": [
    "Take your time to use the `type()` function to check complex number types above."
   ]
  }
 ],
 "metadata": {
  "kernelspec": {
   "display_name": "Python 3 (ipykernel)",
   "language": "python",
   "name": "python3"
  },
  "language_info": {
   "codemirror_mode": {
    "name": "ipython",
    "version": 3
   },
   "file_extension": ".py",
   "mimetype": "text/x-python",
   "name": "python",
   "nbconvert_exporter": "python",
   "pygments_lexer": "ipython3",
   "version": "3.11.5"
  }
 },
 "nbformat": 4,
 "nbformat_minor": 5
}
