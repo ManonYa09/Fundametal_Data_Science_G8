{
 "cells": [
  {
   "cell_type": "markdown",
   "id": "88c49ec6",
   "metadata": {},
   "source": [
    "## Table of contents\n",
    "- [1. What is Functions?](#functions)\n",
    "    - [1.1 Defining a Function](#defining-a-function)\n",
    "    - [1.2 Declaring and Calling a Function](#declaring-and-calling-a-function)\n",
    "- [2. Function without Parameters](#function-without-parameters)\n",
    "- [3. Function with Parameters](#function-with-parameters)\n",
    "    - [3.1 Function Returning a Value]() \n",
    "    - [3.2 Passing Arguments with Key and Value](#passing-arguments-with-key-and-value)\n",
    "- [4. Function with Default Parameters](#function-with-default-parameters)\n",
    "    - [4.1 Arbitrary Arguments](#arbitrary-number-of-arguments)\n",
    "    - [4.2 Default and Arbitrary Number of Parameters in Functions](#default-and-arbitrary-number-of-parameters-in-functions)"
   ]
  },
  {
   "cell_type": "markdown",
   "id": "85767142-4f32-4a81-b132-64044e9859b4",
   "metadata": {},
   "source": [
    "\n",
    "<div style=\"text-align: center;\">\n",
    "    <img src=\"https://raw.githubusercontent.com/ManonYa09/Fundametal_Data_Science_G8/main/Slide/Photo/5.%20Function.jpg\" alt=\"sequence\" width=\"800\">\n",
    "</div>\n"
   ]
  },
  {
   "cell_type": "markdown",
   "id": "24bb7fb4",
   "metadata": {},
   "source": [
    "## 1. Functions\n",
    "\n",
    "So far we have seen many built-in Python functions. In this section, we will focus on custom functions.\n",
    "What is a function? \n",
    "Before we start making functions, let us learn what a function is and why we need them?\n"
   ]
  },
  {
   "cell_type": "code",
   "execution_count": null,
   "id": "86da0f93-8bc1-4217-aefa-10158c23b162",
   "metadata": {},
   "outputs": [],
   "source": [
    "max?"
   ]
  },
  {
   "cell_type": "markdown",
   "id": "c9410401-3903-4f0c-93f4-da34ac726b08",
   "metadata": {},
   "source": [
    "\n",
    "<div style=\"text-align: center;\">\n",
    "    <img src=\"https://static.javatpoint.com/math/images/function-in-math4.jpg\" alt=\"sequence\" width=\"400\">\n",
    "</div>"
   ]
  },
  {
   "cell_type": "markdown",
   "id": "fe751da3-9710-4d79-af08-f514c20e3df7",
   "metadata": {},
   "source": [
    "`X` as a parameter of the function."
   ]
  },
  {
   "cell_type": "markdown",
   "id": "7974bc2b-0b02-4fe0-bb7c-32ecf385ae4a",
   "metadata": {},
   "source": [
    "### 1.1 Defining a Function\n",
    "\n",
    "Functions are reusable blocks of code that perform specific tasks when called.\n"
   ]
  },
  {
   "cell_type": "markdown",
   "id": "a0bb7f2b-d418-4c92-bf29-5248c8d822a7",
   "metadata": {},
   "source": [
    "\n",
    "### 1.2 Declaring and Calling a Function\n",
    "\n",
    "When we make a function, we call it declaring a function. When we start using the it,  we call it *calling* or *invoking* a function. Function can be declared with or without parameters.\n",
    "\n",
    "```python\n",
    "# syntax\n",
    "# Declaring a function\n",
    "def function_name():\n",
    "    codes\n",
    "    codes\n",
    "# Calling a function\n",
    "function_name()\n",
    "```"
   ]
  },
  {
   "cell_type": "markdown",
   "id": "8c828a8b-dd3c-42c1-9e3c-694b7311ec0e",
   "metadata": {},
   "source": [
    "## 2 Function without Parameters\n",
    "\n",
    "Function can be declared without parameters."
   ]
  },
  {
   "cell_type": "code",
   "execution_count": null,
   "id": "f33dcfe9",
   "metadata": {},
   "outputs": [],
   "source": [
    "def test1():\n",
    "    print('This is  my first python class')"
   ]
  },
  {
   "cell_type": "code",
   "execution_count": null,
   "id": "0d0f5c2d",
   "metadata": {},
   "outputs": [],
   "source": [
    "test1()"
   ]
  },
  {
   "cell_type": "code",
   "execution_count": null,
   "id": "6f7b1eb3",
   "metadata": {},
   "outputs": [],
   "source": [
    "def test2():\n",
    "    '''This is the function that show about\n",
    "    my name\n",
    "    ''' \n",
    "    print('My name is Manon')"
   ]
  },
  {
   "cell_type": "code",
   "execution_count": null,
   "id": "bb1f56e3",
   "metadata": {},
   "outputs": [],
   "source": [
    "def generate_full_name():\n",
    "    ''''''\n",
    "    first_name = 'Manon'\n",
    "    last_name = 'Ya'\n",
    "    space = ' '\n",
    "    full_name = first_name + space + last_name\n",
    "    print(full_name)"
   ]
  },
  {
   "cell_type": "code",
   "execution_count": null,
   "id": "179b85f4",
   "metadata": {},
   "outputs": [],
   "source": [
    "def my_name():\n",
    "    '''This is the function that shown about \n",
    "    my name Manon'''\n",
    "    print('My name is Manon')"
   ]
  },
  {
   "cell_type": "code",
   "execution_count": null,
   "id": "2290afae",
   "metadata": {},
   "outputs": [],
   "source": [
    "def generate_full_name():\n",
    "    first_name = 'Manon'\n",
    "    last_name = 'Ya'\n",
    "    space = ' '\n",
    "    full_name = first_name + space + last_name\n",
    "    print(full_name)"
   ]
  },
  {
   "cell_type": "code",
   "execution_count": null,
   "id": "e6113140",
   "metadata": {},
   "outputs": [],
   "source": [
    "def add_two_numbers ():\n",
    "    num_one = 2\n",
    "    num_two = 3\n",
    "    total = num_one + num_two\n",
    "    sub = num_two-num_one\n",
    "    print(total)"
   ]
  },
  {
   "cell_type": "code",
   "execution_count": null,
   "id": "35be0cdd-602d-4472-8c5e-ae4e80f54176",
   "metadata": {},
   "outputs": [],
   "source": [
    "def add_two_numbers1 ():\n",
    "    num_one = 2\n",
    "    num_two = 3\n",
    "    total = num_one + num_two\n",
    "    sub = num_two-num_one\n",
    "    return total, sub"
   ]
  },
  {
   "cell_type": "code",
   "execution_count": null,
   "id": "5807776f",
   "metadata": {},
   "outputs": [],
   "source": [
    "def print_messages():\n",
    "    print(\"Hello!\")\n",
    "    print(\"Welcome to Python!\")\n",
    "    print(\"Have a nice day!\")\n"
   ]
  },
  {
   "cell_type": "code",
   "execution_count": null,
   "id": "c0d6d3a9",
   "metadata": {},
   "outputs": [],
   "source": [
    "def print_circle():\n",
    "    print(\"   ***   \")\n",
    "    print(\" *     * \")\n",
    "    print(\"*       *\")\n",
    "    print(\" *     * \")\n",
    "    print(\"   ***   \")"
   ]
  },
  {
   "cell_type": "code",
   "execution_count": null,
   "id": "aa5182d4",
   "metadata": {},
   "outputs": [],
   "source": [
    "def print_ascii_art():\n",
    "    print(\" /\\\\_/\\\\\")\n",
    "    print(\"( o.o )\")\n",
    "    print(\" > ^ <\")"
   ]
  },
  {
   "cell_type": "code",
   "execution_count": null,
   "id": "27689169",
   "metadata": {},
   "outputs": [],
   "source": [
    "def simple_calculator():\n",
    "    num1 = float(input(\"Enter first number: \"))\n",
    "    num2 = float(input(\"Enter second number: \"))\n",
    "    print(\"Sum:\", num1 + num2)\n",
    "    print(\"Difference:\", num1 - num2)\n",
    "    print(\"Product:\", num1 * num2)\n",
    "    print(\"Quotient:\", num1 / num2)"
   ]
  },
  {
   "cell_type": "code",
   "execution_count": null,
   "id": "d9e80eac",
   "metadata": {},
   "outputs": [],
   "source": [
    "simple_calculator()"
   ]
  },
  {
   "cell_type": "code",
   "execution_count": null,
   "id": "300d6646",
   "metadata": {},
   "outputs": [],
   "source": [
    "def user_menu():\n",
    "    print(\"1. Option 1\")\n",
    "    print(\"2. Option 2\")\n",
    "    print(\"3. Option 3\")\n",
    "    choice = int(input(\"Enter your choice: \"))\n",
    "    if choice == 1:\n",
    "        print(\"You selected Option 1.\")\n",
    "    elif choice == 2:\n",
    "        print(\"You selected Option 2.\")\n",
    "    elif choice == 3:\n",
    "        print(\"You selected Option 3.\")\n",
    "    else:\n",
    "        print(\"Invalid choice.\")\n"
   ]
  },
  {
   "cell_type": "markdown",
   "id": "faecb7b4",
   "metadata": {},
   "source": [
    "## 3. Function with Parameters\n",
    "\n",
    "In a function we can pass different data types(number, string, boolean, list, tuple, dictionary or set) as a parameter\n",
    "\n",
    "- Single Parameter: If our function takes a parameter we should call our function with an argument\n",
    "\n",
    "```py\n",
    "  # syntax\n",
    "  # Declaring a function\n",
    "  def function_name(parameter):\n",
    "    codes\n",
    "    codes\n",
    "  # Calling function\n",
    "  print(function_name(argument))\n",
    "```"
   ]
  },
  {
   "cell_type": "markdown",
   "id": "6be5da16-8f74-4bb5-988c-51700a3228ab",
   "metadata": {},
   "source": [
    "### 3.1 Function Returning a Value \n",
    "\n",
    "If we do not return a value with a function, then our function is returning _None_ by default. To return a value with a function we use the keyword _return_ followed by the variable we are returning. We can return any kind of data types from a function.\n",
    "\n",
    "- Returning a string:"
   ]
  },
  {
   "cell_type": "code",
   "execution_count": null,
   "id": "086e5daa",
   "metadata": {},
   "outputs": [],
   "source": [
    "def my_name(name):\n",
    "    print('Hello world')\n",
    "    a = ', welcome to Python for Everyone!'\n",
    "    b = name + a\n",
    "    print(b)"
   ]
  },
  {
   "cell_type": "code",
   "execution_count": null,
   "id": "b2d6cddd",
   "metadata": {},
   "outputs": [],
   "source": [
    "def my_name1(name):\n",
    "    print('Hello world')\n",
    "    a = ', welcome to Python for Everyone!'\n",
    "    message = name + a\n",
    "    return message"
   ]
  },
  {
   "cell_type": "code",
   "execution_count": null,
   "id": "3506289c",
   "metadata": {},
   "outputs": [],
   "source": [
    "def add_numbers(a, b):\n",
    "    return a + b"
   ]
  },
  {
   "cell_type": "code",
   "execution_count": null,
   "id": "57a8cace",
   "metadata": {},
   "outputs": [],
   "source": [
    "add_numbers(33895635874724523, 45325943723597203452384574236)"
   ]
  },
  {
   "cell_type": "code",
   "execution_count": null,
   "id": "3f570874",
   "metadata": {},
   "outputs": [],
   "source": [
    "def subtract_numbers(a, b):\n",
    "    z = a - b\n",
    "    return z"
   ]
  },
  {
   "cell_type": "code",
   "execution_count": null,
   "id": "faf42442",
   "metadata": {},
   "outputs": [],
   "source": [
    "def check_even_odd(number):\n",
    "    if number % 2 == 0:\n",
    "        return \"Even\"\n",
    "    else:\n",
    "        return \"Odd\""
   ]
  },
  {
   "cell_type": "code",
   "execution_count": null,
   "id": "abec6de4",
   "metadata": {},
   "outputs": [],
   "source": [
    "check_even_odd(3245235)"
   ]
  },
  {
   "cell_type": "code",
   "execution_count": null,
   "id": "f1a2e94c",
   "metadata": {},
   "outputs": [],
   "source": [
    "def find_max(numbers):\n",
    "    max_value = max(numbers)\n",
    "    return max_value"
   ]
  },
  {
   "cell_type": "code",
   "execution_count": null,
   "id": "11cb9b0c",
   "metadata": {},
   "outputs": [],
   "source": [
    "numbers_list = [8, 2, 10, 5, 3,4,5, 2,3,1,2,3,4,5,6-3433, 3,\n",
    "               33432,3243534534,325543252331,134214321,535435234,\n",
    "               25432,5234452352354231321,324124213421,13214214,324432]\n",
    "find_max(numbers_list)"
   ]
  },
  {
   "cell_type": "code",
   "execution_count": null,
   "id": "3d9d9f4a",
   "metadata": {},
   "outputs": [],
   "source": [
    "def calculate_average(numbers):\n",
    "    total = sum(numbers)\n",
    "    average = total / len(numbers)\n",
    "    return average"
   ]
  },
  {
   "cell_type": "code",
   "execution_count": null,
   "id": "2dae82e7",
   "metadata": {},
   "outputs": [],
   "source": [
    "def calculate_age (current_year, birth_year):\n",
    "    age = current_year - birth_year\n",
    "    return age"
   ]
  },
  {
   "cell_type": "code",
   "execution_count": null,
   "id": "4ca2d7ee",
   "metadata": {},
   "outputs": [],
   "source": [
    "print('Age: ', calculate_age(2021, 1819))"
   ]
  },
  {
   "cell_type": "code",
   "execution_count": null,
   "id": "69a590a0",
   "metadata": {},
   "outputs": [],
   "source": [
    "def simple_calculator(num1, num2, operator):\n",
    "    if operator == \"+\":\n",
    "        return num1 + num2\n",
    "    elif operator == \"-\":\n",
    "        return num1 - num2\n",
    "    elif operator == \"*\":\n",
    "        return num1 * num2\n",
    "    elif operator == \"/\":\n",
    "        return num1 / num2\n",
    "    else:\n",
    "        return \"Invalid operator\"\n",
    "\n",
    "result = simple_calculator(10, 5, \"+\")\n",
    "result = simple_calculator(10, 5, \"-\")\n",
    "print(\"Result:\", result)"
   ]
  },
  {
   "cell_type": "code",
   "execution_count": null,
   "id": "bee3c330",
   "metadata": {},
   "outputs": [],
   "source": [
    "def convert_to_minutes(hours, minutes):\n",
    "    total_minutes = (hours * 60) + minutes\n",
    "    return total_minutes\n",
    "    #\n",
    "hours = 2\n",
    "minutes = 30\n",
    "total_minutes = convert_to_minutes(hours, minutes)\n",
    "print(f\"{hours} hours and {minutes} minutes is {total_minutes} minutes.\")"
   ]
  },
  {
   "cell_type": "code",
   "execution_count": null,
   "id": "e57579c2",
   "metadata": {},
   "outputs": [],
   "source": [
    "def weight_of_object (mass, gravity = 9.81):\n",
    "    weight = str(mass * gravity)+ ' N' # the value has to be changed to string first\n",
    "    return weight"
   ]
  },
  {
   "cell_type": "code",
   "execution_count": null,
   "id": "cb0a936b",
   "metadata": {},
   "outputs": [],
   "source": [
    "weight_of_object(100)"
   ]
  },
  {
   "cell_type": "code",
   "execution_count": null,
   "id": "0f2a18b3",
   "metadata": {},
   "outputs": [],
   "source": [
    "def add_numbers(a, b):\n",
    "    return a + b"
   ]
  },
  {
   "cell_type": "code",
   "execution_count": null,
   "id": "486fe909",
   "metadata": {},
   "outputs": [],
   "source": [
    "add_numbers()"
   ]
  },
  {
   "cell_type": "markdown",
   "id": "29f6339a",
   "metadata": {},
   "source": [
    "- Two Parameter: A function may or may not have a parameter or parameters. A function may also have two or more parameters. If our function takes parameters we should call it with arguments. Let us check a function with two parameters:\n",
    "\n",
    "```py\n",
    "  # syntax\n",
    "  # Declaring a function\n",
    "  def function_name(para1, para2):\n",
    "    codes\n",
    "    codes\n",
    "  # Calling function\n",
    "  print(function_name(arg1, arg2))\n",
    "```"
   ]
  },
  {
   "cell_type": "code",
   "execution_count": null,
   "id": "995e496a",
   "metadata": {},
   "outputs": [],
   "source": [
    "def generate_full_name (first_name, last_name):\n",
    "    space = ' '\n",
    "    full_name = first_name + space + last_name\n",
    "    return full_name\n",
    "print('Full Name: ', generate_full_name('Manon','Ya'))\n",
    "\n",
    "def sum_two_numbers (num_one, num_two):\n",
    "    sum = num_one + num_two\n",
    "    return sum\n",
    "print('Sum of two numbers: ', sum_two_numbers(1, 9))\n",
    "\n",
    "def calculate_age (current_year, birth_year):\n",
    "    age = current_year - birth_year\n",
    "    return age;\n",
    "\n",
    "print('Age: ', calculate_age(2021, 1819))\n",
    "\n",
    "def weight_of_object (mass, gravity):\n",
    "    weight = str(mass * gravity)+ ' N' # the value has to be changed to a string first\n",
    "    return weight\n",
    "print('Weight of an object in Newtons: ', weight_of_object(100, 9.81))"
   ]
  },
  {
   "cell_type": "markdown",
   "id": "18e92db2",
   "metadata": {},
   "source": [
    "### 3.2 Passing Arguments with Key and Value\n",
    "\n",
    "If we pass the arguments with key and value, the order of the arguments does not matter.\n",
    "\n",
    "```py\n",
    "# syntax\n",
    "# Declaring a function\n",
    "def function_name(para1, para2):\n",
    "    codes\n",
    "    codes\n",
    "# Calling function\n",
    "print(function_name(para1 = 'John', para2 = 'Doe')) # the order of arguments does not matter here\n",
    "```"
   ]
  },
  {
   "cell_type": "code",
   "execution_count": null,
   "id": "9fb74b85",
   "metadata": {},
   "outputs": [],
   "source": [
    "def print_fullname(firstname, lastname):\n",
    "    space = ' '\n",
    "    full_name = firstname  + space + lastname\n",
    "    print(full_name)\n",
    "print(print_fullname(firstname = 'Asabeneh', lastname = 'Yetayeh'))\n",
    "\n",
    "def add_two_numbers (num1, num2):\n",
    "    total = num1 + num2\n",
    "    print(total)\n",
    "print(add_two_numbers(num2 = 3, num1 = 2)) # Order does not matter"
   ]
  },
  {
   "cell_type": "code",
   "execution_count": null,
   "id": "ab65b719",
   "metadata": {},
   "outputs": [],
   "source": [
    "def print_name(firstname):\n",
    "    return firstname\n",
    "print_name('Manon') # Asabeneh\n",
    "\n"
   ]
  },
  {
   "cell_type": "code",
   "execution_count": null,
   "id": "49a55c2a",
   "metadata": {},
   "outputs": [],
   "source": [
    "def print_full_name(firstname, lastname):\n",
    "    space = ' '\n",
    "    full_name = firstname  + space + lastname\n",
    "    return full_name\n",
    "print_full_name(firstname='Manon', lastname='Ya')"
   ]
  },
  {
   "cell_type": "markdown",
   "id": "94cf7690",
   "metadata": {},
   "source": [
    "- Returning a number:"
   ]
  },
  {
   "cell_type": "code",
   "execution_count": null,
   "id": "5ce663ef",
   "metadata": {},
   "outputs": [],
   "source": [
    "def add_two_numbers (num1, num2):\n",
    "    total = num1 + num2\n",
    "    return total\n",
    "print(add_two_numbers(2, 3))\n",
    "\n"
   ]
  },
  {
   "cell_type": "code",
   "execution_count": null,
   "id": "826b3233",
   "metadata": {},
   "outputs": [],
   "source": [
    "def calculate_age (current_year, birth_year):\n",
    "    age = current_year - birth_year\n",
    "    return age;\n",
    "print('Age: ', calculate_age(2019, 1819))"
   ]
  },
  {
   "cell_type": "markdown",
   "id": "7dc29981",
   "metadata": {},
   "source": [
    "- Returning a boolean:"
   ]
  },
  {
   "cell_type": "code",
   "execution_count": null,
   "id": "81a58e69",
   "metadata": {},
   "outputs": [],
   "source": [
    "def is_even (n):\n",
    "    if n % 2 == 0:\n",
    "        print('even')\n",
    "        return True    # return stops further execution of the function, similar to break \n",
    "    return False\n",
    "print(is_even(10)) # True\n",
    "print(is_even(7)) # False"
   ]
  },
  {
   "cell_type": "markdown",
   "id": "2c61a092",
   "metadata": {},
   "source": [
    "- Returning a list:"
   ]
  },
  {
   "cell_type": "code",
   "execution_count": null,
   "id": "3ec8e6fc",
   "metadata": {},
   "outputs": [],
   "source": [
    "def find_even_numbers(n):\n",
    "    evens = []\n",
    "    for i in range(n + 1):\n",
    "        if i % 2 == 0:\n",
    "            evens.append(i)\n",
    "    return evens\n",
    "print(find_even_numbers(10))"
   ]
  },
  {
   "cell_type": "markdown",
   "id": "538bc8c3",
   "metadata": {},
   "source": [
    "## 4. Function with Default Parameters\n",
    "\n",
    "Sometimes we pass default values to parameters, when we invoke the function. If we do not pass arguments when calling the function, their default values will be used.\n",
    "\n",
    "```py\n",
    "# syntax\n",
    "# Declaring a function\n",
    "def function_name(param = value):\n",
    "    codes\n",
    "    codes\n",
    "# Calling function\n",
    "function_name()\n",
    "function_name(arg)\n",
    "```"
   ]
  },
  {
   "cell_type": "code",
   "execution_count": null,
   "id": "e22b0725",
   "metadata": {},
   "outputs": [],
   "source": [
    "def greetings (name = 'Peter'):\n",
    "    message = name + ', welcome to Python for Everyone!'\n",
    "    return message"
   ]
  },
  {
   "cell_type": "code",
   "execution_count": null,
   "id": "4dc2aaa6",
   "metadata": {},
   "outputs": [],
   "source": [
    "def generate_full_name (first_name = 'Manon', last_name = 'YA'):\n",
    "    space = ' '\n",
    "    full_name = first_name + space + last_name\n",
    "    return full_name"
   ]
  },
  {
   "cell_type": "code",
   "execution_count": null,
   "id": "9719cae6",
   "metadata": {},
   "outputs": [],
   "source": [
    "def calculate_age (birth_year,current_year = 2021):\n",
    "    age = current_year - birth_year\n",
    "    return age;\n",
    "print('Age: ', calculate_age(1821))"
   ]
  },
  {
   "cell_type": "code",
   "execution_count": null,
   "id": "6cea8c6d",
   "metadata": {},
   "outputs": [],
   "source": [
    "def weight_of_object (mass, gravity = 9.81):\n",
    "    weight = str(mass * gravity)+ ' N' # the value has to be changed to string first\n",
    "    return weight"
   ]
  },
  {
   "cell_type": "markdown",
   "id": "2b28f0b8",
   "metadata": {},
   "source": [
    "### 4.1 Arbitrary Arguments (*args)\n",
    "\n",
    "***args** arguments pass any number of positional arguments as tuples.\n",
    "\n",
    "- If the number of arguments to be passed into the function is unknown, add a (\\*) before the argument name.\n",
    "\n",
    "```python\n",
    "# syntax\n",
    "# Declaring a function\n",
    "def function_name(*args):\n",
    "    codes\n",
    "    codes\n",
    "# Calling function\n",
    "function_name(param1, param2, param3,..)\n",
    "```\n"
   ]
  },
  {
   "cell_type": "code",
   "execution_count": null,
   "id": "2d09685a",
   "metadata": {},
   "outputs": [],
   "source": [
    "def sum_all_nums(*nums):\n",
    "    total = 0\n",
    "    for num in nums:\n",
    "        total += num     # same as total = total + num \n",
    "    return total\n",
    "print(sum_all_nums(2, 3, 5)) # 10"
   ]
  },
  {
   "cell_type": "markdown",
   "id": "79fa6d51",
   "metadata": {},
   "source": [
    "### 4.2 Default and Arbitrary Number of Parameters in Functions\n"
   ]
  },
  {
   "cell_type": "code",
   "execution_count": 6,
   "id": "b6ad894f",
   "metadata": {},
   "outputs": [
    {
     "name": "stdout",
     "output_type": "stream",
     "text": [
      "Team-1\n",
      "Asabeneh\n",
      "Brook\n",
      "David\n",
      "Eyob\n",
      "None\n"
     ]
    }
   ],
   "source": [
    "def generate_groups (team = 'testing',*args):\n",
    "    print(team)\n",
    "    for i in args:\n",
    "        print(i)\n",
    "# print(generate_groups('Team-1','Asabeneh','Brook','David','Eyob'))"
   ]
  },
  {
   "cell_type": "code",
   "execution_count": null,
   "id": "96c8685a",
   "metadata": {},
   "outputs": [],
   "source": []
  }
 ],
 "metadata": {
  "kernelspec": {
   "display_name": "Python 3 (ipykernel)",
   "language": "python",
   "name": "python3"
  },
  "language_info": {
   "codemirror_mode": {
    "name": "ipython",
    "version": 3
   },
   "file_extension": ".py",
   "mimetype": "text/x-python",
   "name": "python",
   "nbconvert_exporter": "python",
   "pygments_lexer": "ipython3",
   "version": "3.11.5"
  }
 },
 "nbformat": 4,
 "nbformat_minor": 5
}
