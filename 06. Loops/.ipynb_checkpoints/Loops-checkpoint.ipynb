{
 "cells": [
  {
   "cell_type": "markdown",
   "id": "16c834f9",
   "metadata": {},
   "source": [
    "### Table of contents\n",
    "<a id=\"toc\"></a>\n",
    "\n",
    "- [1. For Loop](#for-loop)\n",
    "  \n",
    "  - [1.1 Loops with lists]()\n",
    "  - [1.2 Loops with tuples]()\n",
    "  - [1.2 Dictionary]()\n",
    "    \n",
    "- [2. While Loop](#while-loop)\n",
    "- [3. Nested For Loop](#nested-for-loop)\n",
    "- [4. Loop Control]()"
   ]
  },
  {
   "cell_type": "markdown",
   "id": "7698abe1",
   "metadata": {},
   "source": [
    "<a id='loops'></a>\n",
    "## Loops\n",
    "`Python programming language` also provides the following types of two loops:\n",
    "\n",
    "1. For loops\n",
    "2. While Loops"
   ]
  },
  {
   "cell_type": "code",
   "execution_count": null,
   "id": "719fea25-9f51-4b1f-a891-c292bbae7acb",
   "metadata": {},
   "outputs": [],
   "source": [
    "sequence data types: [], (), range(), str"
   ]
  },
  {
   "cell_type": "markdown",
   "id": "1e4fb7c9",
   "metadata": {},
   "source": [
    "<a id='for-loop'></a>\n",
    "## 1. For Loop\n",
    "\n",
    "A _for_ keyword is used to make a for loop, similar with other programming languages, but with some syntax differences. Loop is used for iterating over a sequence (that is either a list, a tuple, a dictionary, a set, or a string).\n",
    "\n",
    "- For loop with list\n",
    "\n",
    "```py\n",
    "# syntax\n",
    "for iterator in lst:\n",
    "    code goes here\n",
    "```\n"
   ]
  },
  {
   "cell_type": "markdown",
   "id": "7d4d049a-c447-49b6-b0a4-1994f868b8d5",
   "metadata": {},
   "source": [
    "### list"
   ]
  },
  {
   "cell_type": "code",
   "execution_count": null,
   "id": "d634894e-793e-46d4-953f-ac0a07868824",
   "metadata": {},
   "outputs": [],
   "source": [
    "exchange_rate = 0.88\n",
    "usd_list = [5.99, 6.99, 9.99, 24.99, 222.99]\n"
   ]
  },
  {
   "cell_type": "code",
   "execution_count": null,
   "id": "ea12a429-efc4-4fdb-935c-b4705a3c5d38",
   "metadata": {},
   "outputs": [],
   "source": [
    "euro_list"
   ]
  },
  {
   "cell_type": "markdown",
   "id": "e3a501dd-e1fd-47a7-b9e3-be2a4d4f5c81",
   "metadata": {},
   "source": [
    "### string"
   ]
  },
  {
   "cell_type": "code",
   "execution_count": null,
   "id": "b98b14db",
   "metadata": {},
   "outputs": [],
   "source": [
    "language = 'Python'"
   ]
  },
  {
   "cell_type": "markdown",
   "id": "024346ee-20e3-49bf-b64c-17e09d737e7c",
   "metadata": {},
   "source": [
    "### range"
   ]
  },
  {
   "cell_type": "markdown",
   "id": "a0c33c62",
   "metadata": {},
   "source": [
    "- For loop with tuple\n",
    "\n",
    "```py\n",
    "# syntax\n",
    "for iterator in tpl:\n",
    "    code goes here\n",
    "```"
   ]
  },
  {
   "cell_type": "code",
   "execution_count": null,
   "id": "cbb8cc42",
   "metadata": {},
   "outputs": [],
   "source": [
    "numbers = (0, 1, 2, 3, 4, 5)\n",
    "for number in numbers:"
   ]
  },
  {
   "cell_type": "markdown",
   "id": "ed0dca6e",
   "metadata": {},
   "source": [
    "### For loop with dictionary\n",
    "\n",
    "  Looping through a dictionary gives you the key of the dictionary.\n",
    "  \n",
    " \n",
    "```py\n",
    "  # syntax\n",
    "for iterator in dct:\n",
    "    code goes here\n",
    "```"
   ]
  },
  {
   "cell_type": "code",
   "execution_count": null,
   "id": "d6196ef1",
   "metadata": {},
   "outputs": [],
   "source": [
    "person = {\n",
    "    'first_name':'Manon',\n",
    "    'last_name':'YA',\n",
    "    'age':250,\n",
    "    'country':'Phnom Penh',\n",
    "    'is_marred':False,\n",
    "    'skills':['Mysql', 'Tensorflow', 'Pytorch', 'MongoDB', 'Python'],\n",
    "    'address': \n",
    "        {'street':'Simple Space',\n",
    "        'zipcode':'02210'}\n",
    "}"
   ]
  },
  {
   "cell_type": "code",
   "execution_count": null,
   "id": "6a7a74c1",
   "metadata": {},
   "outputs": [],
   "source": [
    "person"
   ]
  },
  {
   "cell_type": "code",
   "execution_count": null,
   "id": "957263c6",
   "metadata": {},
   "outputs": [],
   "source": [
    "for key in person:\n",
    "    print(key)"
   ]
  },
  {
   "cell_type": "code",
   "execution_count": null,
   "id": "d5c686a7",
   "metadata": {},
   "outputs": [],
   "source": [
    "person.values()"
   ]
  },
  {
   "cell_type": "code",
   "execution_count": null,
   "id": "ed07ee27",
   "metadata": {},
   "outputs": [],
   "source": [
    "for value in person.values():\n",
    "    print(value)"
   ]
  },
  {
   "cell_type": "code",
   "execution_count": null,
   "id": "3aabd875",
   "metadata": {},
   "outputs": [],
   "source": [
    "person.items()"
   ]
  },
  {
   "cell_type": "code",
   "execution_count": null,
   "id": "76e11b28",
   "metadata": {},
   "outputs": [],
   "source": [
    "for key, value in person.items():\n",
    "    print(key, value) # this way we get both keys and values printed out"
   ]
  },
  {
   "cell_type": "markdown",
   "id": "0294e740",
   "metadata": {},
   "source": [
    "- Loops in set\n",
    "\n",
    "```py\n",
    "# syntax\n",
    "for iterator in st:\n",
    "    code goes here\n",
    "```"
   ]
  },
  {
   "cell_type": "code",
   "execution_count": null,
   "id": "668129be",
   "metadata": {},
   "outputs": [],
   "source": [
    "it_companies = {'Facebook', 'Google', 'Microsoft', 'Apple', 'IBM', 'Oracle', 'Amazon'}"
   ]
  },
  {
   "cell_type": "markdown",
   "id": "99097ed2-84bf-46b4-8f91-91b967fbf9e4",
   "metadata": {},
   "source": [
    "### Enumerate"
   ]
  },
  {
   "cell_type": "code",
   "execution_count": null,
   "id": "61d0fe3d-efae-40a9-9e25-4a53f5cb79be",
   "metadata": {
    "scrolled": true
   },
   "outputs": [],
   "source": [
    "for index, item in enumerate(usd_list):\n",
    "    print(f'This is index {index}: and item:',item)"
   ]
  },
  {
   "cell_type": "code",
   "execution_count": null,
   "id": "80a8e4e8",
   "metadata": {},
   "outputs": [],
   "source": [
    "count = 0\n",
    "while count < 5:\n",
    "    print(count)\n",
    "    count = count + 1"
   ]
  },
  {
   "cell_type": "markdown",
   "id": "0cb60de0",
   "metadata": {},
   "source": [
    "<a id='while-loop'></a>\n",
    "## 2. While Loop\n",
    "\n",
    "\n",
    "```py\n",
    "  # syntax\n",
    "while condition:\n",
    "    code goes here\n",
    "```"
   ]
  },
  {
   "cell_type": "code",
   "execution_count": null,
   "id": "4445d686",
   "metadata": {},
   "outputs": [],
   "source": [
    "count = 1\n",
    "while count <= 6:\n",
    "    print(count)\n",
    "    count = count * 2"
   ]
  },
  {
   "cell_type": "code",
   "execution_count": null,
   "id": "09851807",
   "metadata": {},
   "outputs": [],
   "source": [
    "count = 1\n",
    "while count <= 5:\n",
    "    print(count)\n",
    "    count += 1"
   ]
  },
  {
   "cell_type": "code",
   "execution_count": null,
   "id": "1101077d",
   "metadata": {},
   "outputs": [],
   "source": [
    "count = 1\n",
    "while count <= 6:\n",
    "    print(count)\n",
    "    count = count + 2"
   ]
  },
  {
   "cell_type": "code",
   "execution_count": null,
   "id": "e74637ff",
   "metadata": {},
   "outputs": [],
   "source": [
    "# count = 1\n",
    "# while count <= 6:\n",
    "#     print(count)\n",
    "#     count = count/2"
   ]
  },
  {
   "cell_type": "code",
   "execution_count": null,
   "id": "9d88304f",
   "metadata": {},
   "outputs": [],
   "source": [
    "count = 2\n",
    "while count < 6:\n",
    "    print(count)\n",
    "    count = count + 1"
   ]
  },
  {
   "cell_type": "markdown",
   "id": "805b8e16",
   "metadata": {},
   "source": [
    "<a href=\"#toc\" role=\"button\" aria-pressed=\"true\" >⬆️Back to Table of Contents ⬆️</a>"
   ]
  },
  {
   "cell_type": "markdown",
   "id": "81dd9c3f-7ad2-4597-ac59-5f5fb8bd912f",
   "metadata": {},
   "source": [
    "## 3. Nested Loops"
   ]
  },
  {
   "cell_type": "markdown",
   "id": "65ad3c24-6f7f-483c-a467-e5b9203da7a5",
   "metadata": {},
   "source": [
    "## 4. Loops Control"
   ]
  },
  {
   "cell_type": "code",
   "execution_count": null,
   "id": "1a2a3ed6-0ba0-4870-a6fa-af5f6d7316c1",
   "metadata": {},
   "outputs": [],
   "source": []
  }
 ],
 "metadata": {
  "kernelspec": {
   "display_name": "Python 3 (ipykernel)",
   "language": "python",
   "name": "python3"
  },
  "language_info": {
   "codemirror_mode": {
    "name": "ipython",
    "version": 3
   },
   "file_extension": ".py",
   "mimetype": "text/x-python",
   "name": "python",
   "nbconvert_exporter": "python",
   "pygments_lexer": "ipython3",
   "version": "3.11.5"
  }
 },
 "nbformat": 4,
 "nbformat_minor": 5
}
